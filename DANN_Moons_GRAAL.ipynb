{
  "cells": [
    {
      "cell_type": "markdown",
      "metadata": {
        "id": "view-in-github",
        "colab_type": "text"
      },
      "source": [
        "<a href=\"https://colab.research.google.com/github/leihuang/scrapbook/blob/master/DANN_Moons_GRAAL.ipynb\" target=\"_parent\"><img src=\"https://colab.research.google.com/assets/colab-badge.svg\" alt=\"Open In Colab\"/></a>"
      ]
    },
    {
      "cell_type": "markdown",
      "metadata": {
        "id": "dNx9JsL1BadX"
      },
      "source": [
        "# Import"
      ]
    },
    {
      "cell_type": "code",
      "execution_count": 11,
      "metadata": {
        "id": "sdf174a-vSi8"
      },
      "outputs": [],
      "source": [
        "import os\n",
        "import time\n",
        "import numpy as np\n",
        "from math import sqrt\n",
        "import random\n",
        "import copy\n",
        "\n",
        "import numpy as np\n",
        "import pandas as pd\n",
        "from sklearn.datasets import make_moons\n",
        "from sklearn.decomposition import PCA\n",
        "from matplotlib.colors import ListedColormap\n",
        "from sklearn.metrics import roc_auc_score\n",
        "# from DANN import DANN\n",
        "\n",
        "from matplotlib import pyplot \n",
        "plt = pyplot\n",
        "from scipy.spatial.distance import cdist\n",
        "\n",
        "\n",
        "SEED = 42\n",
        "\n",
        "def set_seed(seed):\n",
        "    random.seed(seed)\n",
        "    np.random.seed(seed)\n",
        "    torch.manual_seed(seed)\n",
        "    torch.cuda.manual_seed(seed)\n",
        "    torch.cuda.manual_seed_all(seed)\n",
        "    torch.backends.cudnn.deterministic = True\n",
        "    torch.backends.cudnn.benchmark = False"
      ]
    },
    {
      "cell_type": "markdown",
      "metadata": {
        "id": "z8NUjtCdvTeS"
      },
      "source": [
        "# DANN class"
      ]
    },
    {
      "cell_type": "code",
      "execution_count": 12,
      "metadata": {
        "id": "tHb6v1qBPJOO"
      },
      "outputs": [],
      "source": [
        "class DANN(object):\n",
        "    def __init__(self, learning_rate=0.05, hidden_layer_size=25, lambda_adapt=1., maxiter=200,  \n",
        "                 epsilon_init=None, adversarial_representation=True, seed=SEED, verbose=False):\n",
        "        \"\"\"\n",
        "        Domain Adversarial Neural Network for classification\n",
        "        \n",
        "        option \"learning_rate\" is the learning rate of the neural network.\n",
        "        option \"hidden_layer_size\" is the hidden layer size.\n",
        "        option \"lambda_adapt\" weights the domain adaptation regularization term.\n",
        "                if 0 or None or False, then no domain adaptation regularization is performed\n",
        "        option \"maxiter\" number of training iterations.\n",
        "        option \"epsilon_init\" is a term used for initialization.\n",
        "                if None the weight matrices are weighted by 6/(sqrt(r+c))\n",
        "                (where r and c are the dimensions of the weight matrix)\n",
        "        option \"adversarial_representation\": if False, the adversarial classifier is trained\n",
        "                but has no impact on the hidden layer representation. The label predictor is\n",
        "                then the same as a standard neural-network one (see experiments_moon.py figures). \n",
        "        option \"seed\" is the seed of the random number generator.\n",
        "        \"\"\"\n",
        "        self.hidden_layer_size = hidden_layer_size\n",
        "        self.maxiter = maxiter\n",
        "        self.lambda_adapt = lambda_adapt if lambda_adapt not in (None, False) else 0.\n",
        "        self.epsilon_init = epsilon_init\n",
        "        self.learning_rate = learning_rate\n",
        "        self.adversarial_representation = adversarial_representation\n",
        "        self.seed = seed\n",
        "        self.verbose = verbose\n",
        "            \n",
        "\n",
        "    def sigmoid(self, z):\n",
        "        \"\"\"\n",
        "        Sigmoid function.\n",
        "        \"\"\"\n",
        "        return 1. / (1. + np.exp(-z))\n",
        "    \n",
        "\n",
        "    def softmax(self, z):\n",
        "        \"\"\"\n",
        "        Softmax function.\n",
        "        \"\"\"\n",
        "        v = np.exp(z)\n",
        "        return v / np.sum(v, axis=0)\n",
        "       \n",
        "\n",
        "    def set_parameter_values(self, **kwargs):\n",
        "        \"\"\"\n",
        "        \"\"\"\n",
        "        self.W, self.V, self.b, self.c, self.U, self.d =\\\n",
        "            copy.copy(kwargs['W']),\\\n",
        "            copy.copy(kwargs['V']),\\\n",
        "            copy.copy(kwargs['b']),\\\n",
        "            copy.copy(kwargs['c']),\\\n",
        "            copy.copy(kwargs['U']),\\\n",
        "            copy.copy(kwargs['d']) \n",
        "\n",
        "\n",
        "    def fit(self, X, Y, X_adapt, X_valid=None, Y_valid=None, do_random_init=True):\n",
        "        \"\"\"         \n",
        "        Trains the domain adversarial neural network until it reaches a total number of\n",
        "        iterations of \"self.maxiter\" since it was initialize.\n",
        "        inputs:\n",
        "              X : Source data matrix\n",
        "              Y : Source labels\n",
        "              X_adapt : Target data matrix\n",
        "              (X_valid, Y_valid) : validation set used for early stopping.\n",
        "              do_random_init : A boolean indicating whether to use random initialization or not.\n",
        "        \"\"\"\n",
        "        nb_examples, nb_features = np.shape(X)\n",
        "        nb_labels = len(set(Y))\n",
        "        nb_examples_adapt, _ = np.shape(X_adapt)\n",
        "\n",
        "        W, V, b, c, U, d = self.W, self.V, self.b, self.c, self.U, self.d \n",
        "\n",
        "        for t in range(self.maxiter):\n",
        "            for i in range(nb_examples):\n",
        "                x_t, y_t = X[i,:], Y[i]\n",
        "                \n",
        "                hidden_layer = self.sigmoid(np.dot(W, x_t) + b)\n",
        "                output_layer = self.softmax(np.dot(V, hidden_layer) + c)\n",
        "                \n",
        "                y_hot = np.zeros(nb_labels)\n",
        "                y_hot[y_t] = 1.0\n",
        "                \n",
        "                delta_c = output_layer - y_hot  \n",
        "                delta_V = np.dot(delta_c.reshape(-1,1), hidden_layer.reshape(1,-1)) \n",
        "                delta_b = np.dot(V.T, delta_c) * hidden_layer * (1.-hidden_layer) \n",
        "                delta_W = np.dot(delta_b.reshape(-1,1), x_t.reshape(1,-1)) \n",
        "                \n",
        "                if self.lambda_adapt == 0.:\n",
        "                    delta_U, delta_d = 0., 0.\n",
        "                else:\n",
        "                    # add domain adaptation regularizer from current domain\n",
        "                    gho_x_t = self.sigmoid(np.dot(U.T, hidden_layer) + d)\n",
        "                    \n",
        "                    delta_d = self.lambda_adapt * (1. - gho_x_t) \n",
        "                    delta_U = delta_d * hidden_layer \n",
        "\n",
        "                    if self.adversarial_representation:\n",
        "                        tmp = delta_d * U * hidden_layer * (1. - hidden_layer)\n",
        "                        delta_b += tmp\n",
        "                        delta_W += tmp.reshape(-1,1) * x_t.reshape(1,-1)\n",
        "                    \n",
        "                    # add domain adaptation regularizer from other domain\n",
        "                    x_t_2 = X_adapt[i, :]\n",
        "                    hidden_layer_2 = self.sigmoid( np.dot(W, x_t_2) + b)\n",
        "                    gho_x_t_2 = self.sigmoid(np.dot(U.T, hidden_layer_2) + d) \n",
        "                    \n",
        "                    delta_d -= self.lambda_adapt * gho_x_t_2 \n",
        "                    delta_U -= self.lambda_adapt * gho_x_t_2 * hidden_layer_2\n",
        "\n",
        "                    if self.adversarial_representation:\n",
        "                        tmp = -self.lambda_adapt * gho_x_t_2 * U * hidden_layer_2 * (1. - hidden_layer_2)\n",
        "                        delta_b += tmp\n",
        "                        delta_W += tmp.reshape(-1,1) * x_t_2.reshape(1,-1)\n",
        "          \n",
        "                W -= delta_W * self.learning_rate\n",
        "                b -= delta_b * self.learning_rate\n",
        "     \n",
        "                V -= delta_V * self.learning_rate\n",
        "                c -= delta_c * self.learning_rate\n",
        "                \n",
        "                U += delta_U * self.learning_rate \n",
        "                d += delta_d * self.learning_rate \n",
        "            # END for i in range(nb_examples)\n",
        "\n",
        "            self.W, self.V, self.b, self.c, self.U, self.d = W, V, b, c, U, d\n",
        "        # END for t in range(self.maxiter)\n",
        "            \n",
        "\n",
        "    def forward(self, X):\n",
        "        \"\"\"\n",
        "         Compute and return the network outputs for X, i.e., a 2D array of size len(X) by len(set(Y)).\n",
        "         the ith row of the array contains output probabilities for each class for the ith example.\n",
        "         \n",
        "        \"\"\"\n",
        "        hidden_layer = self.sigmoid(np.dot(self.W, X.T) + self.b[:,np.newaxis])\n",
        "        output_layer = self.softmax(np.dot(self.V, hidden_layer) + self.c[:,np.newaxis])\n",
        "        return output_layer\n",
        "\n",
        "\n",
        "    def hidden_representation(self, X):\n",
        "        \"\"\"\n",
        "         Compute and return the network hidden layer values for X.\n",
        "        \"\"\"\n",
        "        hidden_layer = self.sigmoid(np.dot(self.W, X.T) + self.b[:,np.newaxis])\n",
        "        return hidden_layer.T\n",
        "\n",
        "\n",
        "    def predict(self, X):\n",
        "        \"\"\"\n",
        "         Compute and return the label predictions for X, i.e., a 1D array of size len(X).\n",
        "         the ith row of the array contains the predicted class for the ith example .\n",
        "        \"\"\"\n",
        "        output_layer = self.forward(X)\n",
        "        return np.argmax(output_layer, 0)\n",
        "\n",
        "\n",
        "    def predict_domain(self, X):\n",
        "        \"\"\"\n",
        "         Compute and return the domain predictions for X, i.e., a 1D array of size len(X).\n",
        "         the ith row of the array contains the predicted domain (0 or 1) for the ith example.\n",
        "        \"\"\"\n",
        "        hidden_layer = self.sigmoid(np.dot(self.W, X.T) + self.b[:, np.newaxis])\n",
        "        output_layer = self.sigmoid(np.dot(self.U, hidden_layer) + self.d)\n",
        "        return np.array(output_layer < .5, dtype=int)"
      ]
    },
    {
      "cell_type": "markdown",
      "metadata": {
        "id": "e1z1qnPSvb40"
      },
      "source": [
        "# main()"
      ]
    },
    {
      "cell_type": "code",
      "execution_count": 13,
      "metadata": {
        "id": "8_fQdNd3O7FA"
      },
      "outputs": [],
      "source": [
        "def main():\n",
        "    X, y, Xt, yt = make_trans_moons(35, nb=150)\n",
        "    Xall = np.vstack((X, Xt))\n",
        "\n",
        "    special = np.array([[-2.4, -1.6], [-1.2, 0.4], [.8, -.5], [2.5, 1.5]])\n",
        "    special_points = Xall[np.argmin(cdist(special, Xall), axis=1), :]\n",
        "\n",
        "    # Standard NN\n",
        "    algo = DANN(hidden_layer_size=15, maxiter=500, lambda_adapt=6., seed=42, adversarial_representation=False)\n",
        "    algo.fit(X, y, Xt)\n",
        "\n",
        "\n",
        "    pyplot.figure(figsize=(20,10))\n",
        "    pyplot.subplot(2, 4, 1)\n",
        "    pyplot.title(\"NN: Label classification\")\n",
        "    draw_trans_data(X, y, Xt, algo.predict, special_points=special_points,\n",
        "                    special_xytext=[(40, -15), (-30, -80), (-50, 40), (-70, 0)])\n",
        "\n",
        "    pyplot.subplot(2, 4, 2)\n",
        "    pyplot.title(\"NN: Representation PCA\")\n",
        "    run_pca(X, y, Xt, algo, special_points=special_points, mult=[-1, -1])\n",
        "\n",
        "    pyplot.subplot(2, 4, 3)\n",
        "    pyplot.title(\"NN: Domain classification\")\n",
        "    draw_trans_data(X, y, Xt, algo.predict_domain, colormap_index=1)\n",
        "\n",
        "    pyplot.subplot(2, 4, 4)\n",
        "    pyplot.title(\"NN: Hidden neurons\")\n",
        "    draw_trans_data(X, y, Xt, neurons_to_draw=(algo.W, algo.b))\n",
        "\n",
        "    # DANN\n",
        "    algo = DANN(hidden_layer_size=15, maxiter=500, lambda_adapt=6., seed=42)\n",
        "    algo.fit(X, y, Xt)\n",
        "\n",
        "    pyplot.subplot(2, 4, 5)\n",
        "    pyplot.title(\"DANN: Label classification\")\n",
        "    draw_trans_data(X, y, Xt, algo.predict,  special_points=special_points,\n",
        "                    special_xytext=[(50,-15), (-20,-90), (-50,40), (-80,0)] )\n",
        "\n",
        "    pyplot.subplot(2, 4, 6)\n",
        "    pyplot.title(\"DANN: Representation PCA\")\n",
        "    run_pca(X, y, Xt, algo, special_points=special_points, mult=[-1,1],\n",
        "            special_xytext=[(-10,-80), (50,-60), (-40,50), (-20,70)])\n",
        "\n",
        "    pyplot.subplot(2, 4, 7)\n",
        "    pyplot.title(\"DANN: Domain classification\")\n",
        "    draw_trans_data(X, y, Xt, algo.predict_domain, colormap_index=1)\n",
        "\n",
        "    pyplot.subplot(2, 4, 8)\n",
        "    pyplot.title(\"DANN: Hidden neurons\")\n",
        "    draw_trans_data(X, y, Xt, neurons_to_draw=(algo.W, algo.b))\n",
        "\n",
        "    pyplot.show()\n",
        "\n",
        "\n",
        "def make_trans_moons(theta=40, nb=100, noise=.05):\n",
        "    from math import cos, sin, pi\n",
        "    \n",
        "    X, y = make_moons(nb, noise=noise, random_state=1) \n",
        "    Xt, yt = make_moons(nb, noise=noise, random_state=2)\n",
        "    \n",
        "    trans = -np.mean(X, axis=0) \n",
        "    X  = 2*(X+trans)\n",
        "    Xt = 2*(Xt+trans)\n",
        "    \n",
        "    theta = -theta*pi/180\n",
        "    rotation = np.array( [  [cos(theta), sin(theta)], [-sin(theta), cos(theta)] ] )\n",
        "    Xt = np.dot(Xt, rotation.T)\n",
        "    \n",
        "    return X, y, Xt, yt\n",
        "\n",
        "\n",
        "def draw_trans_data(X, y, Xt, predict_fct=None, neurons_to_draw=None, colormap_index=0, special_points=None, special_xytext=None):\n",
        "    # Some line of codes come from: http://scikit-learn.org/stable/auto_examples/classification/plot_classifier_comparison.html\n",
        "\n",
        "    if colormap_index==0:\n",
        "        cm_bright = ListedColormap(['#FF0000', '#00FF00'])\n",
        "    else:\n",
        "        cm_bright = ListedColormap(['#0000FF', '#000000'])\n",
        "\n",
        "    x_min, x_max = 1.1*X[:, 0].min(), 1.1*X[:, 0].max()\n",
        "    y_min, y_max = 1.5*X[:, 1].min(), 1.5*X[:, 1].max()\n",
        "        \n",
        "    pyplot.xlim((x_min,x_max))\n",
        "    pyplot.ylim((y_min,y_max))\n",
        "    \n",
        "    pyplot.tick_params(direction='in', labelleft=False)    \n",
        "\n",
        "    if predict_fct is not None:\n",
        "        h = .02  # step size in the mesh\n",
        "\n",
        "        xx, yy = np.meshgrid(np.arange(x_min, x_max, h),\n",
        "                             np.arange(y_min, y_max, h))\n",
        "        \n",
        "        Z = predict_fct(np.c_[xx.ravel(), yy.ravel()])\n",
        "        Z = Z.reshape(xx.shape)\n",
        "        pyplot.contourf(xx, yy, Z, cmap=cm_bright, alpha=.4)\n",
        "        pyplot.contour(xx, yy, Z, colors='black', linewidths=5)\n",
        "\n",
        "    if X is not None:\n",
        "        for i in range(len(y)):\n",
        "            if y[i] == 1:\n",
        "                pyplot.annotate(\"-\", X[i,:], color=\"green\", size=50*1.5, textcoords='offset points', xytext=(-6*1.5,-13*1.5))\n",
        "            else:\n",
        "                pyplot.annotate(\"+\", X[i,:], color=\"red\", size=30*1.5, textcoords='offset points', xytext=(-8*1.5,-8*1.5))\n",
        "\n",
        "    if Xt is not None:\n",
        "        pyplot.scatter(Xt[:, 0], Xt[:, 1], c='k', s=40)\n",
        "\n",
        "    if special_points is not None:\n",
        "        for i in range(np.shape(special_points)[0]):\n",
        "            if special_xytext is None:\n",
        "                xytext = (30,45) if i%2 == 1 else (-40,-60)\n",
        "            else:\n",
        "                xytext = special_xytext[i]\n",
        "                \n",
        "            pyplot.annotate('ABCDEFG'[i], special_points[i,:], xycoords='data', color=\"blue\",\n",
        "                xytext=xytext, textcoords='offset points',\n",
        "                size=32,\n",
        "                arrowprops=dict(arrowstyle=\"fancy\", fc=(0., 0., 1.), ec=\"none\", connectionstyle=\"arc3,rad=0.0\"))\n",
        "        \n",
        "    if neurons_to_draw is not None:\n",
        "        for w12, b in zip(neurons_to_draw[0], neurons_to_draw[1]):\n",
        "            w1, w2 = w12\n",
        "            get_y = lambda x: -(w1*x+b)/w2\n",
        "            pyplot.plot([x_min,x_max], [get_y(x_min), get_y(x_max)])\n",
        "\n",
        "\n",
        "def run_pca(X, y, Xt, algo, special_points=None, special_xytext=None, mult=None):\n",
        "    if mult is None: # mult is used to flip the representation\n",
        "        mult = np.ones(2)\n",
        "\n",
        "    h_X = algo.hidden_representation(X)\n",
        "    h_Xt = algo.hidden_representation(Xt)\n",
        "\n",
        "    pca = PCA(n_components=2)\n",
        "    pca.fit(np.vstack((h_X, h_Xt)))\n",
        "\n",
        "    if special_points is not None:\n",
        "        special_points = mult*pca.transform(algo.hidden_representation(special_points))\n",
        "\n",
        "    draw_trans_data(mult*pca.transform(h_X), y, mult*pca.transform(h_Xt), special_points=special_points,\n",
        "                    special_xytext=special_xytext)"
      ]
    },
    {
      "cell_type": "code",
      "execution_count": 14,
      "metadata": {
        "id": "Vpnf8Qt1vnd4"
      },
      "outputs": [],
      "source": [
        "# main()"
      ]
    },
    {
      "cell_type": "code",
      "execution_count": 15,
      "metadata": {
        "id": "rdWaR-ZfPL3s"
      },
      "outputs": [],
      "source": [
        "X, y, Xt, yt = make_trans_moons(35, nb=150)\n",
        "Xall = np.vstack((X, Xt))\n",
        "\n",
        "# Standard NN\n",
        "algo0 = DANN(hidden_layer_size=15, maxiter=500, lambda_adapt=6., seed=42, adversarial_representation=False)\n",
        "# algo0.fit(X, y, Xt)\n",
        "\n",
        "# DANN\n",
        "algo = DANN(hidden_layer_size=15, maxiter=500, lambda_adapt=6., seed=42)\n",
        "# algo.fit(X, y, Xt, do_random_init=False)"
      ]
    },
    {
      "cell_type": "markdown",
      "metadata": {
        "id": "nnCsbzscvv8w"
      },
      "source": [
        "# Pytorch"
      ]
    },
    {
      "cell_type": "code",
      "execution_count": 16,
      "metadata": {
        "id": "3wx1dt_XugWz"
      },
      "outputs": [],
      "source": [
        "import torch\n",
        "import torch.nn as nn\n",
        "import torch.nn.functional as F\n",
        "from torch.autograd import Variable, Function\n",
        "from torch.utils.data import Dataset, DataLoader\n",
        "import tqdm\n",
        "\n",
        "\n",
        "class ReverseLayerF(Function):\n",
        "    @staticmethod\n",
        "    def forward(ctx, x, alpha):\n",
        "        ctx.alpha = alpha\n",
        "        return x.view_as(x)\n",
        "    \n",
        "    @staticmethod\n",
        "    def backward(ctx, grad_output):\n",
        "        output = grad_output.neg() * ctx.alpha\n",
        "        return output, None\n",
        "\n",
        "\n",
        "class AdversarialLoss(nn.Module):\n",
        "    def __init__(self):\n",
        "        super(AdversarialLoss, self).__init__()\n",
        "        self.Gd = nn.Sequential(nn.Linear(15, 1), nn.Sigmoid())\n",
        "        \n",
        "    def forward(self, Xs, Xt):\n",
        "        loss_adv_source = self.get_adversarial_result(Xs, domain='source')\n",
        "        loss_adv_target = self.get_adversarial_result(Xt, domain='target')\n",
        "        loss_adv = 1 * (loss_adv_source + loss_adv_target)\n",
        "        return loss_adv\n",
        "    \n",
        "    def get_adversarial_result(self, X, domain):\n",
        "        X = ReverseLayerF.apply(X, 1)\n",
        "        dh = self.Gd(X)\n",
        "        if domain == 'source':\n",
        "            d = torch.ones(len(X), 1).long()\n",
        "        elif domain == 'target':\n",
        "            d = torch.zeros(len(X), 1).long()\n",
        "        else:\n",
        "            raise ValueError\n",
        "        loss_fn = nn.BCELoss()\n",
        "        loss_adv = loss_fn(dh, d.float())\n",
        "        return loss_adv\n",
        "\n",
        "\n",
        "class DANN2(nn.Module):\n",
        "    def __init__(self):\n",
        "        super(DANN2, self).__init__()\n",
        "        self.Gf = nn.Sequential(nn.Linear(2, 15), nn.Sigmoid())\n",
        "        self.Gy = nn.Sequential(nn.Linear(15, 1), nn.Sigmoid())\n",
        "        self.adv = AdversarialLoss()\n",
        "\n",
        "    def forward(self, Xs, Xt):\n",
        "        Xs_ = self.Gf(Xs)\n",
        "        Xt_ = self.Gf(Xt)\n",
        "        yhs = self.Gy(Xs_)[:,0]\n",
        "        loss_adv = self.adv(Xs_, Xt_) \n",
        "        return yhs, loss_adv\n",
        "\n",
        "    def predict(self, X):\n",
        "        X_ = self.Gf(X)\n",
        "        yh = self.Gy(X_)\n",
        "        return yh\n",
        "\n",
        "\n",
        "    def get_optimizer(self, **kwargs):\n",
        "        \"\"\"\n",
        "        \"\"\"\n",
        "        lr = kwargs['lr']\n",
        "        momentum = kwargs['momentum']\n",
        "\n",
        "        params = [{'params': self.Gf.parameters(), 'lr': lr},  \n",
        "                  {'params': self.Gy.parameters(), 'lr': lr},\n",
        "                  {'params': self.adv.domain_classifier.parameters(), 'lr': lr}]\n",
        "            \n",
        "        optimizer = torch.optim.SGD(params, lr=lr, momentum=momentum)  \n",
        "        return optimizer\n",
        "\n",
        "\n",
        "class CustomDataset(Dataset):\n",
        "    \"\"\"\n",
        "    \"\"\"\n",
        "    def __init__(self, X, y):\n",
        "        self.X = X\n",
        "        self.y = y\n",
        "\n",
        "    def __len__(self):\n",
        "        return len(self.X)\n",
        "\n",
        "    def __getitem__(self, index):\n",
        "        X_ = self.X[index]\n",
        "        y_ = self.y[index]\n",
        "        return X_, y_\n",
        "\n",
        "\n",
        "def get_W(net):\n",
        "    return dict(net.Gf.named_parameters())['0.weight'].data.detach().numpy()\n",
        "\n",
        "def get_b(net):\n",
        "    return dict(net.Gf.named_parameters())['0.bias'].data.detach().numpy()\n",
        "\n",
        "def get_V(net):\n",
        "    return dict(net.Gy.named_parameters())['0.weight'].data.detach().numpy()\n",
        "\n",
        "def get_c(net):\n",
        "    return dict(net.Gy.named_parameters())['0.bias'].data.detach().numpy()\n",
        "\n",
        "def get_U(net):\n",
        "    return dict(net.Gd.named_parameters())['0.weight'].data.detach().numpy()\n",
        "\n",
        "def get_d(net):\n",
        "    return dict(net.Gd.named_parameters())['0.bias'].data.detach().numpy()[0]"
      ]
    },
    {
      "cell_type": "code",
      "execution_count": 17,
      "metadata": {
        "id": "irf0IkjDu9aI"
      },
      "outputs": [],
      "source": [
        "class DANN3(nn.Module):\n",
        "    def __init__(self, width, domain_adversarial=False):\n",
        "        super(DANN3, self).__init__()\n",
        "        self.Gf = nn.Sequential(nn.Linear(2, width), nn.Sigmoid())\n",
        "        self.Gy = nn.Sequential(nn.Linear(width, 2))\n",
        "        self.domain_adversarial = domain_adversarial \n",
        "        if domain_adversarial:\n",
        "            self.Gd = nn.Sequential(nn.Linear(width, 1), nn.Sigmoid())\n",
        "\n",
        "    def forward(self, X):\n",
        "        X_ = self.Gf(X)\n",
        "        yhat = self.Gy(X_)\n",
        "        if self.domain_adversarial:\n",
        "            dhat = self.Gd(ReverseLayerF.apply(X_, 1))[:,0]\n",
        "            return yhat, dhat\n",
        "        else:\n",
        "            return yhat\n",
        "\n",
        "    def predict_proba(self, X):\n",
        "        X_ = self.Gf(X)\n",
        "        yhat = self.Gy(X_)\n",
        "        p = torch.nn.Softmax()(yhat)[:,1]\n",
        "        return p\n",
        "\n",
        "        \n",
        "\n",
        "    # def get_optimizer(self, lr):\n",
        "    #     \"\"\"\n",
        "    #     \"\"\"\n",
        "    #     params = [{'params': self.Gf.parameters(), 'lr': lr},  \n",
        "    #               {'params': self.Gy.parameters(), 'lr': lr},\n",
        "    #               #{'params': self.Gd.parameters(), 'lr': lr}\n",
        "    #               ]\n",
        "    #     optimizer = torch.optim.SGD(params, lr=lr)\n",
        "    #     return optimizer"
      ]
    },
    {
      "cell_type": "markdown",
      "source": [
        "# Match"
      ],
      "metadata": {
        "id": "_Z2KkZd_jfJS"
      }
    },
    {
      "cell_type": "code",
      "execution_count": 29,
      "metadata": {
        "colab": {
          "base_uri": "https://localhost:8080/",
          "height": 278
        },
        "id": "nQEWm-h4y4Ao",
        "outputId": "39a3356e-f2d2-4adf-ebc3-ddb6c5f56f2a"
      },
      "outputs": [
        {
          "output_type": "display_data",
          "data": {
            "text/plain": [
              "<Figure size 648x288 with 2 Axes>"
            ],
            "image/png": "[encoded data removed]"
          },
          "metadata": {
            "needs_background": "light"
          }
        }
      ],
      "source": [
        "set_seed(SEED)\n",
        "net3_ = DANN3(15, domain_adversarial=True).double()\n",
        "\n",
        "params = {}\n",
        "for name, param in net3_.named_parameters():\n",
        "    params[name] = param.data.numpy()\n",
        "params = pd.Series(params)\n",
        "\n",
        "params.rename({'Gf.0.weight': 'W', \n",
        "               'Gf.0.bias': 'b',\n",
        "               'Gy.0.weight': 'V',\n",
        "               'Gy.0.bias': 'c',\n",
        "               'Gd.0.weight': 'U',\n",
        "               'Gd.0.bias': 'd'}, inplace=True)\n",
        "params = params.to_dict()\n",
        "params['U'] = params['U'].flatten()\n",
        "params['d'] = params['d'][0]\n",
        "\n",
        "maxiter = 500\n",
        "\n",
        "net0 = DANN(hidden_layer_size=15, learning_rate=0.05, lambda_adapt=6., seed=SEED, maxiter=maxiter, adversarial_representation=False)\n",
        "net0.set_parameter_values(**params)\n",
        "net0.fit(X, y, Xt, do_random_init=False)\n",
        "\n",
        "pyplot.figure(figsize=(9,4))\n",
        "pyplot.subplot(1, 2, 1)\n",
        "pyplot.title(\"NN (AUC = %.3f)\" % roc_auc_score(yt, net0.forward(Xt)[1]))\n",
        "draw_trans_data(X, y, Xt, net0.predict)\n",
        "\n",
        "net = DANN(hidden_layer_size=15, learning_rate=0.05, lambda_adapt=6., seed=SEED, maxiter=maxiter, adversarial_representation=True)\n",
        "net.set_parameter_values(**params)\n",
        "net.fit(X, y, Xt, do_random_init=False)\n",
        "\n",
        "pyplot.subplot(1, 2, 2)\n",
        "pyplot.title(\"DANN (AUC = %.3f)\" % roc_auc_score(yt, net.forward(Xt)[1]))\n",
        "draw_trans_data(X, y, Xt, net.predict)\n",
        "pyplot.show()"
      ]
    },
    {
      "cell_type": "code",
      "source": [
        "X, y, Xt, yt = make_trans_moons(35, nb=150)\n",
        "\n",
        "_X = Variable(torch.from_numpy(X)).double()\n",
        "_y = Variable(torch.from_numpy(y)).long()\n",
        "_Xt = Variable(torch.from_numpy(Xt)).double()\n",
        "_yt = Variable(torch.from_numpy(yt)).long()\n",
        "\n",
        "dataset_src = CustomDataset(_X, _y)\n",
        "dataloader_src = DataLoader(dataset_src, batch_size=1, shuffle=False) \n",
        "\n",
        "dataset_tar = CustomDataset(_Xt, _yt)\n",
        "dataloader_tar = DataLoader(dataset_tar, batch_size=1, shuffle=False) \n",
        "\n",
        "len(dataloader_tar)"
      ],
      "metadata": {
        "colab": {
          "base_uri": "https://localhost:8080/"
        },
        "id": "7br-SPoiidQ8",
        "outputId": "d0b1f30d-9f7d-4134-95b5-ab5a178a0358"
      },
      "execution_count": 30,
      "outputs": [
        {
          "output_type": "execute_result",
          "data": {
            "text/plain": [
              "150"
            ]
          },
          "metadata": {},
          "execution_count": 30
        }
      ]
    },
    {
      "cell_type": "code",
      "source": [
        "set_seed(SEED)\n",
        "net3_ = DANN3(15, domain_adversarial=True).double()\n",
        "\n",
        "params = {}\n",
        "for name, param in net3_.named_parameters():\n",
        "    params[name] = copy.copy(param.data.numpy())\n",
        "params = pd.Series(params)\n",
        "\n",
        "params.rename({'Gf.0.weight': 'W', \n",
        "               'Gf.0.bias': 'b',\n",
        "               'Gy.0.weight': 'V',\n",
        "               'Gy.0.bias': 'c',\n",
        "               'Gd.0.weight': 'U',\n",
        "               'Gd.0.bias': 'd'}, inplace=True)\n",
        "params = params.to_dict()\n",
        "params['U'] = params['U'].flatten()\n",
        "params['d'] = params['d'][0]\n",
        "\n",
        "net = DANN(hidden_layer_size=5, learning_rate=0.05, lambda_adapt=6., seed=SEED, \n",
        "           maxiter=500, adversarial_representation=True, verbose=False)\n",
        "net.set_parameter_values(**params)\n",
        "\n",
        "net.fit(X, y, Xt, do_random_init=False)"
      ],
      "metadata": {
        "id": "oBDh_sC4haV8"
      },
      "execution_count": 31,
      "outputs": []
    },
    {
      "cell_type": "code",
      "source": [
        "set_seed(SEED)\n",
        "net3_ = DANN3(15, domain_adversarial=True).double()\n",
        "\n",
        "params = {}\n",
        "for name, param in net3_.named_parameters():\n",
        "    params[name] = copy.copy(param.data.numpy())\n",
        "params = pd.Series(params)\n",
        "\n",
        "params.rename({'Gf.0.weight': 'W', \n",
        "               'Gf.0.bias': 'b',\n",
        "               'Gy.0.weight': 'V',\n",
        "               'Gy.0.bias': 'c',\n",
        "               'Gd.0.weight': 'U',\n",
        "               'Gd.0.bias': 'd'}, inplace=True)\n",
        "params = params.to_dict()\n",
        "params['U'] = params['U'].flatten()\n",
        "params['d'] = params['d'][0]\n",
        "\n",
        "net0 = DANN(hidden_layer_size=5, learning_rate=0.05, lambda_adapt=6., seed=SEED, \n",
        "            maxiter=500, adversarial_representation=False, verbose=False)\n",
        "net0.set_parameter_values(**params)\n",
        "\n",
        "net0.fit(X, y, Xt, do_random_init=False)"
      ],
      "metadata": {
        "id": "ZQZKREtIEygV"
      },
      "execution_count": 32,
      "outputs": []
    },
    {
      "cell_type": "code",
      "source": [
        "set_seed(SEED)\n",
        "net3_ = DANN3(15, domain_adversarial=True).double()\n",
        "\n",
        "params = {}\n",
        "for name, param in net3_.named_parameters():\n",
        "    params[name] = copy.copy(param.data.numpy())\n",
        "params = pd.Series(params)\n",
        "\n",
        "params.rename({'Gf.0.weight': 'W', \n",
        "               'Gf.0.bias': 'b',\n",
        "               'Gy.0.weight': 'V',\n",
        "               'Gy.0.bias': 'c',\n",
        "               'Gd.0.weight': 'U',\n",
        "               'Gd.0.bias': 'd'}, inplace=True)\n",
        "params = params.to_dict()\n",
        "params['U'] = params['U'].flatten()\n",
        "params['d'] = params['d'][0]\n",
        "\n",
        "net = DANN(hidden_layer_size=15, learning_rate=0.05, lambda_adapt=6, seed=SEED, \n",
        "           maxiter=10, adversarial_representation=True, verbose=False)\n",
        "net.set_parameter_values(**params)\n",
        "\n",
        "\n",
        "nb_examples, nb_features = np.shape(X)\n",
        "nb_labels = len(set(y))\n",
        "\n",
        "W, V, b, c, U, d = net.W, net.V, net.b, net.c, net.U, net.d\n",
        "\n",
        "for t in range(10):\n",
        "    for i in range(nb_examples):\n",
        "        x_t, y_t = X[i,:], y[i]\n",
        "        \n",
        "        hidden_layer = net.sigmoid(np.dot(W, x_t) + b)\n",
        "        output_layer = net.softmax(np.dot(V, hidden_layer) + c)\n",
        "        \n",
        "        y_hot = np.zeros(nb_labels)\n",
        "        y_hot[y_t] = 1.0\n",
        "        \n",
        "        delta_c = output_layer - y_hot  \n",
        "        delta_V = np.dot(delta_c.reshape(-1,1), hidden_layer.reshape(1,-1)) \n",
        "        delta_b = np.dot(V.T, delta_c) * hidden_layer * (1.-hidden_layer) \n",
        "        delta_W = np.dot(delta_b.reshape(-1,1), x_t.reshape(1,-1)) \n",
        "\n",
        "        # add domain adaptation regularizer from current domain\n",
        "        gho_x_t = net.sigmoid(np.dot(U.T, hidden_layer) + d)\n",
        "        \n",
        "        delta_d = net.lambda_adapt * (1. - gho_x_t) \n",
        "        delta_U = delta_d * hidden_layer \n",
        "\n",
        "        if net.adversarial_representation:\n",
        "            tmp = delta_d * U * hidden_layer * (1. - hidden_layer)\n",
        "            delta_b += tmp\n",
        "            delta_W += tmp.reshape(-1,1) * x_t.reshape(1,-1)\n",
        "        \n",
        "        # add domain adaptation regularizer from other domain\n",
        "        x_t_2 = Xt[i, :]\n",
        "        hidden_layer_2 = net.sigmoid( np.dot(W, x_t_2) + b)\n",
        "        gho_x_t_2 = net.sigmoid(np.dot(U.T, hidden_layer_2) + d) \n",
        "        \n",
        "        delta_d -= net.lambda_adapt * gho_x_t_2 \n",
        "        delta_U -= net.lambda_adapt * gho_x_t_2 * hidden_layer_2\n",
        "\n",
        "        if net.adversarial_representation:\n",
        "            tmp = -net.lambda_adapt * gho_x_t_2 * U * hidden_layer_2 * (1. - hidden_layer_2)\n",
        "            delta_b += tmp\n",
        "            delta_W += tmp.reshape(-1,1) * x_t_2.reshape(1,-1)\n",
        "    \n",
        "        W -= delta_W * net.learning_rate\n",
        "        b -= delta_b * net.learning_rate\n",
        "\n",
        "        V -= delta_V * net.learning_rate\n",
        "        c -= delta_c * net.learning_rate\n",
        "        \n",
        "        U += delta_U * net.learning_rate \n",
        "        d += delta_d * net.learning_rate "
      ],
      "metadata": {
        "id": "Zb-njmOGzBdp"
      },
      "execution_count": 33,
      "outputs": []
    },
    {
      "cell_type": "code",
      "source": [
        "set_seed(SEED)\n",
        "net3 = DANN3(15, domain_adversarial=True).double()\n",
        "\n",
        "optimizer = torch.optim.SGD(net3.parameters(), lr=0.05)\n",
        "lossfn_y = nn.CrossEntropyLoss()\n",
        "lossfn_d = nn.BCELoss()\n",
        "\n",
        "for epoch in range(500):\n",
        "    net3.train()\n",
        "    for (X_batch_src, y_batch_src), (X_batch_tar, y_batch_tar) in zip(dataloader_src, dataloader_tar):\n",
        "        yhat_src, dhat_src = net3(X_batch_src)\n",
        "        yhat_tar, dhat_tar = net3(X_batch_tar)\n",
        "\n",
        "        loss_y = lossfn_y(yhat_src, y_batch_src)\n",
        "        loss_d_src = lossfn_d(dhat_src, torch.tensor([1.]).double())\n",
        "        loss_d_tar = lossfn_d(dhat_tar, torch.tensor([0.]).double())\n",
        "        loss = loss_y + 6. * (loss_d_src + loss_d_tar)\n",
        "\n",
        "        optimizer.zero_grad()\n",
        "        loss.backward()\n",
        "        optimizer.step()"
      ],
      "metadata": {
        "id": "8ycAmQxgfggc"
      },
      "execution_count": 34,
      "outputs": []
    },
    {
      "cell_type": "code",
      "source": [
        "set_seed(SEED)\n",
        "net2 = DANN3(15, domain_adversarial=False).double()\n",
        "\n",
        "optimizer = torch.optim.SGD(net2.parameters(), lr=0.05)\n",
        "lossfn_y = nn.CrossEntropyLoss()\n",
        "\n",
        "for epoch in range(500):\n",
        "    net2.train()\n",
        "    for (X_batch_src, y_batch_src) in dataloader_src:\n",
        "        yhat_src = net2(X_batch_src)\n",
        "        loss_y = lossfn_y(yhat_src, y_batch_src)\n",
        "        loss = loss_y \n",
        "\n",
        "        optimizer.zero_grad()\n",
        "        loss.backward()\n",
        "        optimizer.step()"
      ],
      "metadata": {
        "id": "wWfEzZh7B_Pw"
      },
      "execution_count": 36,
      "outputs": []
    },
    {
      "cell_type": "code",
      "source": [
        "k = 100\n",
        "x1s = np.linspace(X[:,0].min(), X[:,0].max(), k)\n",
        "x2s = np.linspace(X[:,1].min(), X[:,1].max(), k)\n",
        "\n",
        "x1ss, x2ss = np.meshgrid(x1s, x2s)\n",
        "Xp = np.array(list(zip(x1ss.flatten(), x2ss.flatten())))\n",
        "Xp_ = Variable(torch.from_numpy(Xp)).double()\n",
        "zss = net3.predict_proba(Xp_).detach().numpy().reshape(k, k)\n",
        "\n",
        "fig, ax = plt.subplots()\n",
        "contours = plt.contourf(x1ss, x2ss, zss, [0.001,0.01, 0.1, 0.5, 0.9, 0.99,0.999], cmap='bwr', alpha=0.7)\n",
        "# plt.clabel(contours, inline=True, fontsize=12)\n",
        "plt.colorbar()\n",
        "\n",
        "ax.scatter(*X[y==0].T, color='b')\n",
        "ax.scatter(*X[y==1].T, color='r')\n",
        "ax.scatter(*Xt.T, color='k', s=5)\n",
        "\n",
        "plt.show()"
      ],
      "metadata": {
        "colab": {
          "base_uri": "https://localhost:8080/",
          "height": 307
        },
        "id": "mMRmVLJ4zPB6",
        "outputId": "768c7aca-8616-4d35-e051-8b32455db3bc"
      },
      "execution_count": 37,
      "outputs": [
        {
          "output_type": "stream",
          "name": "stderr",
          "text": [
            "/usr/local/lib/python3.7/dist-packages/ipykernel_launcher.py:22: UserWarning: Implicit dimension choice for softmax has been deprecated. Change the call to include dim=X as an argument.\n"
          ]
        },
        {
          "output_type": "display_data",
          "data": {
            "text/plain": [
              "<Figure size 432x288 with 2 Axes>"
            ],
            "image/png": "[encoded data removed]"
          },
          "metadata": {
            "needs_background": "light"
          }
        }
      ]
    },
    {
      "cell_type": "code",
      "source": [
        "def get_predict_func(net):\n",
        "    def predict_func(X):\n",
        "        X_ = Variable(torch.from_numpy(X)).double()\n",
        "        p = net.predict_proba(X_)\n",
        "        return p.detach().numpy()\n",
        "    return predict_func\n",
        "\n",
        "pyplot.figure(figsize=(9,4))\n",
        "pyplot.subplot(1, 2, 1)\n",
        "pyplot.title(\"NN (AUC = %.3f)\" % roc_auc_score(yt, get_predict_func(net2)(Xt)))\n",
        "draw_trans_data(X, y, Xt, get_predict_func(net2))\n",
        "\n",
        "pyplot.subplot(1, 2, 2)\n",
        "pyplot.title(\"DANN (AUC = %.3f)\" % roc_auc_score(yt, get_predict_func(net3)(Xt)))\n",
        "draw_trans_data(X, y, Xt, get_predict_func(net3))\n",
        "pyplot.show()"
      ],
      "metadata": {
        "colab": {
          "base_uri": "https://localhost:8080/",
          "height": 351
        },
        "id": "MdoZmwYCzO86",
        "outputId": "2e257001-7571-4d1e-d678-67b4479dbeb9"
      },
      "execution_count": 38,
      "outputs": [
        {
          "output_type": "stream",
          "name": "stderr",
          "text": [
            "/usr/local/lib/python3.7/dist-packages/ipykernel_launcher.py:22: UserWarning: Implicit dimension choice for softmax has been deprecated. Change the call to include dim=X as an argument.\n",
            "/usr/local/lib/python3.7/dist-packages/ipykernel_launcher.py:22: UserWarning: Implicit dimension choice for softmax has been deprecated. Change the call to include dim=X as an argument.\n",
            "/usr/local/lib/python3.7/dist-packages/ipykernel_launcher.py:22: UserWarning: Implicit dimension choice for softmax has been deprecated. Change the call to include dim=X as an argument.\n"
          ]
        },
        {
          "output_type": "display_data",
          "data": {
            "text/plain": [
              "<Figure size 648x288 with 2 Axes>"
            ],
            "image/png": "[encoded data removed]"
          },
          "metadata": {
            "needs_background": "light"
          }
        }
      ]
    },
    {
      "cell_type": "code",
      "source": [
        "pyplot.figure(figsize=(9,4))\n",
        "pyplot.subplot(1, 2, 1)\n",
        "pyplot.title(\"NN (AUC = %.3f)\" % roc_auc_score(yt, net0.forward(Xt)[1]))\n",
        "draw_trans_data(X, y, Xt, net0.predict)\n",
        "\n",
        "pyplot.subplot(1, 2, 2)\n",
        "pyplot.title(\"DANN (AUC = %.3f)\" % roc_auc_score(yt, net.forward(Xt)[1]))\n",
        "draw_trans_data(X, y, Xt, net.predict)\n",
        "pyplot.show()"
      ],
      "metadata": {
        "colab": {
          "base_uri": "https://localhost:8080/",
          "height": 278
        },
        "id": "II-3qghaE_5k",
        "outputId": "39fd2935-99ec-49e7-f745-a70dc97d1524"
      },
      "execution_count": 41,
      "outputs": [
        {
          "output_type": "display_data",
          "data": {
            "text/plain": [
              "<Figure size 648x288 with 2 Axes>"
            ],
            "image/png": "[encoded data removed]"
          },
          "metadata": {
            "needs_background": "light"
          }
        }
      ]
    },
    {
      "cell_type": "code",
      "source": [
        ""
      ],
      "metadata": {
        "id": "X4CPbW4mGJHi"
      },
      "execution_count": 39,
      "outputs": []
    }
  ],
  "metadata": {
    "colab": {
      "name": "DANN_Moons_GRAAL.ipynb",
      "toc_visible": true,
      "provenance": [],
      "authorship_tag": "ABX9TyOePgtkuBh8dilfrV4rBdd6",
      "include_colab_link": true
    },
    "kernelspec": {
      "display_name": "Python 3",
      "name": "python3"
    },
    "language_info": {
      "name": "python"
    }
  },
  "nbformat": 4,
  "nbformat_minor": 0
}