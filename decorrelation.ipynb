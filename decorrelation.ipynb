{
  "nbformat": 4,
  "nbformat_minor": 0,
  "metadata": {
    "colab": {
      "name": "decorrelation.ipynb",
      "version": "0.3.2",
      "provenance": [],
      "collapsed_sections": [],
      "include_colab_link": true
    },
    "kernelspec": {
      "name": "python3",
      "display_name": "Python 3"
    }
  },
  "cells": [
    {
      "cell_type": "markdown",
      "metadata": {
        "id": "view-in-github",
        "colab_type": "text"
      },
      "source": [
        "<a href=\"https://colab.research.google.com/github/leihuang/scrapbook/blob/master/decorrelation.ipynb\" target=\"_parent\"><img src=\"https://colab.research.google.com/assets/colab-badge.svg\" alt=\"Open In Colab\"/></a>"
      ]
    },
    {
      "metadata": {
        "id": "Ipfo4Wwb1ZXS",
        "colab_type": "code",
        "colab": {}
      },
      "cell_type": "code",
      "source": [
        "from __future__ import division, print_function\n",
        "\n",
        "import numpy as np\n",
        "import pandas as pd\n",
        "import matplotlib.pyplot as plt\n",
        "import seaborn as sns\n",
        "from sklearn.linear_model import LinearRegression"
      ],
      "execution_count": 0,
      "outputs": []
    },
    {
      "metadata": {
        "id": "hUZeyc431mIN",
        "colab_type": "code",
        "colab": {}
      },
      "cell_type": "code",
      "source": [
        "n = 1000  # sample size\n",
        "rho = 0.5  # correlation\n",
        "p = 3  # total number of features\n",
        "k = 1  # the first k features are regressed first and decorrelated from\n",
        "sigma = 0.1  # noise\n",
        "\n",
        "mu = [0] * p\n",
        "covarmat = np.identity(p)*(1-rho) + np.ones((p,p))*rho\n",
        "\n",
        "np.random.seed(0)\n",
        "X = np.random.multivariate_normal(mu, covarmat, size=n)\n",
        "\n",
        "b = np.array([1, 2, 3])  # the beta vector\n",
        "y = np.dot(X, b) + np.random.randn(n)*sigma"
      ],
      "execution_count": 0,
      "outputs": []
    },
    {
      "metadata": {
        "id": "3AecNjnn4S4F",
        "colab_type": "text"
      },
      "cell_type": "markdown",
      "source": [
        "Given an $n$-by-$p$ matrix $X$  ($n>p$), a **projection operator** that projects any $y \\in \\mathbb{R}^n$ onto the subspace spanned by (the column vectors of) $X$ can be represented by an $n$-by-$n$ matrix:\n",
        "\n",
        "$H = X(X^T X)^{-1} X^T$ (aka the \"*hat matrix*\" in linear regression literature). \n",
        "\n",
        "It's easy to verify: \n",
        "* $HX = X(X^T X)^{-1} X^T X = X$\n",
        "* $HH = X(X^T X)^{-1} X^T X(X^T X)^{-1} X^T = X(X^T X)^{-1} X^T = H$\n",
        "\n",
        "Both are consistent with that $H$ represents a projection operator onto the $X$ subspace.\n",
        "\n",
        "The projection operator to the orthogonal complement of $X$ can be represented by $I - H$. \n",
        "\n",
        "* $\\langle H y, (I-H) y \\rangle = y^T H^T (I - H) y = y^T H^T y - y^T H^T H y = y^T H^T y - y^T H H y = 0$ (it makes use of $H^T = (X(X^T X)^{-1} X^T)^T = X (X^T X)^{-1} X^T = H$ and that the inverse of a symmetric matrix is [also symmetric](https://math.stackexchange.com/a/3162436/224349)).\n",
        "\n",
        "---\n",
        "\n",
        "Computing $X(X^T X)^{-1} X^T$: \n",
        "\n",
        "SVD: $X = U \\Sigma V^T$ \n",
        "\n",
        "$X(X^T X)^{-1} X^T = U \\Sigma V^T (V \\Sigma U^T U \\Sigma V^T)^{-1} V \\Sigma U^T = U \\Sigma V^T (V \\Sigma^2 V^T)^{-1} V \\Sigma U^T = U \\Sigma V^T V \\Sigma^{-2} V^T V \\Sigma U^T = U U^T$"
      ]
    },
    {
      "metadata": {
        "id": "Mch1zkUc2jOR",
        "colab_type": "code",
        "colab": {}
      },
      "cell_type": "code",
      "source": [
        "def decorrelate(X, k):\n",
        "    \"\"\"Return the last p-k columns of X (that is, X[:,k:]) decorrelated \n",
        "    from the first k columns (that is, X[:,:k]). \n",
        "    \"\"\"\n",
        "    assert k < X.shape[1]\n",
        "    U, S, Vt = np.linalg.svd(X[:,:k], full_matrices=False)\n",
        "    return X[:,k:] - np.dot(np.dot(U, U.T), X[:,k:])"
      ],
      "execution_count": 0,
      "outputs": []
    },
    {
      "metadata": {
        "id": "aVcoT01KH0qU",
        "colab_type": "code",
        "colab": {
          "base_uri": "https://localhost:8080/",
          "height": 34
        },
        "outputId": "1362ce39-aafe-447b-ea36-7be13697a04c"
      },
      "cell_type": "code",
      "source": [
        "# regress on all features and recover the coefficients\n",
        "\n",
        "f = LinearRegression(fit_intercept=False).fit(X, y)\n",
        "f.coef_"
      ],
      "execution_count": 4,
      "outputs": [
        {
          "output_type": "execute_result",
          "data": {
            "text/plain": [
              "array([0.99951928, 1.99832752, 2.99811068])"
            ]
          },
          "metadata": {
            "tags": []
          },
          "execution_count": 4
        }
      ]
    },
    {
      "metadata": {
        "id": "BXTkySpOJsT4",
        "colab_type": "code",
        "colab": {
          "base_uri": "https://localhost:8080/",
          "height": 34
        },
        "outputId": "3787f3e9-59b4-40e1-c391-367734ac94fe"
      },
      "cell_type": "code",
      "source": [
        "# regress on the first k features and get biased coefficients\n",
        "\n",
        "X1, X2_ = X[:,:k], decorrelate(X, k)\n",
        "\n",
        "f1 = LinearRegression(fit_intercept=False).fit(X1, y)\n",
        "f1.coef_"
      ],
      "execution_count": 5,
      "outputs": [
        {
          "output_type": "execute_result",
          "data": {
            "text/plain": [
              "array([3.32317414])"
            ]
          },
          "metadata": {
            "tags": []
          },
          "execution_count": 5
        }
      ]
    },
    {
      "metadata": {
        "id": "VoqQq0hCLr1k",
        "colab_type": "code",
        "colab": {
          "base_uri": "https://localhost:8080/",
          "height": 34
        },
        "outputId": "0a1af807-28da-428f-b54d-e823e7b600a2"
      },
      "cell_type": "code",
      "source": [
        "# regress on the other n-k features and get biased coefficients\n",
        "\n",
        "f2 = LinearRegression(fit_intercept=False).fit(X[:,k:], y)\n",
        "f2.coef_"
      ],
      "execution_count": 6,
      "outputs": [
        {
          "output_type": "execute_result",
          "data": {
            "text/plain": [
              "array([2.3276821 , 3.31870148])"
            ]
          },
          "metadata": {
            "tags": []
          },
          "execution_count": 6
        }
      ]
    },
    {
      "metadata": {
        "id": "ypdUAnzLJ5eG",
        "colab_type": "code",
        "colab": {
          "base_uri": "https://localhost:8080/",
          "height": 34
        },
        "outputId": "830b1628-d673-4460-9d33-a0543ffc9999"
      },
      "cell_type": "code",
      "source": [
        "# decorrelate the other n-k features and regress on them,\n",
        "# and recover the coefficients\n",
        "\n",
        "f2_ = LinearRegression(fit_intercept=False).fit(X2_, y)\n",
        "f2_.coef_"
      ],
      "execution_count": 7,
      "outputs": [
        {
          "output_type": "execute_result",
          "data": {
            "text/plain": [
              "array([1.99832752, 2.99811068])"
            ]
          },
          "metadata": {
            "tags": []
          },
          "execution_count": 7
        }
      ]
    },
    {
      "metadata": {
        "id": "FoaAro4zK5WG",
        "colab_type": "code",
        "colab": {
          "base_uri": "https://localhost:8080/",
          "height": 34
        },
        "outputId": "f43d13d0-eab5-4e95-dc9b-a6964a7e33a6"
      },
      "cell_type": "code",
      "source": [
        "# the decorrelated predictions match the true ones\n",
        "\n",
        "np.abs(f.predict(X) - (f1.predict(X1) + f2_.predict(X2_))).max()"
      ],
      "execution_count": 8,
      "outputs": [
        {
          "output_type": "execute_result",
          "data": {
            "text/plain": [
              "7.105427357601002e-15"
            ]
          },
          "metadata": {
            "tags": []
          },
          "execution_count": 8
        }
      ]
    },
    {
      "metadata": {
        "id": "xpFfZPnaLLgP",
        "colab_type": "code",
        "colab": {}
      },
      "cell_type": "code",
      "source": [
        ""
      ],
      "execution_count": 0,
      "outputs": []
    }
  ]
}