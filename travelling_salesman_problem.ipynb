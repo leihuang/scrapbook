{
  "cells": [
    {
      "cell_type": "code",
      "source": [
        "!pip install tsplib95 \n",
        "!pip install alns"
      ],
      "metadata": {
        "id": "8BrSND3-cx7i",
        "outputId": "2c9e1e2f-8f77-441e-9898-cdf28517e3dd",
        "colab": {
          "base_uri": "https://localhost:8080/"
        }
      },
      "execution_count": 11,
      "outputs": [
        {
          "output_type": "stream",
          "name": "stdout",
          "text": [
            "Looking in indexes: https://pypi.org/simple, https://us-python.pkg.dev/colab-wheels/public/simple/\n",
            "Requirement already satisfied: tsplib95 in /usr/local/lib/python3.7/dist-packages (0.7.1)\n",
            "Requirement already satisfied: tabulate~=0.8.7 in /usr/local/lib/python3.7/dist-packages (from tsplib95) (0.8.10)\n",
            "Requirement already satisfied: Deprecated~=1.2.9 in /usr/local/lib/python3.7/dist-packages (from tsplib95) (1.2.13)\n",
            "Requirement already satisfied: Click>=6.0 in /usr/local/lib/python3.7/dist-packages (from tsplib95) (7.1.2)\n",
            "Requirement already satisfied: networkx~=2.1 in /usr/local/lib/python3.7/dist-packages (from tsplib95) (2.6.3)\n",
            "Requirement already satisfied: wrapt<2,>=1.10 in /usr/local/lib/python3.7/dist-packages (from Deprecated~=1.2.9->tsplib95) (1.14.1)\n",
            "Looking in indexes: https://pypi.org/simple, https://us-python.pkg.dev/colab-wheels/public/simple/\n",
            "Requirement already satisfied: alns in /usr/local/lib/python3.7/dist-packages (4.1.0)\n",
            "Requirement already satisfied: numpy>=1.15.2 in /usr/local/lib/python3.7/dist-packages (from alns) (1.21.6)\n",
            "Requirement already satisfied: matplotlib>=2.2.0 in /usr/local/lib/python3.7/dist-packages (from alns) (3.2.2)\n",
            "Requirement already satisfied: cycler>=0.10 in /usr/local/lib/python3.7/dist-packages (from matplotlib>=2.2.0->alns) (0.11.0)\n",
            "Requirement already satisfied: python-dateutil>=2.1 in /usr/local/lib/python3.7/dist-packages (from matplotlib>=2.2.0->alns) (2.8.2)\n",
            "Requirement already satisfied: kiwisolver>=1.0.1 in /usr/local/lib/python3.7/dist-packages (from matplotlib>=2.2.0->alns) (1.4.4)\n",
            "Requirement already satisfied: pyparsing!=2.0.4,!=2.1.2,!=2.1.6,>=2.0.1 in /usr/local/lib/python3.7/dist-packages (from matplotlib>=2.2.0->alns) (3.0.9)\n",
            "Requirement already satisfied: typing-extensions in /usr/local/lib/python3.7/dist-packages (from kiwisolver>=1.0.1->matplotlib>=2.2.0->alns) (4.1.1)\n",
            "Requirement already satisfied: six>=1.5 in /usr/local/lib/python3.7/dist-packages (from python-dateutil>=2.1->matplotlib>=2.2.0->alns) (1.15.0)\n"
          ]
        }
      ]
    },
    {
      "cell_type": "code",
      "execution_count": 12,
      "metadata": {
        "id": "z0_Hhq9ukdlb"
      },
      "outputs": [],
      "source": [
        "import copy\n",
        "import itertools\n",
        "\n",
        "import matplotlib.pyplot as plt\n",
        "import networkx as nx\n",
        "import numpy.random as rnd\n",
        "import tsplib95\n",
        "import tsplib95.distances as distances\n",
        "\n",
        "from alns import ALNS, State\n",
        "from alns.accept import HillClimbing\n",
        "from alns.stop import MaxRuntime\n",
        "from alns.weights import SimpleWeights"
      ]
    },
    {
      "cell_type": "code",
      "execution_count": 13,
      "metadata": {
        "id": "FO6hane_kdlg"
      },
      "outputs": [],
      "source": [
        "%matplotlib inline"
      ]
    },
    {
      "cell_type": "code",
      "execution_count": 14,
      "metadata": {
        "id": "T1vPsPqKkdlh"
      },
      "outputs": [],
      "source": [
        "SEED = 9876"
      ]
    },
    {
      "cell_type": "markdown",
      "metadata": {
        "id": "a9-kBrB_kdlh"
      },
      "source": [
        "# The travelling salesman problem\n",
        "\n",
        "The travelling salesman problem (TSP) is a classic problem in operations research. It asks how to construct the minimum distance tour between a number of nodes, such that each node is visited once and the tour concludes at the starting city (that is, it forms a cycle). It is perhaps the best-known problem in the class of [NP-hard](https://en.wikipedia.org/wiki/NP-hardness) problems.\n",
        "\n",
        "### Data\n",
        "There are a considerable number of test data sets available for the TSP, varying in size from a hundred or so locations to many hundreds of thousands. For the sake of exposition, we shall use one of the smaller data sets: the data from the XQF131 VLSI instance, made available [here](http://www.math.uwaterloo.ca/tsp/vlsi/index.html#XQF131). It consists of 'only' 131 nodes, with an optimal tour length of 564."
      ]
    },
    {
      "cell_type": "code",
      "source": [
        "!wget https://www.math.uwaterloo.ca/tsp/vlsi/xqf131.tsp\n",
        "!wget https://www.math.uwaterloo.ca/tsp/vlsi/xqf131.tour"
      ],
      "metadata": {
        "id": "_DcuEtqic791",
        "outputId": "85e0d51e-d1a6-44e4-c7b8-9decabc3f1d2",
        "colab": {
          "base_uri": "https://localhost:8080/"
        }
      },
      "execution_count": 15,
      "outputs": [
        {
          "output_type": "stream",
          "name": "stdout",
          "text": [
            "--2022-09-30 17:32:18--  https://www.math.uwaterloo.ca/tsp/vlsi/xqf131.tsp\n",
            "Resolving www.math.uwaterloo.ca (www.math.uwaterloo.ca)... 129.97.140.120\n",
            "Connecting to www.math.uwaterloo.ca (www.math.uwaterloo.ca)|129.97.140.120|:443... connected.\n",
            "HTTP request sent, awaiting response... 200 OK\n",
            "Length: 1545 (1.5K) [application/dsptype]\n",
            "Saving to: ‘xqf131.tsp.2’\n",
            "\n",
            "xqf131.tsp.2        100%[===================>]   1.51K  --.-KB/s    in 0s      \n",
            "\n",
            "2022-09-30 17:32:19 (197 MB/s) - ‘xqf131.tsp.2’ saved [1545/1545]\n",
            "\n",
            "--2022-09-30 17:32:19--  https://www.math.uwaterloo.ca/tsp/vlsi/xqf131.tour\n",
            "Resolving www.math.uwaterloo.ca (www.math.uwaterloo.ca)... 129.97.140.120\n",
            "Connecting to www.math.uwaterloo.ca (www.math.uwaterloo.ca)|129.97.140.120|:443... connected.\n",
            "HTTP request sent, awaiting response... 200 OK\n",
            "Length: 638\n",
            "Saving to: ‘xqf131.tour.1’\n",
            "\n",
            "xqf131.tour.1       100%[===================>]     638  --.-KB/s    in 0s      \n",
            "\n",
            "2022-09-30 17:32:19 (81.2 MB/s) - ‘xqf131.tour.1’ saved [638/638]\n",
            "\n"
          ]
        }
      ]
    },
    {
      "cell_type": "code",
      "execution_count": 16,
      "metadata": {
        "id": "sjjSp3YGkdli",
        "outputId": "b0be32b8-f089-4e48-fd46-b4d6949f2a04",
        "colab": {
          "base_uri": "https://localhost:8080/"
        }
      },
      "outputs": [
        {
          "output_type": "stream",
          "name": "stdout",
          "text": [
            "Total optimal tour length is 564.\n"
          ]
        }
      ],
      "source": [
        "data = tsplib95.load('xqf131.tsp')\n",
        "\n",
        "# These we will use in our representation of a TSP problem: a list of\n",
        "# (city, coord)-tuples.\n",
        "cities = [(city, tuple(coord)) for city, coord in data.node_coords.items()]\n",
        "\n",
        "solution = tsplib95.load('xqf131.tour')\n",
        "optimal = data.trace_tours(solution.tours)[0]\n",
        "\n",
        "print(f\"Total optimal tour length is {optimal}.\")"
      ]
    },
    {
      "cell_type": "code",
      "execution_count": 17,
      "metadata": {
        "id": "hXj619RLkdlk"
      },
      "outputs": [],
      "source": [
        "def draw_graph(graph, only_nodes=False):\n",
        "    \"\"\"\n",
        "    Helper method for drawing TSP (tour) graphs.\n",
        "    \"\"\"\n",
        "    fig, ax = plt.subplots(figsize=(12, 6))\n",
        "\n",
        "    if only_nodes:\n",
        "        nx.draw_networkx_nodes(graph, data.node_coords, node_size=25, ax=ax)\n",
        "    else:\n",
        "        nx.draw_networkx(graph, data.node_coords, node_size=25, with_labels=False, ax=ax)"
      ]
    },
    {
      "cell_type": "code",
      "execution_count": 18,
      "metadata": {
        "id": "mpqg-ieTkdlk",
        "outputId": "7243dab3-9cdd-4cbb-a0e9-4ae19c1c45e4",
        "colab": {
          "base_uri": "https://localhost:8080/",
          "height": 357
        }
      },
      "outputs": [
        {
          "output_type": "display_data",
          "data": {
            "text/plain": [
              "<Figure size 864x432 with 1 Axes>"
            ],
            "image/png": "[encoded data removed]"
          },
          "metadata": {}
        }
      ],
      "source": [
        "draw_graph(data.get_graph(), only_nodes=True)"
      ]
    },
    {
      "cell_type": "markdown",
      "metadata": {
        "id": "sUnZT67fkdl6"
      },
      "source": [
        "# Operators and solution state\n",
        "\n",
        "To use the ALNS meta-heuristic, we need to have destroy and repair operators that work on a proposed solution, and a way to describe such a solution in the first place. The ALNS package exposes the class ``State`` to describe a solution, with an ``objective()`` member that computes this solution's objective value. Using it, we may compute a simple initial solution, and then apply the ALNS algorithm."
      ]
    },
    {
      "cell_type": "markdown",
      "metadata": {
        "id": "HC5Z3iDJkdl7"
      },
      "source": [
        "## Solution state"
      ]
    },
    {
      "cell_type": "code",
      "execution_count": 19,
      "metadata": {
        "id": "YQzkRDqokdl7"
      },
      "outputs": [],
      "source": [
        "class TspState(State):\n",
        "    \"\"\"\n",
        "    Solution class for the TSP problem. It has two data members, nodes, and edges.\n",
        "    nodes is a list of node tuples: (id, coords). The edges data member, then, is\n",
        "    a mapping from each node to their only outgoing node.\n",
        "    \"\"\"\n",
        "\n",
        "    def __init__(self, nodes, edges):\n",
        "        self.nodes = nodes\n",
        "        self.edges = edges\n",
        "\n",
        "    def objective(self):\n",
        "        \"\"\"\n",
        "        The objective function is simply the sum of all individual edge lengths,\n",
        "        using the rounded Euclidean norm.\n",
        "        \"\"\"\n",
        "        return sum(distances.euclidean(node[1], self.edges[node][1])\n",
        "                   for node in self.nodes)\n",
        "    \n",
        "    def to_graph(self):\n",
        "        \"\"\"\n",
        "        NetworkX helper method.\n",
        "        \"\"\"\n",
        "        graph = nx.Graph()\n",
        "\n",
        "        for node, coord in self.nodes:\n",
        "            graph.add_node(node, pos=coord)\n",
        "\n",
        "        for node_from, node_to in self.edges.items():\n",
        "            graph.add_edge(node_from[0], node_to[0])\n",
        "\n",
        "        return graph"
      ]
    },
    {
      "cell_type": "markdown",
      "metadata": {
        "id": "D4yNqTXJkdmS"
      },
      "source": [
        "## Destroy operators\n",
        "\n",
        "Destroy operators break parts of a solution down, leaving an incomplete state. This is the first part of each iteration of the ALNS meta-heuristic; the incomplete solution is subsequently repaired by any one repair operator. We will consider three destroy operators: **worst removal**, **path removal** and **random removal**. We will also use a separate parameter, the degree of destruction, to control the extent of the damage done to a solution in each step."
      ]
    },
    {
      "cell_type": "code",
      "execution_count": 20,
      "metadata": {
        "id": "rzUPGhfmkdmT"
      },
      "outputs": [],
      "source": [
        "degree_of_destruction = 0.25\n",
        "\n",
        "def edges_to_remove(state):\n",
        "    return int(len(state.edges) * degree_of_destruction)"
      ]
    },
    {
      "cell_type": "code",
      "execution_count": 21,
      "metadata": {
        "id": "-ci_NQeVkdmT"
      },
      "outputs": [],
      "source": [
        "def worst_removal(current, rnd_state):\n",
        "    \"\"\"\n",
        "    Worst removal iteratively removes the 'worst' edges, that is,\n",
        "    those edges that have the largest distance.\n",
        "    \"\"\"\n",
        "    destroyed = copy.deepcopy(current)\n",
        "\n",
        "    worst_edges = sorted(destroyed.nodes,\n",
        "                         key=lambda node: distances.euclidean(node[1],\n",
        "                                                              destroyed.edges[node][1]))\n",
        "\n",
        "    for idx in range(edges_to_remove(current)):\n",
        "        del destroyed.edges[worst_edges[-(idx + 1)]]\n",
        "\n",
        "    return destroyed"
      ]
    },
    {
      "cell_type": "code",
      "execution_count": 22,
      "metadata": {
        "id": "apr5kBNHkdmU"
      },
      "outputs": [],
      "source": [
        "def path_removal(current, rnd_state):\n",
        "    \"\"\"\n",
        "    Removes an entire consecutive sub-path, that is, a series of\n",
        "    contiguous edges.\n",
        "    \"\"\"\n",
        "    destroyed = copy.deepcopy(current)\n",
        "    \n",
        "    node_idx = rnd_state.choice(len(destroyed.nodes))\n",
        "    node = destroyed.nodes[node_idx]\n",
        "    \n",
        "    for _ in range(edges_to_remove(current)):\n",
        "        node = destroyed.edges.pop(node)\n",
        "\n",
        "    return destroyed"
      ]
    },
    {
      "cell_type": "code",
      "execution_count": 23,
      "metadata": {
        "id": "ROvoB5LBkdmU"
      },
      "outputs": [],
      "source": [
        "def random_removal(current, rnd_state):\n",
        "    \"\"\"\n",
        "    Random removal iteratively removes random edges.\n",
        "    \"\"\"\n",
        "    destroyed = copy.deepcopy(current)\n",
        "    \n",
        "    for idx in rnd_state.choice(len(destroyed.nodes),\n",
        "                                edges_to_remove(current),\n",
        "                                replace=False):\n",
        "        del destroyed.edges[destroyed.nodes[idx]]\n",
        "\n",
        "    return destroyed"
      ]
    },
    {
      "cell_type": "markdown",
      "metadata": {
        "id": "bbke5f07kdmV"
      },
      "source": [
        "## Repair operators\n",
        "\n",
        "We implement a simple, **greedy repair** strategy. It determines a set of nodes that are currently not visited, and then links these up to the tour such that it forms one cycle."
      ]
    },
    {
      "cell_type": "code",
      "execution_count": 24,
      "metadata": {
        "id": "A1vbybz0kdmV"
      },
      "outputs": [],
      "source": [
        "def would_form_subcycle(from_node, to_node, state):\n",
        "    \"\"\"\n",
        "    Ensures the proposed solution would not result in a cycle smaller\n",
        "    than the entire set of nodes. Notice the offsets: we do not count\n",
        "    the current node under consideration, as it cannot yet be part of\n",
        "    a cycle.\n",
        "    \"\"\"\n",
        "    for step in range(1, len(state.nodes)):\n",
        "        if to_node not in state.edges:\n",
        "            return False\n",
        "\n",
        "        to_node = state.edges[to_node]\n",
        "        \n",
        "        if from_node == to_node and step != len(state.nodes) - 1:\n",
        "            return True\n",
        "\n",
        "    return False"
      ]
    },
    {
      "cell_type": "code",
      "execution_count": 25,
      "metadata": {
        "id": "sW_wLpQAkdmW"
      },
      "outputs": [],
      "source": [
        "def greedy_repair(current, rnd_state):\n",
        "    \"\"\"\n",
        "    Greedily repairs a tour, stitching up nodes that are not departed\n",
        "    with those not visited.\n",
        "    \"\"\"\n",
        "    visited = set(current.edges.values())\n",
        "  \n",
        "    # This kind of randomness ensures we do not cycle between the same\n",
        "    # destroy and repair steps every time.\n",
        "    shuffled_idcs = rnd_state.permutation(len(current.nodes))\n",
        "    nodes = [current.nodes[idx] for idx in shuffled_idcs]\n",
        "\n",
        "    while len(current.edges) != len(current.nodes):\n",
        "        node = next(node for node in nodes \n",
        "                    if node not in current.edges)\n",
        "\n",
        "        # Computes all nodes that have not currently been visited,\n",
        "        # that is, those that this node might visit. This should\n",
        "        # not result in a subcycle, as that would violate the TSP\n",
        "        # constraints.\n",
        "        unvisited = {other for other in current.nodes\n",
        "                     if other != node\n",
        "                     if other not in visited\n",
        "                     if not would_form_subcycle(node, other, current)}\n",
        "\n",
        "        # Closest visitable node.\n",
        "        nearest = min(unvisited,\n",
        "                      key=lambda other: distances.euclidean(node[1], other[1]))\n",
        "\n",
        "        current.edges[node] = nearest\n",
        "        visited.add(nearest)\n",
        "\n",
        "    return current"
      ]
    },
    {
      "cell_type": "markdown",
      "metadata": {
        "id": "zSTP0k-_kdmW"
      },
      "source": [
        "## Initial solution"
      ]
    },
    {
      "cell_type": "code",
      "execution_count": 26,
      "metadata": {
        "id": "ZhFYOewCkdmZ",
        "outputId": "11440aae-8d7a-44f3-b23e-6abcb302cf44",
        "colab": {
          "base_uri": "https://localhost:8080/"
        }
      },
      "outputs": [
        {
          "output_type": "stream",
          "name": "stdout",
          "text": [
            "Initial solution objective is 851.\n"
          ]
        }
      ],
      "source": [
        "random_state = rnd.RandomState(SEED)\n",
        "state = TspState(cities, {})\n",
        "\n",
        "init_sol = greedy_repair(state, random_state)\n",
        "print(f\"Initial solution objective is {init_sol.objective()}.\")"
      ]
    },
    {
      "cell_type": "code",
      "execution_count": 27,
      "metadata": {
        "id": "WK9QD8f0kdmd",
        "outputId": "afbf58ea-b2b7-4426-dfd4-69e37d8e8324",
        "colab": {
          "base_uri": "https://localhost:8080/",
          "height": 357
        }
      },
      "outputs": [
        {
          "output_type": "display_data",
          "data": {
            "text/plain": [
              "<Figure size 864x432 with 1 Axes>"
            ],
            "image/png": "[encoded data removed]"
          },
          "metadata": {}
        }
      ],
      "source": [
        "draw_graph(init_sol.to_graph())"
      ]
    },
    {
      "cell_type": "markdown",
      "metadata": {
        "id": "Fjapwn1Qkdmd"
      },
      "source": [
        "# Heuristic solution\n",
        "\n",
        "Here we perform the ALNS procedure. The heuristic is given 60 seconds of runtime."
      ]
    },
    {
      "cell_type": "code",
      "execution_count": 28,
      "metadata": {
        "id": "uPjG0i5Pkdmd"
      },
      "outputs": [],
      "source": [
        "alns = ALNS(random_state)\n",
        "\n",
        "alns.add_destroy_operator(random_removal)\n",
        "alns.add_destroy_operator(path_removal)\n",
        "alns.add_destroy_operator(worst_removal)\n",
        "\n",
        "alns.add_repair_operator(greedy_repair)"
      ]
    },
    {
      "cell_type": "code",
      "execution_count": null,
      "metadata": {
        "id": "a1w7i9EJkdmh"
      },
      "outputs": [],
      "source": [
        "criterion = HillClimbing()\n",
        "weight_scheme = SimpleWeights([3, 2, 1, 0.5], 3, 1, 0.8)\n",
        "stop = MaxRuntime(60)\n",
        "\n",
        "result = alns.iterate(init_sol, weight_scheme, criterion, stop)"
      ]
    },
    {
      "cell_type": "code",
      "execution_count": null,
      "outputs": [],
      "source": [
        "solution = result.best_state\n",
        "objective = solution.objective()\n",
        "pct_difference = 100 * (objective - optimal) / optimal\n",
        "\n",
        "print(f\"Best heuristic objective is {objective}.\")\n",
        "print(f\"This is {pct_difference:.1f}% worse than the optimal solution, which is {optimal}.\")"
      ],
      "metadata": {
        "pycharm": {
          "name": "#%%\n"
        },
        "id": "NTNRpCGqkdmi"
      }
    },
    {
      "cell_type": "code",
      "execution_count": null,
      "metadata": {
        "id": "vX8tFI6ikdmi"
      },
      "outputs": [],
      "source": [
        "_, ax = plt.subplots(figsize=(12, 6))\n",
        "result.plot_objectives(ax=ax, lw=2)"
      ]
    },
    {
      "cell_type": "markdown",
      "metadata": {
        "id": "eK56uVyXkdmj"
      },
      "source": [
        "Let's have a look at the solution:"
      ]
    },
    {
      "cell_type": "code",
      "execution_count": null,
      "metadata": {
        "id": "fvXUPzdFkdmj"
      },
      "outputs": [],
      "source": [
        "draw_graph(solution.to_graph())"
      ]
    },
    {
      "cell_type": "markdown",
      "metadata": {
        "id": "m6q0v4JRkdmp"
      },
      "source": [
        "## Post-processing\n",
        "\n",
        "It is not difficult to see that the above solution can easily be improved upon: there are plenty of inefficiencies in small subpaths near both the center and the various corners of the tour. We will partially remedy this with a single pass over all nodes, optimally choosing a subpath of length ``k`` starting at each of these nodes. Since such a process is computationally demanding, we select ``k = 7``."
      ]
    },
    {
      "cell_type": "code",
      "execution_count": null,
      "metadata": {
        "id": "1K2g3szDkdmp"
      },
      "outputs": [],
      "source": [
        "k = 7"
      ]
    },
    {
      "cell_type": "code",
      "execution_count": null,
      "metadata": {
        "id": "uf8lJWQhkdmq"
      },
      "outputs": [],
      "source": [
        "def optimal_sub_path(nodes, start_node, end_node):\n",
        "    \"\"\"\n",
        "    Computes the minimum cost sub-path from the given nodes,\n",
        "    where the sub-path is fixed at start_node and end_node.\n",
        "    \"\"\"\n",
        "\n",
        "    def fix_bounds(permutation):\n",
        "        return (start_node,) + permutation + (end_node,)\n",
        "\n",
        "    def cost(sub_path):\n",
        "        path = fix_bounds(sub_path)\n",
        "        return sum(distances.euclidean(path[idx][1], path[idx + 1][1])\n",
        "                   for idx in range(len(path) - 1))\n",
        "\n",
        "    opt_path = min(itertools.permutations(nodes, k), key=cost)\n",
        "    return fix_bounds(opt_path)"
      ]
    },
    {
      "cell_type": "code",
      "execution_count": null,
      "metadata": {
        "id": "gZ7_GRhykdmq"
      },
      "outputs": [],
      "source": [
        "def post_process(state):\n",
        "    \"\"\"\n",
        "    For each node in the passed-in state, this post-processing step\n",
        "    computes the optimal sub-path of the next k nodes. The run-time\n",
        "    complexity is about O(n * k!), with n the number of nodes.\n",
        "    \"\"\"\n",
        "    state = copy.deepcopy(state)\n",
        "\n",
        "    for start_node in state.nodes:\n",
        "        nodes = []\n",
        "        node = start_node\n",
        "\n",
        "        # Determine the next k nodes that make up the sub-path starting\n",
        "        # at this start_node.\n",
        "        for _ in range(k):\n",
        "            node = state.edges[node]\n",
        "            nodes.append(node)\n",
        "\n",
        "        end_node = state.edges[node]\n",
        "        opt_path = optimal_sub_path(nodes, start_node, end_node)\n",
        "\n",
        "        # Replace the existing path with the optimal sub-path.\n",
        "        for first, second in zip(opt_path, opt_path[1:]):\n",
        "            state.edges[first] = second\n",
        "\n",
        "    return state"
      ]
    },
    {
      "cell_type": "code",
      "execution_count": null,
      "metadata": {
        "id": "4mg5lHbgkdmq"
      },
      "outputs": [],
      "source": [
        "new_solution = post_process(solution)\n",
        "new_objective = new_solution.objective()\n",
        "pct_difference = 100 * (new_objective - optimal) / optimal\n",
        "\n",
        "print(f\"New heuristic objective is {new_objective}.\")\n",
        "print(f\"This is {pct_difference:.1f}% worse than the optimal solution, which is {optimal}.\")"
      ]
    },
    {
      "cell_type": "code",
      "execution_count": null,
      "metadata": {
        "id": "ID1t_4b1kdmr"
      },
      "outputs": [],
      "source": [
        "draw_graph(new_solution.to_graph())"
      ]
    },
    {
      "cell_type": "markdown",
      "metadata": {
        "id": "qdvC-3kgkdms"
      },
      "source": [
        "# Conclusions\n",
        "\n",
        "In the code above we implemented a very simple heuristic for the TSP, using the ALNS meta-heuristic framework. We did not tinker too much with the various hyperparameters available on the ALNS implementation, but even for these relatively basic heuristic methods and workflow we find a very good result - just 2% worse than the optimal tour.\n",
        "\n",
        "This notebook showcases how the ALNS library may be put to use to construct powerful, efficient heuristic pipelines from simple, locally greedy operators."
      ]
    },
    {
      "cell_type": "code",
      "execution_count": null,
      "metadata": {
        "id": "ZxWybyzskdms"
      },
      "outputs": [],
      "source": []
    }
  ],
  "metadata": {
    "kernelspec": {
      "display_name": "Python 3",
      "language": "python",
      "name": "python3"
    },
    "language_info": {
      "codemirror_mode": {
        "name": "ipython",
        "version": 3
      },
      "file_extension": ".py",
      "mimetype": "text/x-python",
      "name": "python",
      "nbconvert_exporter": "python",
      "pygments_lexer": "ipython3",
      "version": "3.7.1"
    },
    "colab": {
      "provenance": []
    }
  },
  "nbformat": 4,
  "nbformat_minor": 0
}