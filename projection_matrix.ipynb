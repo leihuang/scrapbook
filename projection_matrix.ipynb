{
  "nbformat": 4,
  "nbformat_minor": 0,
  "metadata": {
    "colab": {
      "name": "projection_matrix.ipynb",
      "version": "0.3.2",
      "provenance": [],
      "include_colab_link": true
    },
    "kernelspec": {
      "name": "python3",
      "display_name": "Python 3"
    }
  },
  "cells": [
    {
      "cell_type": "markdown",
      "metadata": {
        "id": "view-in-github",
        "colab_type": "text"
      },
      "source": [
        "<a href=\"https://colab.research.google.com/github/leihuang/scrapbook/blob/master/projection_matrix.ipynb\" target=\"_parent\"><img src=\"https://colab.research.google.com/assets/colab-badge.svg\" alt=\"Open In Colab\"/></a>"
      ]
    },
    {
      "metadata": {
        "id": "hMytu-q8mEwW",
        "colab_type": "text"
      },
      "cell_type": "markdown",
      "source": [
        "# Projection matrix \n",
        "\n",
        "Given an $n \\times k$ matrix $A$ and an $n \\times (n-k)$ matrix $B$ such that $\\text{span}(A) \\oplus \\text{span}(B) = \\mathbb{R}^n$, how to get the projection matrix on $\\text{span}(A)$ parallel to $\\text{span}(B)$, in terms of $A$ and $B$? \n",
        "\n",
        "Answer: \n",
        "\n",
        "$P=A \\Big( \\big(A^T A − A^T B(B^T B)^{−1} B^T A \\big)^{−1} A^T − (A^T A)^{−1} A^T B \\big(B^T B − B^T A (A^T A)^{−1} A^T B \\big)^{-1} B^T \\Big)$. \n",
        "\n",
        "Details: \n",
        "\n",
        "Let $U=[A \\; B]^{-1}$  and denote by $\\bar{U}$ the $k \\times n$ upper part of $U$. Then $P=A \\bar{U}$. \n",
        "\n",
        "$[A \\; B]^{−1}=\\Big([A \\; B]^T [A\\; B]\\Big)^{−1} [A \\; B]^T = \\begin{bmatrix} A^T A \\quad A^T B \\\\ B^T A \\quad B^T B \\end{bmatrix}^{−1} \\begin{bmatrix} A^T \\\\ B^T \\end{bmatrix}$. \n",
        "\n",
        "Formula of block matrix inversion: https://en.wikipedia.org/wiki/Invertible_matrix#Blockwise_inversion\n",
        "\n",
        "Reference: https://math.stackexchange.com/questions/3162698/projection-matrix-onto-a-subspace-parallel-to-a-complementary-subspace\n",
        "\n",
        "---\n",
        "\n",
        "Compute $P$:\n",
        "\n",
        "Let $A = U_A \\Sigma_A V_A^T$, $B = U_B \\Sigma_B V_B^T$ and $U_{AB} = U_A^T U_B$. \n",
        "\n",
        "It can be simplifed that $P = U_A \\Big(I - U_{AB}^T U_{AB} \\Big)^{-1} U_A^T - U_A U_{AB} \\Big(I - U_{AB}^T U_{AB} \\Big)^{-1}U_B^T$. "
      ]
    },
    {
      "metadata": {
        "id": "yp5dtVE5R82i",
        "colab_type": "code",
        "colab": {}
      },
      "cell_type": "code",
      "source": [
        "from __future__ import division, print_function\n",
        "\n",
        "import numpy as np"
      ],
      "execution_count": 0,
      "outputs": []
    },
    {
      "metadata": {
        "id": "TVkM04oBSGzR",
        "colab_type": "code",
        "colab": {}
      },
      "cell_type": "code",
      "source": [
        "n = 5\n",
        "k = 2\n",
        "\n",
        "np.random.seed(0)\n",
        "V = np.random.randn(n, n)\n",
        "A, B = V[:,:k], V[:,k:]"
      ],
      "execution_count": 0,
      "outputs": []
    },
    {
      "metadata": {
        "id": "v92k0nBiS0_B",
        "colab_type": "code",
        "colab": {}
      },
      "cell_type": "code",
      "source": [
        "UA, SA, VtA = np.linalg.svd(A, full_matrices=False)\n",
        "UB, SB, VtB = np.linalg.svd(B, full_matrices=False)"
      ],
      "execution_count": 0,
      "outputs": []
    },
    {
      "metadata": {
        "id": "fPyD6OLTUSsL",
        "colab_type": "code",
        "colab": {}
      },
      "cell_type": "code",
      "source": [
        "UAB = np.dot(UA.T, UB)\n",
        "\n",
        "\n",
        "DA = np.linalg.inv(np.identity(k) - np.dot(UAB, UAB.T))\n",
        "DB = np.linalg.inv(np.identity(n-k) - np.dot(UAB.T, UAB))"
      ],
      "execution_count": 0,
      "outputs": []
    },
    {
      "metadata": {
        "id": "sKOjLu6xUZoB",
        "colab_type": "code",
        "colab": {}
      },
      "cell_type": "code",
      "source": [
        "P = np.dot(np.dot(UA, DA), UA.T) - np.dot(np.dot(np.dot(UA, UAB), DB), UB.T)"
      ],
      "execution_count": 0,
      "outputs": []
    },
    {
      "metadata": {
        "id": "NZMpsiEGWtaj",
        "colab_type": "code",
        "colab": {
          "base_uri": "https://localhost:8080/",
          "height": 34
        },
        "outputId": "35418996-f20a-476a-e785-a9a9369be22b"
      },
      "cell_type": "code",
      "source": [
        "np.abs(np.dot(P, A) - A).max()"
      ],
      "execution_count": 6,
      "outputs": [
        {
          "output_type": "execute_result",
          "data": {
            "text/plain": [
              "1.5307755063531658e-12"
            ]
          },
          "metadata": {
            "tags": []
          },
          "execution_count": 6
        }
      ]
    },
    {
      "metadata": {
        "id": "eLw8Bcw8XDsr",
        "colab_type": "code",
        "colab": {
          "base_uri": "https://localhost:8080/",
          "height": 34
        },
        "outputId": "4857dadb-afd5-4902-88d0-0c9ce18b338e"
      },
      "cell_type": "code",
      "source": [
        "np.abs(np.dot(P, B)).max()"
      ],
      "execution_count": 7,
      "outputs": [
        {
          "output_type": "execute_result",
          "data": {
            "text/plain": [
              "1.349099407133047e-12"
            ]
          },
          "metadata": {
            "tags": []
          },
          "execution_count": 7
        }
      ]
    },
    {
      "metadata": {
        "id": "ZTJZuWAWbvwH",
        "colab_type": "code",
        "colab": {}
      },
      "cell_type": "code",
      "source": [
        ""
      ],
      "execution_count": 0,
      "outputs": []
    }
  ]
}