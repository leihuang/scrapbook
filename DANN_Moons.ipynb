{
  "nbformat": 4,
  "nbformat_minor": 0,
  "metadata": {
    "colab": {
      "name": "DANN_Moons.ipynb",
      "provenance": [],
      "authorship_tag": "ABX9TyMGd6XrD/f0Ooyw9ZQtJCwJ",
      "include_colab_link": true
    },
    "kernelspec": {
      "name": "python3",
      "display_name": "Python 3"
    },
    "language_info": {
      "name": "python"
    }
  },
  "cells": [
    {
      "cell_type": "markdown",
      "metadata": {
        "id": "view-in-github",
        "colab_type": "text"
      },
      "source": [
        "<a href=\"https://colab.research.google.com/github/leihuang/scrapbook/blob/master/DANN_Moons.ipynb\" target=\"_parent\"><img src=\"https://colab.research.google.com/assets/colab-badge.svg\" alt=\"Open In Colab\"/></a>"
      ]
    },
    {
      "cell_type": "code",
      "execution_count": 1,
      "metadata": {
        "id": "ANZpjJjqc5Dt"
      },
      "outputs": [],
      "source": [
        "import sys\n",
        "import random\n",
        "\n",
        "import pandas as pd\n",
        "import numpy as np\n",
        "import matplotlib.pyplot as plt\n",
        "\n",
        "import torch\n",
        "\n",
        "\n",
        "SEED = 0\n",
        "random.seed(SEED)\n",
        "np.random.seed(SEED)\n",
        "torch.manual_seed(SEED)\n",
        "torch.cuda.manual_seed_all(SEED)\n",
        "torch.backends.cudnn.deterministic = True\n",
        "torch.backends.cudnn.benchmark = False\n",
        "\n",
        "DEVICE = torch.device('cuda' if torch.cuda.is_available() else 'cpu')"
      ]
    },
    {
      "cell_type": "code",
      "source": [
        "# from google.colab import drive\n",
        "\n",
        "# drive.mount('/content/drive')"
      ],
      "metadata": {
        "id": "uiGrqGS2e_Eo"
      },
      "execution_count": 2,
      "outputs": []
    },
    {
      "cell_type": "code",
      "source": [
        "# !ls -l /content/drive/MyDrive/Research"
      ],
      "metadata": {
        "id": "BaoJxvv0dPFS"
      },
      "execution_count": 3,
      "outputs": []
    },
    {
      "cell_type": "code",
      "source": [
        "# !git clone https://github.com/jindongwang/transferlearning.git /content/drive/MyDrive/Research/transferlearning/"
      ],
      "metadata": {
        "id": "_b2NDgOTfrzC"
      },
      "execution_count": 4,
      "outputs": []
    },
    {
      "cell_type": "code",
      "source": [
        ""
      ],
      "metadata": {
        "id": "0q5BL9-I8Yyv"
      },
      "execution_count": 4,
      "outputs": []
    },
    {
      "cell_type": "code",
      "source": [
        "from sklearn.datasets import make_moons"
      ],
      "metadata": {
        "id": "ho3bpFm2iBo3"
      },
      "execution_count": 5,
      "outputs": []
    },
    {
      "cell_type": "code",
      "source": [
        "X, y = make_moons(n_samples=100, noise=0.1, random_state=42)"
      ],
      "metadata": {
        "id": "wClwtNNmty-W"
      },
      "execution_count": 6,
      "outputs": []
    },
    {
      "cell_type": "code",
      "source": [
        "fig, ax = plt.subplots()\n",
        "ax.scatter(*X[y==0].T)\n",
        "ax.scatter(*X[y==1].T)\n",
        "plt.show()"
      ],
      "metadata": {
        "colab": {
          "base_uri": "https://localhost:8080/",
          "height": 268
        },
        "id": "CrVnxXHAt24-",
        "outputId": "fa805095-1988-486a-ce0a-40160af50318"
      },
      "execution_count": 7,
      "outputs": [
        {
          "output_type": "display_data",
          "data": {
            "text/plain": [
              "<Figure size 432x288 with 1 Axes>"
            ],
            "image/png": "[encoded data removed]"
          },
          "metadata": {
            "needs_background": "light"
          }
        }
      ]
    },
    {
      "cell_type": "code",
      "source": [
        "import torch\n",
        "import torch.nn as nn\n",
        "import torch.nn.functional as F\n",
        "from torch.autograd import Variable\n",
        "import tqdm\n",
        "\n",
        "\n",
        "class Model(nn.Module):\n",
        "    def __init__(self, width):\n",
        "        super(Model, self).__init__()\n",
        "        self.layer1 = nn.Linear(2, width)\n",
        "        self.layer2 = nn.Linear(width, 2)\n",
        "        self.layer3 = nn.Linear(2, 1)\n",
        "        \n",
        "    def forward(self, x):\n",
        "        x = torch.tanh(self.layer1(x))\n",
        "        x = torch.tanh(self.layer2(x))\n",
        "        p = torch.sigmoid(self.layer3(x))[:,0]\n",
        "        return p\n",
        "\n",
        "\n",
        "def train_and_validate(model, optimizer, loss_fn, X_train, y_train, X_test, y_test, nepoch):\n",
        "    \"\"\"\n",
        "    \"\"\"\n",
        "    losss = []\n",
        "    accus = []\n",
        "    ps = []\n",
        "\n",
        "    for epoch in tqdm.trange(nepoch):\n",
        "        y_pred = model(X_train)\n",
        "        loss = loss_fn(y_pred, y_train)\n",
        "        losss.append(loss.item())\n",
        "        \n",
        "        optimizer.zero_grad()\n",
        "        loss.backward()\n",
        "        optimizer.step()\n",
        "        \n",
        "        with torch.no_grad():\n",
        "            y_pred = model(X_test)\n",
        "            bools = ((y_pred>0.5).long() == y_test).type(torch.FloatTensor)\n",
        "            accus.append(bools.mean())\n",
        "\n",
        "    return np.array(losss), np.array(accus)\n",
        "\n",
        "\n",
        "\n",
        "model = Model(5)\n",
        "optimizer = torch.optim.Adam(model.parameters(), lr=0.01)\n",
        "loss_fn = nn.BCELoss()\n"
      ],
      "metadata": {
        "id": "7Xr2l9drw_EK"
      },
      "execution_count": 8,
      "outputs": []
    },
    {
      "cell_type": "code",
      "source": [
        "X_ = Variable(torch.from_numpy(X)).float()\n",
        "y_ = Variable(torch.from_numpy(y)).float()\n",
        "\n",
        "losss, accus = train_and_validate(model, optimizer, loss_fn, X_, y_, X_, y_, 500)"
      ],
      "metadata": {
        "colab": {
          "base_uri": "https://localhost:8080/"
        },
        "id": "0dLRSmS-w_Aw",
        "outputId": "c3c829a2-0afc-444a-909f-a43a8e10e73f"
      },
      "execution_count": 9,
      "outputs": [
        {
          "output_type": "stream",
          "name": "stderr",
          "text": [
            "100%|██████████| 500/500 [00:01<00:00, 275.27it/s]\n"
          ]
        }
      ]
    },
    {
      "cell_type": "code",
      "source": [
        "fig, ax = plt.subplots()\n",
        "ax.plot(losss, color='r')\n",
        "ax.set_ylabel('Loss')\n",
        "ax2 = ax.twinx()\n",
        "ax2.plot(accus, color='b')\n",
        "ax2.set_ylabel('Accuracy')\n",
        "plt.show()"
      ],
      "metadata": {
        "colab": {
          "base_uri": "https://localhost:8080/",
          "height": 265
        },
        "id": "xNIzaVkXQ3z_",
        "outputId": "655871ca-2ed1-4d98-a1c2-3ff6a0ca4336"
      },
      "execution_count": 10,
      "outputs": [
        {
          "output_type": "display_data",
          "data": {
            "text/plain": [
              "<Figure size 432x288 with 2 Axes>"
            ],
            "image/png": "[encoded data removed]"
          },
          "metadata": {
            "needs_background": "light"
          }
        }
      ]
    },
    {
      "cell_type": "code",
      "source": [
        "k = 100\n",
        "x1s = np.linspace(X[:,0].min(), X[:,0].max(), k)\n",
        "x2s = np.linspace(X[:,1].min(), X[:,1].max(), k)\n",
        "\n",
        "x1ss, x2ss = np.meshgrid(x1s, x2s)\n",
        "Xp = np.array(list(zip(x1ss.flatten(), x2ss.flatten())))\n",
        "Xp_ = Variable(torch.from_numpy(Xp)).float()\n",
        "zss = model.forward(Xp_).detach().numpy().reshape(k, k)\n",
        "\n",
        "fig, ax = plt.subplots()\n",
        "contours = plt.contourf(x1ss, x2ss, zss, [0.001,0.01, 0.1, 0.5, 0.9, 0.99,0.999], cmap='RdGy', alpha=0.7)\n",
        "# plt.clabel(contours, inline=True, fontsize=12)\n",
        "plt.colorbar()\n",
        "\n",
        "ax.scatter(*X[y==0].T)\n",
        "ax.scatter(*X[y==1].T)\n",
        "\n",
        "plt.show()"
      ],
      "metadata": {
        "colab": {
          "base_uri": "https://localhost:8080/",
          "height": 269
        },
        "id": "O6lt6VPHR0Yy",
        "outputId": "5875f446-36bd-4d9d-a146-2d7c0fdd79b0"
      },
      "execution_count": 11,
      "outputs": [
        {
          "output_type": "display_data",
          "data": {
            "text/plain": [
              "<Figure size 432x288 with 2 Axes>"
            ],
            "image/png": "[encoded data removed]"
          },
          "metadata": {
            "needs_background": "light"
          }
        }
      ]
    },
    {
      "cell_type": "code",
      "source": [
        ""
      ],
      "metadata": {
        "id": "fnW-FxhqA4bW"
      },
      "execution_count": 11,
      "outputs": []
    },
    {
      "cell_type": "code",
      "source": [
        "from torch.autograd import Function\n",
        "\n",
        "\n",
        "class AdversarialLoss(nn.Module):\n",
        "    def __init__(self, gamma=1.0, max_iter=1000, use_lambda_scheduler=True, **kwargs):  # kwargs not used\n",
        "        super(AdversarialLoss, self).__init__()\n",
        "        self.domain_classifier = Discriminator().to(DEVICE)\n",
        "        self.use_lambda_scheduler = use_lambda_scheduler\n",
        "        if self.use_lambda_scheduler:\n",
        "            self.lambda_scheduler = LambdaSheduler(gamma, max_iter)\n",
        "        \n",
        "    def forward(self, source, target):\n",
        "        lamb = 1.0\n",
        "        if self.use_lambda_scheduler:\n",
        "            lamb = self.lambda_scheduler.lamb()\n",
        "            self.lambda_scheduler.step()\n",
        "        source_loss = self.get_adversarial_result(source, True, lamb)\n",
        "        target_loss = self.get_adversarial_result(target, False, lamb)\n",
        "        adv_loss = 0.5 * (source_loss + target_loss)\n",
        "        return adv_loss\n",
        "    \n",
        "    def get_adversarial_result(self, x, source=True, lamb=1.0):\n",
        "        x = ReverseLayerF.apply(x, lamb)\n",
        "        domain_pred = self.domain_classifier(x)\n",
        "        device = domain_pred.device\n",
        "        if source:\n",
        "            domain_label = torch.ones(len(x), 1).long()\n",
        "        else:\n",
        "            domain_label = torch.zeros(len(x), 1).long()\n",
        "        loss_fn = nn.BCELoss()\n",
        "        loss_adv = loss_fn(domain_pred, domain_label.float().to(device))\n",
        "        return loss_adv\n",
        "    \n",
        "    \n",
        "class LambdaSheduler(nn.Module):\n",
        "    def __init__(self, gamma=1.0, max_iter=1000, **kwargs):  # kwargs not used\n",
        "        super(LambdaSheduler, self).__init__()\n",
        "        self.gamma = gamma\n",
        "        self.max_iter = max_iter\n",
        "        self.curr_iter = 0\n",
        "\n",
        "    def lamb(self):\n",
        "        p = self.curr_iter / self.max_iter\n",
        "        lamb = 2. / (1. + np.exp(-self.gamma * p)) - 1\n",
        "        return lamb\n",
        "    \n",
        "    def step(self):\n",
        "        self.curr_iter = min(self.curr_iter + 1, self.max_iter)\n",
        "\n",
        "\n",
        "class ReverseLayerF(Function):\n",
        "    @staticmethod\n",
        "    def forward(ctx, x, alpha):\n",
        "        ctx.alpha = alpha\n",
        "        return x.view_as(x)\n",
        "    \n",
        "    @staticmethod\n",
        "    def backward(ctx, grad_output):\n",
        "        output = grad_output.neg() * ctx.alpha\n",
        "        return output, None\n",
        "\n",
        "\n",
        "class Discriminator(nn.Module):\n",
        "    def __init__(self, input_dim=2, hidden_dim=10):\n",
        "        super(Discriminator, self).__init__()\n",
        "        self.input_dim = input_dim\n",
        "        self.hidden_dim = hidden_dim\n",
        "        layers = [\n",
        "            nn.Linear(input_dim, hidden_dim),\n",
        "            nn.ReLU(),\n",
        "            nn.Sigmoid()\n",
        "        ]\n",
        "        self.layers = torch.nn.Sequential(*layers)\n",
        "    \n",
        "    def forward(self, x):\n",
        "        return self.layers(x)"
      ],
      "metadata": {
        "id": "jXHbA0fNDDO0"
      },
      "execution_count": 12,
      "outputs": []
    },
    {
      "cell_type": "code",
      "source": [
        "class TransferNet(nn.Module):\n",
        "    # use_bottleneck?\n",
        "\n",
        "    def __init__(self, num_class=2, base_net='resnet50', transfer_loss='dann', \n",
        "                 use_bottleneck=True, bottleneck_width=256, width=1024):\n",
        "        super(TransferNet, self).__init__()\n",
        "        self.base_network = backbone.network_dict[base_net]()\n",
        "        self.use_bottleneck = use_bottleneck\n",
        "        self.transfer_loss = transfer_loss\n",
        "        self.n_class = num_class\n",
        "\n",
        "        bottleneck_list = [nn.Linear(self.base_network.output_num(), bottleneck_width), \n",
        "                           nn.BatchNorm1d(bottleneck_width), \n",
        "                           nn.ReLU(), \n",
        "                           nn.Dropout(0.5)]\n",
        "        self.bottleneck_layer = nn.Sequential(*bottleneck_list)\n",
        "\n",
        "        classifier_layer_list = [nn.Linear(self.base_network.output_num(), width), \n",
        "                                 nn.ReLU(), \n",
        "                                 nn.Dropout(0.5),\n",
        "                                 nn.Linear(width, num_class)]\n",
        "        self.classifier_layer = nn.Sequential(*classifier_layer_list)\n",
        "\n",
        "        self.bottleneck_layer[0].weight.data.normal_(0, 0.005)\n",
        "        self.bottleneck_layer[0].bias.data.fill_(0.1)\n",
        "        for i in range(2):\n",
        "            self.classifier_layer[i * 3].weight.data.normal_(0, 0.01)\n",
        "            self.classifier_layer[i * 3].bias.data.fill_(0.0)\n",
        "\n",
        "        if self.transfer_loss == 'dann':\n",
        "            self.adv = AdversarialLoss()\n",
        "\n",
        "\n",
        "    def forward(self, source, target, source_label):\n",
        "        source = self.base_network(source)\n",
        "        target = self.base_network(target)\n",
        "        source_clf = self.classifier_layer(source)\n",
        "        # target_clf = self.classifier_layer(target)\n",
        "        # if self.use_bottleneck:\n",
        "        #     source = self.bottleneck_layer(source)\n",
        "        #     target = self.bottleneck_layer(target)\n",
        "\n",
        "        # kwargs = {}\n",
        "        # kwargs['source_label'] = source_label\n",
        "        # kwargs['target_logits'] = torch.nn.functional.softmax(target_clf, dim=1)\n",
        "        transfer_loss = self.adv(source, target)  #, **kwargs)\n",
        "        return source_clf, transfer_loss\n",
        "\n",
        "\n",
        "    # predict?\n",
        "    def predict(self, x):\n",
        "        features = self.base_network(x)\n",
        "        clf = self.classifier_layer(features)\n",
        "        return clf\n",
        "\n",
        "\n",
        "    def get_optimizer(self, **kwargs):\n",
        "        \"\"\"\n",
        "        \"\"\"\n",
        "        lr = kwargs['lr']\n",
        "        momentum = kwargs['momentum']\n",
        "        weight_decay = kwargs['weight_decay']\n",
        "\n",
        "        params = [\n",
        "            {'params': self.base_network.parameters()},  # retrain base_network (say, resnet) during learning?\n",
        "            {'params': self.bottleneck_layer.parameters(), 'lr': 10 * lr},\n",
        "            {'params': self.classifier_layer.parameters(), 'lr': 10 * lr},\n",
        "        ]\n",
        "\n",
        "        if self.transfer_loss == 'dann':\n",
        "            params.append(\n",
        "                {'params': self.adv.domain_classifier.parameters(), \n",
        "                 'lr': 10 * lr})\n",
        "            \n",
        "        optimizer = torch.optim.SGD(\n",
        "            params, lr=lr, momentum=momentum, weight_decay=weight_decay)\n",
        "        return optimizer"
      ],
      "metadata": {
        "id": "4SYUuYq-YBrQ"
      },
      "execution_count": 13,
      "outputs": []
    },
    {
      "cell_type": "code",
      "source": [
        "class AverageMeter(object):\n",
        "    \"\"\"Computes and stores the average and current value\"\"\"\n",
        "\n",
        "    def __init__(self):\n",
        "        self.reset()\n",
        "\n",
        "    def reset(self):\n",
        "        self.val = 0\n",
        "        self.avg = 0\n",
        "        self.sum = 0\n",
        "        self.count = 0\n",
        "\n",
        "    def update(self, val, n=1):\n",
        "        self.val = val\n",
        "        self.sum += val * n\n",
        "        self.count += n\n",
        "        self.avg = self.sum / self.count"
      ],
      "metadata": {
        "id": "Is-iDMjSOi95"
      },
      "execution_count": 14,
      "outputs": []
    },
    {
      "cell_type": "code",
      "source": [
        "def train(source_loader, target_train_loader, target_test_loader, \n",
        "          model, optimizer,\n",
        "          n_epoch, lamb, early_stop, batchsize):\n",
        "    len_source_loader = len(source_loader)\n",
        "    len_target_loader = len(target_train_loader)\n",
        "    best_acc = 0\n",
        "    stop = 0\n",
        "    log = []\n",
        "\n",
        "    for e in range(n_epoch):\n",
        "        stop += 1\n",
        "        train_loss_clf = AverageMeter()\n",
        "        train_loss_transfer = AverageMeter()\n",
        "        train_loss_total = AverageMeter()\n",
        "\n",
        "        model.train()\n",
        "        iter_source, iter_target = iter(source_loader), iter(target_train_loader)\n",
        "        n_batch = min(len_source_loader, len_target_loader)\n",
        "        criterion = torch.nn.CrossEntropyLoss()\n",
        "\n",
        "        for _ in range(n_batch):\n",
        "            data_source, label_source = iter_source.next()\n",
        "            data_target, _ = iter_target.next()\n",
        "            data_source, label_source = data_source.to(DEVICE), label_source.to(DEVICE)\n",
        "            data_target = data_target.to(DEVICE)\n",
        "\n",
        "            # This is not a two-stage training process?\n",
        "            label_source_pred, transfer_loss = model(data_source, data_target, label_source)\n",
        "            clf_loss = criterion(label_source_pred, label_source)\n",
        "            loss = clf_loss + lamb * transfer_loss\n",
        "\n",
        "            optimizer.zero_grad()\n",
        "            loss.backward()\n",
        "            optimizer.step()\n",
        "            train_loss_clf.update(clf_loss.item())\n",
        "            train_loss_transfer.update(transfer_loss.item())\n",
        "            train_loss_total.update(loss.item())\n",
        "\n",
        "        # Test\n",
        "        acc = test(model, target_test_loader)\n",
        "\n",
        "        log.append(\n",
        "            [e, train_loss_clf.avg, train_loss_transfer.avg, train_loss_total.avg, acc.cpu().numpy()])\n",
        "        # Every epoch save one?\n",
        "        pd.DataFrame.from_dict(log).to_csv(\n",
        "            'train_log.csv', header=['Epoch', 'Cls_loss', 'Transfer_loss', 'Total_loss', 'Tar_acc'])\n",
        "        \n",
        "        print(f'Epoch: [{e:2d}/{n_epoch}], cls_loss: {train_loss_clf.avg:.4f}, transfer_loss: {train_loss_transfer.avg:.4f}, total_Loss: {train_loss_total.avg:.4f}, acc: {acc:.4f}')\n",
        "        if best_acc < acc:\n",
        "            best_acc = acc\n",
        "            stop = 0\n",
        "        if stop >= early_stop:\n",
        "            break\n",
        "    print('Transfer result: {:.4f}'.format(best_acc))\n",
        "\n",
        "\n",
        "def test(model, target_test_loader):\n",
        "    model.eval()\n",
        "    test_loss = AverageMeter()\n",
        "    correct = 0\n",
        "    criterion = torch.nn.CrossEntropyLoss()\n",
        "    len_target_dataset = len(target_test_loader.dataset)\n",
        "    with torch.no_grad():\n",
        "        for data, target in target_test_loader:\n",
        "            data, target = data.to(DEVICE), target.to(DEVICE)\n",
        "            s_output = model.predict(data)\n",
        "            loss = criterion(s_output, target)\n",
        "            test_loss.update(loss.item())\n",
        "            pred = torch.max(s_output, 1)[1]\n",
        "            correct += torch.sum(pred == target)\n",
        "    acc = 100. * correct / len_target_dataset\n",
        "    return acc\n",
        "\n",
        "\n",
        "def load_data(src, tar, root_dir):\n",
        "    folder_src = os.path.join(root_dir, src)\n",
        "    folder_tar = os.path.join(root_dir, tar)\n",
        "    source_loader = data_loader.load_data(\n",
        "        folder_src, batchsize, True, {'num_workers': 4})\n",
        "    target_train_loader = data_loader.load_data(\n",
        "        folder_tar, batchsize, True, {'num_workers': 4})\n",
        "    target_test_loader = data_loader.load_data(\n",
        "        folder_tar, batchsize, False, {'num_workers': 4})\n",
        "    return source_loader, target_train_loader, target_test_loader\n"
      ],
      "metadata": {
        "id": "jHikMdMmYB9S"
      },
      "execution_count": 15,
      "outputs": []
    },
    {
      "cell_type": "code",
      "source": [
        "src_domain, tar_domain = src, tar\n",
        "\n",
        "source_loader, target_train_loader, target_test_loader =\\\n",
        "    load_data(src_domain, tar_domain, args.data)\n",
        "\n",
        "model = models.TransferNet(\n",
        "    n_class, transfer_loss='dann', base_net=model).to(DEVICE)\n",
        "\n",
        "optimizer = model.get_optimizer(args)\n",
        "\n",
        "train(source_loader, target_train_loader,\n",
        "      target_test_loader, model, optimizer)"
      ],
      "metadata": {
        "id": "tPn0VWyjYCJk"
      },
      "execution_count": 11,
      "outputs": []
    },
    {
      "cell_type": "code",
      "source": [
        ""
      ],
      "metadata": {
        "id": "_jsx_zTsYCV6"
      },
      "execution_count": 11,
      "outputs": []
    }
  ]
}