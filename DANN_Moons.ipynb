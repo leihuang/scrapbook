{
  "nbformat": 4,
  "nbformat_minor": 0,
  "metadata": {
    "colab": {
      "name": "DANN_Moons.ipynb",
      "provenance": [],
      "authorship_tag": "ABX9TyMdNcYv7gkPj3jwsysp09DJ",
      "include_colab_link": true
    },
    "kernelspec": {
      "name": "python3",
      "display_name": "Python 3"
    },
    "language_info": {
      "name": "python"
    }
  },
  "cells": [
    {
      "cell_type": "markdown",
      "metadata": {
        "id": "view-in-github",
        "colab_type": "text"
      },
      "source": [
        "<a href=\"https://colab.research.google.com/github/leihuang/scrapbook/blob/master/DANN_Moons.ipynb\" target=\"_parent\"><img src=\"https://colab.research.google.com/assets/colab-badge.svg\" alt=\"Open In Colab\"/></a>"
      ]
    },
    {
      "cell_type": "code",
      "execution_count": 77,
      "metadata": {
        "colab": {
          "base_uri": "https://localhost:8080/"
        },
        "id": "ANZpjJjqc5Dt",
        "outputId": "453c9414-c9cd-4b34-b619-115a05a33594"
      },
      "outputs": [
        {
          "output_type": "stream",
          "name": "stdout",
          "text": [
            "3.7.12 (default, Jan 15 2022, 18:48:18) \n",
            "[GCC 7.5.0]\n"
          ]
        }
      ],
      "source": [
        "import sys\n",
        "\n",
        "import pandas as pd\n",
        "import numpy as np\n",
        "import matplotlib.pyplot as plt\n",
        "\n",
        "print(sys.version)"
      ]
    },
    {
      "cell_type": "code",
      "source": [
        "from google.colab import drive\n",
        "\n",
        "drive.mount('/content/drive')"
      ],
      "metadata": {
        "colab": {
          "base_uri": "https://localhost:8080/"
        },
        "id": "uiGrqGS2e_Eo",
        "outputId": "8a7b198a-37a7-4c84-8506-72a3e121b9f5"
      },
      "execution_count": 78,
      "outputs": [
        {
          "output_type": "stream",
          "name": "stdout",
          "text": [
            "Drive already mounted at /content/drive; to attempt to forcibly remount, call drive.mount(\"/content/drive\", force_remount=True).\n"
          ]
        }
      ]
    },
    {
      "cell_type": "code",
      "source": [
        "!ls -l /content/drive/MyDrive/Research"
      ],
      "metadata": {
        "colab": {
          "base_uri": "https://localhost:8080/"
        },
        "id": "BaoJxvv0dPFS",
        "outputId": "e25c6e00-15ba-4bba-962b-67b53ae3b8f1"
      },
      "execution_count": 79,
      "outputs": [
        {
          "output_type": "stream",
          "name": "stdout",
          "text": [
            "total 4\n",
            "drwx------ 10 root root 4096 Mar  5 23:59 transferlearning\n"
          ]
        }
      ]
    },
    {
      "cell_type": "code",
      "source": [
        "# !git clone https://github.com/jindongwang/transferlearning.git /content/drive/MyDrive/Research/transferlearning/"
      ],
      "metadata": {
        "colab": {
          "base_uri": "https://localhost:8080/"
        },
        "id": "_b2NDgOTfrzC",
        "outputId": "789c66d6-cf8f-4a47-dabe-1f3bfcf6e560"
      },
      "execution_count": 35,
      "outputs": [
        {
          "output_type": "stream",
          "name": "stdout",
          "text": [
            "Cloning into '/content/drive/MyDrive/Research/transferlearning'...\n",
            "remote: Enumerating objects: 6415, done.\u001b[K\n",
            "remote: Counting objects: 100% (2939/2939), done.\u001b[K\n",
            "remote: Compressing objects: 100% (1804/1804), done.\u001b[K\n",
            "remote: Total 6415 (delta 1183), reused 2740 (delta 1077), pack-reused 3476\u001b[K\n",
            "Receiving objects: 100% (6415/6415), 35.69 MiB | 5.35 MiB/s, done.\n",
            "Resolving deltas: 100% (3429/3429), done.\n",
            "Checking out files: 100% (352/352), done.\n"
          ]
        }
      ]
    },
    {
      "cell_type": "code",
      "source": [
        ""
      ],
      "metadata": {
        "id": "t7_--AQqhCaf"
      },
      "execution_count": null,
      "outputs": []
    },
    {
      "cell_type": "code",
      "source": [
        "from sklearn.datasets import make_moons"
      ],
      "metadata": {
        "id": "ho3bpFm2iBo3"
      },
      "execution_count": 80,
      "outputs": []
    },
    {
      "cell_type": "code",
      "source": [
        "X, y = make_moons(n_samples=100, noise=0.1, random_state=42)"
      ],
      "metadata": {
        "id": "wClwtNNmty-W"
      },
      "execution_count": 102,
      "outputs": []
    },
    {
      "cell_type": "code",
      "source": [
        "fig, ax = plt.subplots()\n",
        "ax.scatter(*X[y==0].T)\n",
        "ax.scatter(*X[y==1].T)\n",
        "plt.show()"
      ],
      "metadata": {
        "colab": {
          "base_uri": "https://localhost:8080/",
          "height": 268
        },
        "id": "CrVnxXHAt24-",
        "outputId": "41c14dc4-2b80-454d-fb2d-955b75d70f64"
      },
      "execution_count": 92,
      "outputs": [
        {
          "output_type": "display_data",
          "data": {
            "image/png": "[encoded data removed]",
            "text/plain": [
              "<Figure size 432x288 with 1 Axes>"
            ]
          },
          "metadata": {
            "needs_background": "light"
          }
        }
      ]
    },
    {
      "cell_type": "code",
      "source": [
        "import torch\n",
        "import torch.nn as nn\n",
        "import torch.nn.functional as F\n",
        "from torch.autograd import Variable\n",
        "import tqdm\n",
        "\n",
        "\n",
        "class Model0(nn.Module):\n",
        "    def __init__(self, width):\n",
        "        super(Model0, self).__init__()\n",
        "        self.layer1 = nn.Linear(2, width)\n",
        "        self.layer2 = nn.Linear(width, 2)\n",
        "        self.layer3 = nn.Linear(2, 1)\n",
        "        \n",
        "    def forward(self, x):\n",
        "        #x = xd[:,:2]\n",
        "        x = torch.tanh(self.layer1(x))\n",
        "        x = torch.tanh(self.layer2(x))\n",
        "        p = torch.sigmoid(self.layer3(x))[:,0]\n",
        "        return p\n",
        "\n",
        "\n",
        "def train_and_validate(model, optimizer, loss_fn, X_train, y_train, X_test, y_test, nepoch):\n",
        "    \"\"\"\n",
        "    \"\"\"\n",
        "    losss = []\n",
        "    accus = []\n",
        "    ps = []\n",
        "\n",
        "    for epoch in tqdm.trange(nepoch):\n",
        "        y_pred = model(X_train)\n",
        "        loss = loss_fn(y_pred, y_train)\n",
        "        losss.append(loss.item())\n",
        "        \n",
        "        optimizer.zero_grad()\n",
        "        loss.backward()\n",
        "        optimizer.step()\n",
        "        \n",
        "        with torch.no_grad():\n",
        "            y_pred = model(X_test)\n",
        "            bools = ((y_pred>0.5).long() == y_test).type(torch.FloatTensor)\n",
        "            accus.append(bools.mean())\n",
        "\n",
        "    return np.array(losss), np.array(accus)\n",
        "\n",
        "\n",
        "\n",
        "model0 = Model0(5)\n",
        "optimizer0 = torch.optim.Adam(model0.parameters(), lr=0.01)\n",
        "loss_fn = nn.BCELoss()\n"
      ],
      "metadata": {
        "id": "7Xr2l9drw_EK"
      },
      "execution_count": 107,
      "outputs": []
    },
    {
      "cell_type": "code",
      "source": [
        "X_ = Variable(torch.from_numpy(X)).float()\n",
        "y_ = Variable(torch.from_numpy(y)).float()\n",
        "\n",
        "losss, accus = train_and_validate(model0, optimizer0, loss_fn, X_, y_, X_, y_, 500)"
      ],
      "metadata": {
        "colab": {
          "base_uri": "https://localhost:8080/"
        },
        "id": "0dLRSmS-w_Aw",
        "outputId": "91eb85ec-9631-4517-cc11-f40310fa0e5e"
      },
      "execution_count": 108,
      "outputs": [
        {
          "output_type": "stream",
          "name": "stderr",
          "text": [
            "100%|██████████| 500/500 [00:00<00:00, 1189.20it/s]\n"
          ]
        }
      ]
    },
    {
      "cell_type": "code",
      "source": [
        "fig, ax = plt.subplots()\n",
        "ax.plot(losss, color='r')\n",
        "ax.set_ylabel('Loss')\n",
        "ax2 = ax.twinx()\n",
        "ax2.plot(accus, color='b')\n",
        "ax2.set_ylabel('Accuracy')\n",
        "plt.show()"
      ],
      "metadata": {
        "colab": {
          "base_uri": "https://localhost:8080/",
          "height": 265
        },
        "id": "xNIzaVkXQ3z_",
        "outputId": "dbdb302b-5f2a-4b37-9beb-b83b7bcefefe"
      },
      "execution_count": 109,
      "outputs": [
        {
          "output_type": "display_data",
          "data": {
            "image/png": "[encoded data removed]",
            "text/plain": [
              "<Figure size 432x288 with 2 Axes>"
            ]
          },
          "metadata": {
            "needs_background": "light"
          }
        }
      ]
    },
    {
      "cell_type": "code",
      "source": [
        "k = 100\n",
        "x1s = np.linspace(X[:,0].min(), X[:,0].max(), k)\n",
        "x2s = np.linspace(X[:,1].min(), X[:,1].max(), k)\n",
        "\n",
        "x1ss, x2ss = np.meshgrid(x1s, x2s)\n",
        "Xp = np.array(list(zip(x1ss.flatten(), x2ss.flatten())))\n",
        "Xp_ = Variable(torch.from_numpy(Xp)).float()\n",
        "zss = model0.forward(Xp_).detach().numpy().reshape(k, k)\n",
        "\n",
        "fig, ax = plt.subplots()\n",
        "contours = plt.contourf(x1ss, x2ss, zss, [0.001,0.01, 0.1, 0.5, 0.9, 0.99,0.999], cmap='RdGy', alpha=0.7)\n",
        "# plt.clabel(contours, inline=True, fontsize=12)\n",
        "plt.colorbar()\n",
        "\n",
        "ax.scatter(*X[y==0].T)\n",
        "ax.scatter(*X[y==1].T)\n",
        "\n",
        "plt.show()"
      ],
      "metadata": {
        "colab": {
          "base_uri": "https://localhost:8080/",
          "height": 269
        },
        "id": "O6lt6VPHR0Yy",
        "outputId": "9326691c-44ed-4cb0-d332-0ac763a98d85"
      },
      "execution_count": 146,
      "outputs": [
        {
          "output_type": "display_data",
          "data": {
            "image/png": "[encoded data removed]",
            "text/plain": [
              "<Figure size 432x288 with 2 Axes>"
            ]
          },
          "metadata": {
            "needs_background": "light"
          }
        }
      ]
    },
    {
      "cell_type": "code",
      "source": [
        "plt.contour?"
      ],
      "metadata": {
        "id": "x897j4rGR0VK"
      },
      "execution_count": 118,
      "outputs": []
    }
  ]
}