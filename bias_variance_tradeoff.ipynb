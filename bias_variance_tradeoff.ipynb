{
  "nbformat": 4,
  "nbformat_minor": 0,
  "metadata": {
    "colab": {
      "name": "bias_variance_tradeoff.ipynb",
      "version": "0.3.2",
      "provenance": [],
      "include_colab_link": true
    },
    "kernelspec": {
      "name": "python3",
      "display_name": "Python 3"
    }
  },
  "cells": [
    {
      "cell_type": "markdown",
      "metadata": {
        "id": "view-in-github",
        "colab_type": "text"
      },
      "source": [
        "<a href=\"https://colab.research.google.com/github/leihuang/scrapbook/blob/master/bias_variance_tradeoff.ipynb\" target=\"_parent\"><img src=\"https://colab.research.google.com/assets/colab-badge.svg\" alt=\"Open In Colab\"/></a>"
      ]
    },
    {
      "metadata": {
        "id": "r-gUINfT88dE",
        "colab_type": "text"
      },
      "cell_type": "markdown",
      "source": [
        "# Illustrate bias-variance tradeoff\n",
        "\n",
        "Using a concrete linear regression example:\n",
        "\n",
        "$y = \\beta_1 x_1 + \\beta_2 x_2 + \\epsilon$\n",
        "\n",
        "There is substantial **collinearity** between $x_1$ and $x_2$, hence high variance. **Ridge regression** *introduces bias, but reduces variance*, and may do better overall. "
      ]
    },
    {
      "metadata": {
        "id": "eAARdeUf84n-",
        "colab_type": "code",
        "colab": {}
      },
      "cell_type": "code",
      "source": [
        "from __future__ import division, print_function\n",
        "\n",
        "import numpy as np\n",
        "import pandas as pd\n",
        "import matplotlib.pyplot as plt\n",
        "import seaborn as sns\n",
        "\n",
        "from sklearn.linear_model import Ridge\n",
        "from sklearn.metrics import mean_squared_error"
      ],
      "execution_count": 0,
      "outputs": []
    },
    {
      "metadata": {
        "id": "G3W2cC809ERd",
        "colab_type": "code",
        "colab": {}
      },
      "cell_type": "code",
      "source": [
        "n = 100  # number of samples\n",
        "b = [1, 2]\n",
        "b1, b2 = b[0], b[1]\n",
        "\n",
        "sigma = 0.1  # noise\n",
        "k = 10000  # number of repeats \n",
        "alphas = [0.001, 0.01, 0.1, 1, 10]  # aka lambdas\n",
        "p = 2  # dimension of parameter space\n",
        "\n",
        "np.random.seed(0)\n",
        "\n",
        "# high correlation / substantial collinearity\n",
        "X = np.random.multivariate_normal([0,0], [[1,0.9999],[0.9999,1]], size=n)\n",
        "x1, x2 = X[:,0], X[:,1]\n",
        "f = b1*x1 + b2*x2\n",
        "\n",
        "U, s, Vt = np.linalg.svd(X)\n",
        "\n",
        "# a new sample\n",
        "xi = np.array([[1, 2]])\n",
        "fi = xi[0,0]*b1 + xi[0,1]*b2"
      ],
      "execution_count": 0,
      "outputs": []
    },
    {
      "metadata": {
        "id": "5aiG2dKT9GCJ",
        "colab_type": "code",
        "colab": {}
      },
      "cell_type": "code",
      "source": [
        "out = []\n",
        "np.random.seed(0)\n",
        "\n",
        "for alpha in alphas:\n",
        "    for i in range(k):\n",
        "        y = f + np.random.randn(n)*sigma\n",
        "        yi = fi + np.random.randn()*sigma\n",
        "        \n",
        "        ridge = Ridge(fit_intercept=False, alpha=alpha).fit(X, y)\n",
        "        \n",
        "        yhi = ridge.predict(xi)[0]\n",
        "        \n",
        "        mse = mean_squared_error([yi], [yhi])\n",
        "        \n",
        "        out.append((alpha, i, yhi, mse))\n",
        "        \n",
        "df = pd.DataFrame(out, columns=['alpha', 'rep', 'yhi', 'mse'])"
      ],
      "execution_count": 0,
      "outputs": []
    },
    {
      "metadata": {
        "id": "sFUJKq6m9H4Q",
        "colab_type": "code",
        "colab": {}
      },
      "cell_type": "code",
      "source": [
        "bias2s = (fi - df.groupby('alpha').apply(lambda tab: tab.yhi.mean()))**2\n",
        "\n",
        "variances = df.groupby('alpha').apply(lambda tab: tab.yhi.var())\n",
        "\n",
        "mses = df.groupby('alpha').apply(lambda tab: tab.mse.mean())"
      ],
      "execution_count": 0,
      "outputs": []
    },
    {
      "metadata": {
        "id": "dnrrmnPE9LkI",
        "colab_type": "text"
      },
      "cell_type": "markdown",
      "source": [
        "$\\langle (y_i - \\hat{y}_i)^2 \\rangle \\\\\n",
        "= (x_i^T D \\beta)^2 \\; + \\; \\sigma^2 b^T b \\; + \\; \\sigma^2$\n",
        "\n",
        "* the first term is the bias term and $\\displaystyle D = D(\\lambda) = I - V \\; \\text{diag}\\Big( \\frac{\\sigma^2}{\\sigma^2+\\lambda} \\Big) \\; V^T$ (so $D(0) = 0$)\n",
        "* the second term is the variance term and $\\displaystyle b^T b = x_i^T V \\;  \\text{diag} \\Big( \\frac{\\sigma^2}{(\\sigma^2+\\lambda)^2} \\Big) \\;  V^T x_i$ (so as $\\lambda$ goes to 0, the terms goes to $\\displaystyle x_i^T V \\;  \\text{diag} \\Big( \\frac{1}{\\sigma^2} \\Big) \\;  V^T x_i$)"
      ]
    },
    {
      "metadata": {
        "id": "SpHp9WoW9Jmi",
        "colab_type": "code",
        "colab": {}
      },
      "cell_type": "code",
      "source": [
        "def alpha2bias_pred(alpha):\n",
        "    D = np.identity(p) - np.dot(np.dot(Vt.T, np.diag(s**2/(s**2+alpha))), Vt)\n",
        "    return np.dot(np.dot(xi, D), b)[0]\n",
        "\n",
        "bias2s_pred = np.array([alpha2bias_pred(alpha)**2 for alpha in alphas])"
      ],
      "execution_count": 0,
      "outputs": []
    },
    {
      "metadata": {
        "id": "U-XHeASV9Ofe",
        "colab_type": "code",
        "colab": {}
      },
      "cell_type": "code",
      "source": [
        "def alpha2variance_pred(alpha):\n",
        "    diag = np.diag(s**2/(s**2+alpha)**2)\n",
        "    Vtxi = np.dot(Vt, xi.T)\n",
        "    return np.dot(np.dot(Vtxi.T, diag), Vtxi)[0,0] * sigma**2\n",
        "\n",
        "variances_pred = np.array([alpha2variance_pred(alpha) for alpha in alphas])"
      ],
      "execution_count": 0,
      "outputs": []
    },
    {
      "metadata": {
        "id": "0KXqMNVF9QAj",
        "colab_type": "code",
        "colab": {
          "base_uri": "https://localhost:8080/",
          "height": 200
        },
        "outputId": "0afca12a-f499-4862-fb14-99408bcea43d"
      },
      "cell_type": "code",
      "source": [
        "fig, ax = plt.subplots(figsize=(3,1.5), dpi=100)\n",
        "ax.plot(alphas, bias2s, label='bias'+r'$^2$')\n",
        "ax.plot(alphas, bias2s_pred, label='predicted bias'+r'$^2$')\n",
        "ax.plot(alphas, variances, label='variance')\n",
        "ax.plot(alphas, variances_pred, label='predicted variance')\n",
        "\n",
        "ax.set_xlabel(r'$\\lambda$')\n",
        "\n",
        "ax.set_xscale('log')\n",
        "ax.set_yscale('log')\n",
        "ax.legend(loc=(1,0))\n",
        "plt.show()"
      ],
      "execution_count": 7,
      "outputs": [
        {
          "output_type": "display_data",
          "data": {
            "image/png": "[encoded data removed]",
            "text/plain": [
              "<Figure size 300x150 with 1 Axes>"
            ]
          },
          "metadata": {
            "tags": []
          }
        }
      ]
    },
    {
      "metadata": {
        "id": "hC4NwaTx9Rla",
        "colab_type": "code",
        "colab": {
          "base_uri": "https://localhost:8080/",
          "height": 200
        },
        "outputId": "ab03040a-3963-4501-acfb-68cc18491d03"
      },
      "cell_type": "code",
      "source": [
        "fig, ax = plt.subplots(figsize=(3,1.5), dpi=100)\n",
        "\n",
        "ax.plot(alphas, bias2s+variances+sigma**2, label='sum')\n",
        "ax.plot(alphas, bias2s_pred+variances_pred+sigma**2, label='predicted sum')\n",
        "ax.plot(alphas, mses, label='mse')\n",
        "\n",
        "ax.set_xlabel(r'$\\lambda$')\n",
        "\n",
        "ax.set_xscale('log')\n",
        "ax.legend(loc=(1,0))\n",
        "plt.show()"
      ],
      "execution_count": 8,
      "outputs": [
        {
          "output_type": "display_data",
          "data": {
            "image/png": "[encoded data removed]",
            "text/plain": [
              "<Figure size 300x150 with 1 Axes>"
            ]
          },
          "metadata": {
            "tags": []
          }
        }
      ]
    },
    {
      "metadata": {
        "id": "6OKeWigQ9Uj6",
        "colab_type": "code",
        "colab": {}
      },
      "cell_type": "code",
      "source": [
        ""
      ],
      "execution_count": 0,
      "outputs": []
    }
  ]
}