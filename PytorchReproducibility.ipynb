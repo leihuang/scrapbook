{
  "nbformat": 4,
  "nbformat_minor": 0,
  "metadata": {
    "colab": {
      "name": "PytorchReproducibility.ipynb",
      "provenance": [],
      "authorship_tag": "ABX9TyNB5Ecof8wuvHLkzTvWoGa5",
      "include_colab_link": true
    },
    "kernelspec": {
      "name": "python3",
      "display_name": "Python 3"
    },
    "language_info": {
      "name": "python"
    }
  },
  "cells": [
    {
      "cell_type": "markdown",
      "metadata": {
        "id": "view-in-github",
        "colab_type": "text"
      },
      "source": [
        "<a href=\"https://colab.research.google.com/github/leihuang/scrapbook/blob/master/PytorchReproducibility.ipynb\" target=\"_parent\"><img src=\"https://colab.research.google.com/assets/colab-badge.svg\" alt=\"Open In Colab\"/></a>"
      ]
    },
    {
      "cell_type": "code",
      "execution_count": 1,
      "metadata": {
        "id": "ANZpjJjqc5Dt"
      },
      "outputs": [],
      "source": [
        "import sys\n",
        "import random\n",
        "\n",
        "import pandas as pd\n",
        "import numpy as np\n",
        "import matplotlib.pyplot as plt\n",
        "from sklearn.datasets import make_moons\n",
        "\n",
        "import torch\n",
        "import torch.nn as nn\n",
        "import torch.nn.functional as F\n",
        "from torch.autograd import Variable\n",
        "import tqdm\n",
        "\n",
        "\n",
        "SEED = 42\n",
        "random.seed(SEED)\n",
        "np.random.seed(SEED)\n",
        "torch.manual_seed(SEED)\n",
        "torch.cuda.manual_seed_all(SEED)\n",
        "torch.backends.cudnn.deterministic = True\n",
        "torch.backends.cudnn.benchmark = False\n",
        "\n",
        "DEVICE = torch.device('cuda' if torch.cuda.is_available() else 'cpu')"
      ]
    },
    {
      "cell_type": "code",
      "source": [
        "X, y = make_moons(n_samples=100, noise=0.1, random_state=SEED)"
      ],
      "metadata": {
        "id": "wClwtNNmty-W"
      },
      "execution_count": 2,
      "outputs": []
    },
    {
      "cell_type": "code",
      "source": [
        "fig, ax = plt.subplots()\n",
        "ax.scatter(*X[y==0].T)\n",
        "ax.scatter(*X[y==1].T)\n",
        "plt.show()"
      ],
      "metadata": {
        "colab": {
          "base_uri": "https://localhost:8080/",
          "height": 268
        },
        "id": "CrVnxXHAt24-",
        "outputId": "d171bcb0-cca5-47c7-c02d-650dd17922dc"
      },
      "execution_count": 3,
      "outputs": [
        {
          "output_type": "display_data",
          "data": {
            "text/plain": [
              "<Figure size 432x288 with 1 Axes>"
            ],
            "image/png": "[encoded data removed]"
          },
          "metadata": {
            "needs_background": "light"
          }
        }
      ]
    },
    {
      "cell_type": "code",
      "source": [
        "class Model(nn.Module):\n",
        "    def __init__(self, width):\n",
        "        super(Model, self).__init__()\n",
        "        self.layer1 = nn.Linear(2, width)\n",
        "        self.layer2 = nn.Linear(width, 2)\n",
        "        self.layer3 = nn.Linear(2, 1)\n",
        "        \n",
        "    def forward(self, x):\n",
        "        x = torch.tanh(self.layer1(x))\n",
        "        x = torch.tanh(self.layer2(x))\n",
        "        p = torch.sigmoid(self.layer3(x))[:,0]\n",
        "        return p\n",
        "\n",
        "\n",
        "def train_and_validate(model, optimizer, loss_fn, X_train, y_train, X_test, y_test, nepoch):\n",
        "    \"\"\"\n",
        "    \"\"\"\n",
        "    losss = []\n",
        "    accus = []\n",
        "    ps = []\n",
        "\n",
        "    for epoch in tqdm.trange(nepoch):\n",
        "        y_pred = model(X_train)\n",
        "        loss = loss_fn(y_pred, y_train)\n",
        "        losss.append(loss.item())\n",
        "        \n",
        "        optimizer.zero_grad()\n",
        "        loss.backward()\n",
        "        optimizer.step()\n",
        "        \n",
        "        with torch.no_grad():\n",
        "            y_pred = model(X_test)\n",
        "            bools = ((y_pred>0.5).long() == y_test).type(torch.FloatTensor)\n",
        "            accus.append(bools.mean())\n",
        "\n",
        "    return np.array(losss), np.array(accus)\n",
        "\n",
        "\n",
        "def plot_losss_accus(losss, accus):\n",
        "    \"\"\"\n",
        "    \"\"\"\n",
        "    fig, ax = plt.subplots(figsize=(4,3))\n",
        "    ax.plot(losss, color='r')\n",
        "    ax.set_ylim(bottom=0)\n",
        "    ax.set_ylabel('Loss')\n",
        "    ax2 = ax.twinx()\n",
        "    ax2.plot(accus, color='b')\n",
        "    ax2.set_ylabel('Accuracy')\n",
        "    ax2.set_ylim(0, 1.05)\n",
        "    plt.show()"
      ],
      "metadata": {
        "id": "7Xr2l9drw_EK"
      },
      "execution_count": 4,
      "outputs": []
    },
    {
      "cell_type": "code",
      "source": [
        "model = Model(5)\n",
        "optimizer = torch.optim.Adam(model.parameters(), lr=0.01)\n",
        "loss_fn = nn.BCELoss()\n",
        "\n",
        "X_ = Variable(torch.from_numpy(X)).float()\n",
        "y_ = Variable(torch.from_numpy(y)).float()\n",
        "\n",
        "losss, accus = train_and_validate(model, optimizer, loss_fn, X_, y_, X_, y_, 500)\n",
        "\n",
        "plot_losss_accus(losss, accus)"
      ],
      "metadata": {
        "colab": {
          "base_uri": "https://localhost:8080/",
          "height": 229
        },
        "id": "0dLRSmS-w_Aw",
        "outputId": "6f600269-dea0-437e-81f5-367d3800b9aa"
      },
      "execution_count": 5,
      "outputs": [
        {
          "output_type": "stream",
          "name": "stderr",
          "text": [
            "100%|██████████| 500/500 [00:00<00:00, 525.53it/s]\n"
          ]
        },
        {
          "output_type": "display_data",
          "data": {
            "text/plain": [
              "<Figure size 288x216 with 2 Axes>"
            ],
            "image/png": "[encoded data removed]"
          },
          "metadata": {
            "needs_background": "light"
          }
        }
      ]
    },
    {
      "cell_type": "code",
      "source": [
        "model = Model(5)\n",
        "optimizer = torch.optim.Adam(model.parameters(), lr=0.01)\n",
        "loss_fn = nn.BCELoss()\n",
        "\n",
        "X_ = Variable(torch.from_numpy(X)).float()\n",
        "y_ = Variable(torch.from_numpy(y)).float()\n",
        "\n",
        "losss, accus = train_and_validate(model, optimizer, loss_fn, X_, y_, X_, y_, 500)\n",
        "\n",
        "plot_losss_accus(losss, accus)"
      ],
      "metadata": {
        "id": "_jsx_zTsYCV6",
        "colab": {
          "base_uri": "https://localhost:8080/",
          "height": 229
        },
        "outputId": "1561c013-89cd-458f-acb0-9d035c15598b"
      },
      "execution_count": 6,
      "outputs": [
        {
          "output_type": "stream",
          "name": "stderr",
          "text": [
            "100%|██████████| 500/500 [00:00<00:00, 546.00it/s]\n"
          ]
        },
        {
          "output_type": "display_data",
          "data": {
            "text/plain": [
              "<Figure size 288x216 with 2 Axes>"
            ],
            "image/png": "[encoded data removed]"
          },
          "metadata": {
            "needs_background": "light"
          }
        }
      ]
    },
    {
      "cell_type": "code",
      "source": [
        "from torch.utils.data import Dataset, DataLoader\n",
        "\n",
        "\n",
        "class MyDataset(Dataset):\n",
        "    def __init__(self, size):\n",
        "        self.x = torch.randn(size, 1)\n",
        "    \n",
        "    def __getitem__(self, index):\n",
        "        return self.x[index]\n",
        "\n",
        "    def __len__(self):\n",
        "        return len(self.x)\n",
        "\n",
        "dataset = MyDataset(1001)\n",
        "\n",
        "data_loader = DataLoader(dataset,\n",
        "                         batch_size=10)\n",
        "\n",
        "len(data_loader)\n",
        "\n",
        "for batch_idx, data in enumerate(data_loader):\n",
        "    print('batch idx{}, batch len {}'.format(\n",
        "        batch_idx, len(data)))\n",
        "\n",
        "data_loader = DataLoader(dataset,\n",
        "                     batch_size=10,\n",
        "                     drop_last=True)\n",
        "\n",
        "len(data_loader)\n",
        "\n",
        "for batch_idx, data in enumerate(data_loader):\n",
        "    print('batch idx{}, batch len {}'.format(\n",
        "        batch_idx, len(data)))"
      ],
      "metadata": {
        "colab": {
          "base_uri": "https://localhost:8080/"
        },
        "id": "Zpvgie4Gs1q9",
        "outputId": "cfe3d575-dda0-4795-8825-ecabe795f89d"
      },
      "execution_count": 7,
      "outputs": [
        {
          "output_type": "stream",
          "name": "stdout",
          "text": [
            "batch idx0, batch len 10\n",
            "batch idx1, batch len 10\n",
            "batch idx2, batch len 10\n",
            "batch idx3, batch len 10\n",
            "batch idx4, batch len 10\n",
            "batch idx5, batch len 10\n",
            "batch idx6, batch len 10\n",
            "batch idx7, batch len 10\n",
            "batch idx8, batch len 10\n",
            "batch idx9, batch len 10\n",
            "batch idx10, batch len 10\n",
            "batch idx11, batch len 10\n",
            "batch idx12, batch len 10\n",
            "batch idx13, batch len 10\n",
            "batch idx14, batch len 10\n",
            "batch idx15, batch len 10\n",
            "batch idx16, batch len 10\n",
            "batch idx17, batch len 10\n",
            "batch idx18, batch len 10\n",
            "batch idx19, batch len 10\n",
            "batch idx20, batch len 10\n",
            "batch idx21, batch len 10\n",
            "batch idx22, batch len 10\n",
            "batch idx23, batch len 10\n",
            "batch idx24, batch len 10\n",
            "batch idx25, batch len 10\n",
            "batch idx26, batch len 10\n",
            "batch idx27, batch len 10\n",
            "batch idx28, batch len 10\n",
            "batch idx29, batch len 10\n",
            "batch idx30, batch len 10\n",
            "batch idx31, batch len 10\n",
            "batch idx32, batch len 10\n",
            "batch idx33, batch len 10\n",
            "batch idx34, batch len 10\n",
            "batch idx35, batch len 10\n",
            "batch idx36, batch len 10\n",
            "batch idx37, batch len 10\n",
            "batch idx38, batch len 10\n",
            "batch idx39, batch len 10\n",
            "batch idx40, batch len 10\n",
            "batch idx41, batch len 10\n",
            "batch idx42, batch len 10\n",
            "batch idx43, batch len 10\n",
            "batch idx44, batch len 10\n",
            "batch idx45, batch len 10\n",
            "batch idx46, batch len 10\n",
            "batch idx47, batch len 10\n",
            "batch idx48, batch len 10\n",
            "batch idx49, batch len 10\n",
            "batch idx50, batch len 10\n",
            "batch idx51, batch len 10\n",
            "batch idx52, batch len 10\n",
            "batch idx53, batch len 10\n",
            "batch idx54, batch len 10\n",
            "batch idx55, batch len 10\n",
            "batch idx56, batch len 10\n",
            "batch idx57, batch len 10\n",
            "batch idx58, batch len 10\n",
            "batch idx59, batch len 10\n",
            "batch idx60, batch len 10\n",
            "batch idx61, batch len 10\n",
            "batch idx62, batch len 10\n",
            "batch idx63, batch len 10\n",
            "batch idx64, batch len 10\n",
            "batch idx65, batch len 10\n",
            "batch idx66, batch len 10\n",
            "batch idx67, batch len 10\n",
            "batch idx68, batch len 10\n",
            "batch idx69, batch len 10\n",
            "batch idx70, batch len 10\n",
            "batch idx71, batch len 10\n",
            "batch idx72, batch len 10\n",
            "batch idx73, batch len 10\n",
            "batch idx74, batch len 10\n",
            "batch idx75, batch len 10\n",
            "batch idx76, batch len 10\n",
            "batch idx77, batch len 10\n",
            "batch idx78, batch len 10\n",
            "batch idx79, batch len 10\n",
            "batch idx80, batch len 10\n",
            "batch idx81, batch len 10\n",
            "batch idx82, batch len 10\n",
            "batch idx83, batch len 10\n",
            "batch idx84, batch len 10\n",
            "batch idx85, batch len 10\n",
            "batch idx86, batch len 10\n",
            "batch idx87, batch len 10\n",
            "batch idx88, batch len 10\n",
            "batch idx89, batch len 10\n",
            "batch idx90, batch len 10\n",
            "batch idx91, batch len 10\n",
            "batch idx92, batch len 10\n",
            "batch idx93, batch len 10\n",
            "batch idx94, batch len 10\n",
            "batch idx95, batch len 10\n",
            "batch idx96, batch len 10\n",
            "batch idx97, batch len 10\n",
            "batch idx98, batch len 10\n",
            "batch idx99, batch len 10\n",
            "batch idx100, batch len 1\n",
            "batch idx0, batch len 10\n",
            "batch idx1, batch len 10\n",
            "batch idx2, batch len 10\n",
            "batch idx3, batch len 10\n",
            "batch idx4, batch len 10\n",
            "batch idx5, batch len 10\n",
            "batch idx6, batch len 10\n",
            "batch idx7, batch len 10\n",
            "batch idx8, batch len 10\n",
            "batch idx9, batch len 10\n",
            "batch idx10, batch len 10\n",
            "batch idx11, batch len 10\n",
            "batch idx12, batch len 10\n",
            "batch idx13, batch len 10\n",
            "batch idx14, batch len 10\n",
            "batch idx15, batch len 10\n",
            "batch idx16, batch len 10\n",
            "batch idx17, batch len 10\n",
            "batch idx18, batch len 10\n",
            "batch idx19, batch len 10\n",
            "batch idx20, batch len 10\n",
            "batch idx21, batch len 10\n",
            "batch idx22, batch len 10\n",
            "batch idx23, batch len 10\n",
            "batch idx24, batch len 10\n",
            "batch idx25, batch len 10\n",
            "batch idx26, batch len 10\n",
            "batch idx27, batch len 10\n",
            "batch idx28, batch len 10\n",
            "batch idx29, batch len 10\n",
            "batch idx30, batch len 10\n",
            "batch idx31, batch len 10\n",
            "batch idx32, batch len 10\n",
            "batch idx33, batch len 10\n",
            "batch idx34, batch len 10\n",
            "batch idx35, batch len 10\n",
            "batch idx36, batch len 10\n",
            "batch idx37, batch len 10\n",
            "batch idx38, batch len 10\n",
            "batch idx39, batch len 10\n",
            "batch idx40, batch len 10\n",
            "batch idx41, batch len 10\n",
            "batch idx42, batch len 10\n",
            "batch idx43, batch len 10\n",
            "batch idx44, batch len 10\n",
            "batch idx45, batch len 10\n",
            "batch idx46, batch len 10\n",
            "batch idx47, batch len 10\n",
            "batch idx48, batch len 10\n",
            "batch idx49, batch len 10\n",
            "batch idx50, batch len 10\n",
            "batch idx51, batch len 10\n",
            "batch idx52, batch len 10\n",
            "batch idx53, batch len 10\n",
            "batch idx54, batch len 10\n",
            "batch idx55, batch len 10\n",
            "batch idx56, batch len 10\n",
            "batch idx57, batch len 10\n",
            "batch idx58, batch len 10\n",
            "batch idx59, batch len 10\n",
            "batch idx60, batch len 10\n",
            "batch idx61, batch len 10\n",
            "batch idx62, batch len 10\n",
            "batch idx63, batch len 10\n",
            "batch idx64, batch len 10\n",
            "batch idx65, batch len 10\n",
            "batch idx66, batch len 10\n",
            "batch idx67, batch len 10\n",
            "batch idx68, batch len 10\n",
            "batch idx69, batch len 10\n",
            "batch idx70, batch len 10\n",
            "batch idx71, batch len 10\n",
            "batch idx72, batch len 10\n",
            "batch idx73, batch len 10\n",
            "batch idx74, batch len 10\n",
            "batch idx75, batch len 10\n",
            "batch idx76, batch len 10\n",
            "batch idx77, batch len 10\n",
            "batch idx78, batch len 10\n",
            "batch idx79, batch len 10\n",
            "batch idx80, batch len 10\n",
            "batch idx81, batch len 10\n",
            "batch idx82, batch len 10\n",
            "batch idx83, batch len 10\n",
            "batch idx84, batch len 10\n",
            "batch idx85, batch len 10\n",
            "batch idx86, batch len 10\n",
            "batch idx87, batch len 10\n",
            "batch idx88, batch len 10\n",
            "batch idx89, batch len 10\n",
            "batch idx90, batch len 10\n",
            "batch idx91, batch len 10\n",
            "batch idx92, batch len 10\n",
            "batch idx93, batch len 10\n",
            "batch idx94, batch len 10\n",
            "batch idx95, batch len 10\n",
            "batch idx96, batch len 10\n",
            "batch idx97, batch len 10\n",
            "batch idx98, batch len 10\n",
            "batch idx99, batch len 10\n"
          ]
        }
      ]
    },
    {
      "cell_type": "code",
      "source": [
        ""
      ],
      "metadata": {
        "id": "xdarNh0-wIZL"
      },
      "execution_count": 7,
      "outputs": []
    }
  ]
}