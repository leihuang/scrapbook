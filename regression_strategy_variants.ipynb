{
  "nbformat": 4,
  "nbformat_minor": 0,
  "metadata": {
    "colab": {
      "name": "regression_strategy_variants.ipynb",
      "version": "0.3.2",
      "provenance": [],
      "collapsed_sections": [],
      "toc_visible": true,
      "include_colab_link": true
    },
    "kernelspec": {
      "name": "python3",
      "display_name": "Python 3"
    }
  },
  "cells": [
    {
      "cell_type": "markdown",
      "metadata": {
        "id": "view-in-github",
        "colab_type": "text"
      },
      "source": [
        "<a href=\"https://colab.research.google.com/github/leihuang/scrapbook/blob/master/regression_strategy_variants.ipynb\" target=\"_parent\"><img src=\"https://colab.research.google.com/assets/colab-badge.svg\" alt=\"Open In Colab\"/></a>"
      ]
    },
    {
      "metadata": {
        "id": "zq9dasMmlGiZ",
        "colab_type": "text"
      },
      "cell_type": "markdown",
      "source": [
        "# Regression: various strategies and their outcomes\n",
        "\n",
        "1. Standard\n",
        "* Partial\n",
        "* Naive sequential\n",
        "* Decorrelated sequential\n",
        "* Residual sequential\n",
        "* Transfer learning\n",
        "\n",
        "\n"
      ]
    },
    {
      "metadata": {
        "id": "8GUyIhuxibf-",
        "colab_type": "text"
      },
      "cell_type": "markdown",
      "source": [
        "\n",
        "\n",
        "## Truth \n",
        "\n",
        "* General model: $y = f(x_1, x_2, \\beta)$. \n",
        "\n",
        "* Linear model: $y = X_1 \\beta_1 + X_2 \\beta_2 + \\epsilon$, where $X_1$ and $X_2$ are an $n \\times p_1$ and an $n \\times p_2$ matrix, respectively.\n",
        "\n",
        "\n"
      ]
    },
    {
      "metadata": {
        "id": "KPeqEVZTipqL",
        "colab_type": "text"
      },
      "cell_type": "markdown",
      "source": [
        "## Standard\n",
        "\n",
        "Regress $y$ on $X_1$ and $X_2$ *simultaneously* : $\\hat{y} = X_1 \\hat{\\beta}_1 + X_2 \\hat{\\beta}_2$\n",
        "\n",
        "\n"
      ]
    },
    {
      "metadata": {
        "id": "uEJt5hwuis5l",
        "colab_type": "text"
      },
      "cell_type": "markdown",
      "source": [
        "## Partial\n",
        "\n",
        "Regress $y$ on $X_1$ only: $\\hat{y} = X_1 \\hat{\\beta}_1$\n",
        "\n",
        "* $X_2$ are omitted and hence become potential **confounders**.\n",
        "\n"
      ]
    },
    {
      "metadata": {
        "id": "2dKfzgRDiwHz",
        "colab_type": "text"
      },
      "cell_type": "markdown",
      "source": [
        "## Naive sequential\n",
        "\n",
        "1. Regress $y$ on $X_1$: $\\hat{y}_1 = X_1 \\hat{\\beta}_1$\n",
        "2. Regress $y$ on $X_2$: $\\hat{y}_2 = X_2 \\hat{\\beta}_2$\n",
        "3. $\\hat{y} = \\hat{y}_1 + \\hat{y}_2 = X_1 \\hat{\\beta}_1 +  X_2 \\hat{\\beta}_2$\n",
        "\n"
      ]
    },
    {
      "metadata": {
        "id": "AgXTgQHTizuB",
        "colab_type": "text"
      },
      "cell_type": "markdown",
      "source": [
        "## Decorrelated sequential\n",
        "\n",
        "Aka \"sequential regression with decorrelation\".\n",
        "\n",
        "1. Regress $y$ on $X_1$: $\\hat{y}_1 = X_1 \\hat{\\beta}_1$\n",
        "2. Decorrelate $X_2$ from $X_1$: $\\tilde{X}_2 = (I-P)X_2$\n",
        "3. Regress $y$ on $\\tilde{X}_2$: $\\hat{y}_2 = \\tilde{X}_2 \\hat{\\beta}_2$\n",
        "4. $\\hat{y} = \\hat{y}_1 + \\hat{y}_2 = X_1 \\hat{\\beta}_1 +  \\tilde{X}_2 \\hat{\\beta}_2$\n",
        "\n"
      ]
    },
    {
      "metadata": {
        "id": "RSDQWNQoi2Em",
        "colab_type": "text"
      },
      "cell_type": "markdown",
      "source": [
        "## Residual sequential\n",
        "\n",
        "Aka \"sequential regression using residuals\".\n",
        "\n",
        "1. Regress $y$ on $X_1$: $\\hat{y}_1 = X_1 \\hat{\\beta}_1$\n",
        "2. Get residual $r = y - \\hat{y}_1 $\n",
        "3. Regress $r$ on $X_2$: $\\hat{r} = X_2 \\hat{\\beta}_2$\n",
        "4. $\\hat{y} = \\hat{y}_1 + \\hat{r} = X_1 \\hat{\\beta}_1 +  X_2 \\hat{\\beta}_2$"
      ]
    },
    {
      "metadata": {
        "id": "ne3D5zdxi4D2",
        "colab_type": "text"
      },
      "cell_type": "markdown",
      "source": [
        "\n",
        "## Transfer learning\n",
        "\n",
        "Suppose we have three datasets: \n",
        "\n",
        "| Dataset  \t|  Size \t|     $X_1$    \t|     $X_2$    \t| $y$          \t|\n",
        "|:--------:\t|:-----:\t|:------------:\t|:------------:\t|--------------\t|\n",
        "|     1    \t| Large \t| $\\checkmark$ \t|              \t| $\\checkmark$ \t|\n",
        "|     2    \t| Large \t|              \t| $\\checkmark$ \t| $\\checkmark$ \t|\n",
        "|     3    \t| Small \t| $\\checkmark$ \t| $\\checkmark$ \t| $\\checkmark$ \t|\n",
        "\n",
        "Notation: \n",
        "* $X^i_j$ ($i=1,2,3$ and $j=1,2$): $X_j$ matrix of the $i$-th dataset\n",
        "* $y^i (i=1,2,3)$: $y$ of the $i$-th dataset\n",
        "\n",
        "\n",
        "1. Regress $y^1$ on $X^1_1$: $\\hat{y}^1 = X^1_1 \\hat{\\beta}_1 \\Big( \\text{or generally } \\hat{y}^1_1 = f_1(X^1_1, \\hat{\\beta}_1) \\Big)$\n",
        "2. Regress $y^2$ on $X^2_2$: $\\hat{y}^2 = X^2_2 \\hat{\\beta}_2 \\Big( \\text{or generally } \\hat{y}^2_2 = f_2(X^2_2, \\hat{\\beta}_2) \\Big)$\n",
        "3. Compute $\\hat{y}^3_1 = f_1(X^3_1, \\hat{\\beta}_1)$ and $\\hat{y}^3_2 = f_2(X^3_2, \\hat{\\beta}_2)$\n",
        "4. Regress $y^3$ on $\\hat{y}^3_1$ and $\\hat{y}^3_2$: $\\hat{y}^3= \\hat{\\gamma}_1 \\hat{y}^3_1 + \\hat{\\gamma}_2 \\hat{y}^3_2 \\Big( \\text{or generally } \\hat{y}^3 = f(\\hat{y}^3_1, \\hat{y}^3_2, \\hat{\\gamma}) = f\\big(f_1(X^3_1, \\hat{\\beta}_1), f_2(X^3_2, \\hat{\\beta}_2), \\hat{\\gamma}\\big)  \\Big)$"
      ]
    },
    {
      "metadata": {
        "id": "HSEZ_h6YjTPz",
        "colab_type": "text"
      },
      "cell_type": "markdown",
      "source": [
        "## TL;DR\n",
        "\n",
        "For **linear regression** models:\n",
        "\n",
        "|         Strategy        |   $\\beta_1$  |   $\\beta_2$  |      $y$     |\n",
        "|:-----------------------:|:------------:|:------------:|:------------:|\n",
        "|         Standard        | $\\checkmark$ | $\\checkmark$ | $\\checkmark$ |\n",
        "|         Partial         |   $\\times$   |              |              |\n",
        "|     Naive sequential    |   $\\times$   |   $\\times$   |              |\n",
        "| Decorrelated sequential |   $\\times$   | $\\checkmark$ | $\\checkmark$ |\n",
        "|   Residual sequential   |   $\\times$   |              |              |\n",
        "|    Transfer learning    |   $\\times$   |   $\\times$   |              |\n",
        "\n",
        "Notations:\n",
        "* $\\beta_1$:\n",
        "* $\\beta_2$:\n",
        "* $y$:\n",
        "* $\\checkmark$:\n",
        "* $\\times$: "
      ]
    },
    {
      "metadata": {
        "id": "Ipfo4Wwb1ZXS",
        "colab_type": "code",
        "colab": {}
      },
      "cell_type": "code",
      "source": [
        "from __future__ import division, print_function\n",
        "import itertools\n",
        "from functools import reduce\n",
        "\n",
        "import numpy as np\n",
        "import pandas as pd\n",
        "from sklearn.linear_model import LinearRegression\n",
        "from sklearn.metrics import mean_squared_error\n",
        "import matplotlib.pyplot as plt\n",
        "import seaborn as sns\n",
        "\n",
        "sns.set()"
      ],
      "execution_count": 0,
      "outputs": []
    },
    {
      "metadata": {
        "id": "hUZeyc431mIN",
        "colab_type": "code",
        "colab": {}
      },
      "cell_type": "code",
      "source": [
        "def get_X_y(n=1000, p=2, r=0, sigma=0.1, b=None, seed=0):\n",
        "    \"\"\"Generate X from multivariable standard normal distribution,\n",
        "    and y according to a linear model. \n",
        "    \n",
        "    :param n: sample size\n",
        "    :param p: total number of features\n",
        "    :param r: correlation coefficients between features\n",
        "    :param sigma: noise\n",
        "    :param b: beta vector\n",
        "    :param seed: seed for random number generation\n",
        "    \"\"\"\n",
        "    mu = [0] * p\n",
        "    cov = np.identity(p)*(1-r) + np.ones((p,p))*r\n",
        "\n",
        "    np.random.seed(seed)\n",
        "    X = np.random.multivariate_normal(mu, cov, size=n)\n",
        "    \n",
        "    if b is None:\n",
        "        b = list(range(1, p+1))\n",
        "    y = np.dot(X, b) + np.random.randn(n)*sigma\n",
        "    \n",
        "    return X, y"
      ],
      "execution_count": 0,
      "outputs": []
    },
    {
      "metadata": {
        "id": "JQDZU7n0p3RP",
        "colab_type": "code",
        "colab": {}
      },
      "cell_type": "code",
      "source": [
        "def plot(y, yhat, alpha=0.01):\n",
        "    fig, ax = plt.subplots(figsize=(3,3))\n",
        "    ax.scatter(y, yhat, alpha=alpha)\n",
        "    ymin = min(list(y) + list(yhat))\n",
        "    ymax = max(list(y) + list(yhat))\n",
        "    ax.plot([ymin, ymax], [ymin, ymax], '-r')\n",
        "    ax.set_xlabel(r'$y$')\n",
        "    ax.set_ylabel(r'$\\hat{y}$', rotation=0)\n",
        "    plt.show()"
      ],
      "execution_count": 0,
      "outputs": []
    },
    {
      "metadata": {
        "id": "1owHZu3KogB6",
        "colab_type": "text"
      },
      "cell_type": "markdown",
      "source": [
        "# Standard"
      ]
    },
    {
      "metadata": {
        "id": "P7759lXJofSB",
        "colab_type": "code",
        "colab": {
          "base_uri": "https://localhost:8080/",
          "height": 34
        },
        "outputId": "0f461194-81fc-417b-bea6-9e2490ab107e"
      },
      "cell_type": "code",
      "source": [
        "X, y = get_X_y(r=0, b=[1,2], n=10000, seed=0)\n",
        "f = LinearRegression(fit_intercept=False).fit(X, y)\n",
        "f.coef_"
      ],
      "execution_count": 46,
      "outputs": [
        {
          "output_type": "execute_result",
          "data": {
            "text/plain": [
              "array([1.00066028, 2.00168218])"
            ]
          },
          "metadata": {
            "tags": []
          },
          "execution_count": 46
        }
      ]
    },
    {
      "metadata": {
        "id": "4tW1c-sKp0vq",
        "colab_type": "code",
        "colab": {
          "base_uri": "https://localhost:8080/",
          "height": 227
        },
        "outputId": "f396baaf-4acf-4eb0-ea1c-f30e3dd95129"
      },
      "cell_type": "code",
      "source": [
        "plot(y, f.predict(X))"
      ],
      "execution_count": 51,
      "outputs": [
        {
          "output_type": "display_data",
          "data": {
            "image/png": "[encoded data removed]",
            "text/plain": [
              "<Figure size 216x216 with 1 Axes>"
            ]
          },
          "metadata": {
            "tags": []
          }
        }
      ]
    },
    {
      "metadata": {
        "id": "07sDRa92o8_g",
        "colab_type": "code",
        "colab": {
          "base_uri": "https://localhost:8080/",
          "height": 34
        },
        "outputId": "9f45875e-5f72-47fe-9796-36d203e4bcb9"
      },
      "cell_type": "code",
      "source": [
        "X, y = get_X_y(r=0.5, b=[1,2], n=10000, seed=0)\n",
        "f = LinearRegression(fit_intercept=False).fit(X, y)\n",
        "f.coef_"
      ],
      "execution_count": 55,
      "outputs": [
        {
          "output_type": "execute_result",
          "data": {
            "text/plain": [
              "array([0.99793661, 2.00130096])"
            ]
          },
          "metadata": {
            "tags": []
          },
          "execution_count": 55
        }
      ]
    },
    {
      "metadata": {
        "id": "1BRrresgq0Pu",
        "colab_type": "code",
        "colab": {
          "base_uri": "https://localhost:8080/",
          "height": 227
        },
        "outputId": "010e3631-9c1a-4d4e-db18-86442ca63b4d"
      },
      "cell_type": "code",
      "source": [
        "plot(y, f.predict(X))"
      ],
      "execution_count": 56,
      "outputs": [
        {
          "output_type": "display_data",
          "data": {
            "image/png": "[encoded data removed]",
            "text/plain": [
              "<Figure size 216x216 with 1 Axes>"
            ]
          },
          "metadata": {
            "tags": []
          }
        }
      ]
    },
    {
      "metadata": {
        "id": "dtyUjE9ijQU2",
        "colab_type": "code",
        "colab": {
          "base_uri": "https://localhost:8080/",
          "height": 244
        },
        "outputId": "2e0ee639-271f-43e5-d2d1-98060be9df06"
      },
      "cell_type": "code",
      "source": [
        "plot(y, 2*x)\n",
        "mean_squared_error(y, 2*x)"
      ],
      "execution_count": 159,
      "outputs": [
        {
          "output_type": "display_data",
          "data": {
            "image/png": "[encoded data removed]",
            "text/plain": [
              "<Figure size 216x216 with 1 Axes>"
            ]
          },
          "metadata": {
            "tags": []
          }
        },
        {
          "output_type": "execute_result",
          "data": {
            "text/plain": [
              "4.9519693378765"
            ]
          },
          "metadata": {
            "tags": []
          },
          "execution_count": 159
        }
      ]
    },
    {
      "metadata": {
        "id": "f1BpFUVwpBEu",
        "colab_type": "text"
      },
      "cell_type": "markdown",
      "source": [
        "# Partial"
      ]
    },
    {
      "metadata": {
        "id": "AFDaC0dmpDGl",
        "colab_type": "code",
        "colab": {
          "base_uri": "https://localhost:8080/",
          "height": 34
        },
        "outputId": "fa4086c0-a33a-4923-df28-a9a722d002fb"
      },
      "cell_type": "code",
      "source": [
        "X, y = get_X_y(r=0, b=[1,3], n=10000, seed=0)\n",
        "X1 = X[:,[0]]\n",
        "f = LinearRegression(fit_intercept=False).fit(X1, y)\n",
        "f.coef_"
      ],
      "execution_count": 4,
      "outputs": [
        {
          "output_type": "execute_result",
          "data": {
            "text/plain": [
              "array([1.01535165])"
            ]
          },
          "metadata": {
            "tags": []
          },
          "execution_count": 4
        }
      ]
    },
    {
      "metadata": {
        "id": "opaZ2yh1q5-i",
        "colab_type": "code",
        "colab": {
          "base_uri": "https://localhost:8080/",
          "height": 237
        },
        "outputId": "e77420d4-cb2b-4d98-dcee-04fe14e2c17f"
      },
      "cell_type": "code",
      "source": [
        "plot(y, f.predict(X1))"
      ],
      "execution_count": 6,
      "outputs": [
        {
          "output_type": "display_data",
          "data": {
            "image/png": "[encoded data removed]",
            "text/plain": [
              "<Figure size 216x216 with 1 Axes>"
            ]
          },
          "metadata": {
            "tags": []
          }
        }
      ]
    },
    {
      "metadata": {
        "id": "WmTKFwSuplop",
        "colab_type": "code",
        "colab": {
          "base_uri": "https://localhost:8080/",
          "height": 34
        },
        "outputId": "48a8d6b7-dd8b-4178-e684-a4364d265ffa"
      },
      "cell_type": "code",
      "source": [
        "X, y = get_X_y(r=0.9, b=[1,2], n=10000, seed=0)\n",
        "X1 = X[:,[0]]\n",
        "f = LinearRegression(fit_intercept=False).fit(X1, y)\n",
        "f.coef_"
      ],
      "execution_count": 169,
      "outputs": [
        {
          "output_type": "execute_result",
          "data": {
            "text/plain": [
              "array([2.79860622])"
            ]
          },
          "metadata": {
            "tags": []
          },
          "execution_count": 169
        }
      ]
    },
    {
      "metadata": {
        "id": "XWTQGm1QprQ5",
        "colab_type": "code",
        "colab": {
          "base_uri": "https://localhost:8080/",
          "height": 227
        },
        "outputId": "8f8c945f-25e6-4c70-82c6-1e1e1bd9213c"
      },
      "cell_type": "code",
      "source": [
        "plot(y, f.predict(X1))"
      ],
      "execution_count": 170,
      "outputs": [
        {
          "output_type": "display_data",
          "data": {
            "image/png": "[encoded data removed]",
            "text/plain": [
              "<Figure size 216x216 with 1 Axes>"
            ]
          },
          "metadata": {
            "tags": []
          }
        }
      ]
    },
    {
      "metadata": {
        "id": "bM55kUDNnODY",
        "colab_type": "text"
      },
      "cell_type": "markdown",
      "source": [
        "### Side note\n",
        "\n",
        "Sometimes it's better when the cloud is more horizontal: when $y$ and $\\hat{y}$ are gaussian distributed and hence most of the points are close to the origin. Even though the cloud looks better when scaling $\\hat{y}$ to make it trend better with $y$, mse is larger because of the higher cost by scaling the points near the center. "
      ]
    },
    {
      "metadata": {
        "id": "ELM3Mwu4nNaE",
        "colab_type": "code",
        "colab": {
          "base_uri": "https://localhost:8080/",
          "height": 310
        },
        "outputId": "eb87f03e-4be1-4018-d025-10b3d22874bb"
      },
      "cell_type": "code",
      "source": [
        "X, y = get_X_y(r=0, b=[1,3], n=200, seed=0)\n",
        "X1 = X[:,[0]]\n",
        "f = LinearRegression(fit_intercept=False).fit(X1, y)\n",
        "yhat = f.predict(X1)\n",
        "\n",
        "lim = [min(list(y)+list(yhat)), max(list(y)+list(yhat))]\n",
        "sns.jointplot(y, yhat, height=4, xlim=lim, ylim=lim)\n",
        "\n",
        "mean_squared_error(y, yhat)"
      ],
      "execution_count": 32,
      "outputs": [
        {
          "output_type": "execute_result",
          "data": {
            "text/plain": [
              "8.651552308067114"
            ]
          },
          "metadata": {
            "tags": []
          },
          "execution_count": 32
        },
        {
          "output_type": "display_data",
          "data": {
            "image/png": "[encoded data removed]",
            "text/plain": [
              "<Figure size 288x288 with 3 Axes>"
            ]
          },
          "metadata": {
            "tags": []
          }
        }
      ]
    },
    {
      "metadata": {
        "id": "zhRW-n_GnaZI",
        "colab_type": "code",
        "colab": {
          "base_uri": "https://localhost:8080/",
          "height": 310
        },
        "outputId": "77146f01-4cab-42d9-b757-7ef41a2c6408"
      },
      "cell_type": "code",
      "source": [
        "yhat2 = f.predict(X1) * 3\n",
        "\n",
        "lim = [min(list(y)+list(yhat2)), max(list(y)+list(yhat2))]\n",
        "sns.jointplot(y, yhat2, height=4, xlim=lim, ylim=lim)\n",
        "\n",
        "mean_squared_error(y, yhat2)"
      ],
      "execution_count": 33,
      "outputs": [
        {
          "output_type": "execute_result",
          "data": {
            "text/plain": [
              "11.694310110137799"
            ]
          },
          "metadata": {
            "tags": []
          },
          "execution_count": 33
        },
        {
          "output_type": "display_data",
          "data": {
            "image/png": "[encoded data removed]",
            "text/plain": [
              "<Figure size 288x288 with 3 Axes>"
            ]
          },
          "metadata": {
            "tags": []
          }
        }
      ]
    },
    {
      "metadata": {
        "id": "fHZCCtIImRcA",
        "colab_type": "text"
      },
      "cell_type": "markdown",
      "source": [
        "# Naive and decorrelated sequential\n",
        "\n"
      ]
    },
    {
      "metadata": {
        "id": "3AecNjnn4S4F",
        "colab_type": "text"
      },
      "cell_type": "markdown",
      "source": [
        "Given an $n$-by-$p$ matrix $X$  ($n>p$), a **projection matrix** that projects any $y \\in \\mathbb{R}^n$ onto the subspace spanned by (the column vectors of) $X$ is:\n",
        "\n",
        "$P = X(X^T X)^{-1} X^T$ (aka the \"*hat matrix*\" in linear regression literature). \n",
        "\n",
        "It's easy to verify: \n",
        "* $PX = X(X^T X)^{-1} X^T X = X$\n",
        "* $PP = X(X^T X)^{-1} X^T X(X^T X)^{-1} X^T = X(X^T X)^{-1} X^T = P$\n",
        "\n",
        "Both are consistent with that $P$ represents a projection operator onto the $X$ subspace.\n",
        "\n",
        "The projection operator to the *orthogonal complement* of $X$ can be represented by $I - P$: \n",
        "\n",
        "* $\\langle P y, (I-P) y \\rangle = y^T P^T (I - P) y = y^T P^T y - y^T P^T P y = y^T P^T y - y^T P P y = 0$ (it makes use of $P^T = (X(X^T X)^{-1} X^T)^T = X (X^T X)^{-1} X^T = P$ and that the inverse of a symmetric matrix is [also symmetric](https://math.stackexchange.com/a/3162436/224349)).\n",
        "\n",
        "---\n",
        "\n",
        "Computing $X(X^T X)^{-1} X^T$: \n",
        "\n",
        "Singular value decomposition: $X = U \\Sigma V^T$ \n",
        "\n",
        "$X(X^T X)^{-1} X^T = U \\Sigma V^T (V \\Sigma U^T U \\Sigma V^T)^{-1} V \\Sigma U^T = U \\Sigma V^T (V \\Sigma^2 V^T)^{-1} V \\Sigma U^T = U \\Sigma V^T V \\Sigma^{-2} V^T V \\Sigma U^T = U U^T$"
      ]
    },
    {
      "metadata": {
        "id": "Mch1zkUc2jOR",
        "colab_type": "code",
        "colab": {}
      },
      "cell_type": "code",
      "source": [
        "def decorrelate(X, k):\n",
        "    \"\"\"Return the last p-k columns of X (that is, X[:,k:]) decorrelated \n",
        "    from the first k columns (that is, X[:,:k]). \n",
        "    \n",
        "    :param X:\n",
        "    :param k: \n",
        "    :return:\n",
        "    \"\"\"\n",
        "    assert k < X.shape[1]\n",
        "    X1, X2 = X[:,:k], X[:,k:]\n",
        "    U, S, Vt = np.linalg.svd(X1, full_matrices=False)\n",
        "    X2_ = X2 - np.dot(np.dot(U, U.T), X2)\n",
        "    return X1, X2, X2_"
      ],
      "execution_count": 0,
      "outputs": []
    },
    {
      "metadata": {
        "id": "BXTkySpOJsT4",
        "colab_type": "code",
        "outputId": "4038fcdc-ee6f-47b2-e2e5-b11a80c7c1ad",
        "colab": {
          "base_uri": "https://localhost:8080/",
          "height": 34
        }
      },
      "cell_type": "code",
      "source": [
        "X, y = get_X_y(r=0, b=[1,2], n=10000, seed=0)\n",
        "X1, X2, X2_ = decorrelate(X, k=1)\n",
        "\n",
        "f1 = LinearRegression(fit_intercept=False).fit(X1, y)\n",
        "f2 = LinearRegression(fit_intercept=False).fit(X2, y)\n",
        "f2_ = LinearRegression(fit_intercept=False).fit(X2_, y)\n",
        "\n",
        "f1.coef_, f2.coef_, f2_.coef_"
      ],
      "execution_count": 100,
      "outputs": [
        {
          "output_type": "execute_result",
          "data": {
            "text/plain": [
              "(array([1.01045728]), array([2.0066708]), array([2.00168218]))"
            ]
          },
          "metadata": {
            "tags": []
          },
          "execution_count": 100
        }
      ]
    },
    {
      "metadata": {
        "id": "zhGQIdUtzfrV",
        "colab_type": "code",
        "colab": {
          "base_uri": "https://localhost:8080/",
          "height": 227
        },
        "outputId": "58325511-8740-4446-99e0-e316e85a7e8c"
      },
      "cell_type": "code",
      "source": [
        "plot(y, f1.predict(X1)+f2.predict(X2))"
      ],
      "execution_count": 101,
      "outputs": [
        {
          "output_type": "display_data",
          "data": {
            "image/png": "[encoded data removed]",
            "text/plain": [
              "<Figure size 216x216 with 1 Axes>"
            ]
          },
          "metadata": {
            "tags": []
          }
        }
      ]
    },
    {
      "metadata": {
        "id": "1OBHi0UHzmrO",
        "colab_type": "code",
        "colab": {
          "base_uri": "https://localhost:8080/",
          "height": 227
        },
        "outputId": "33834246-5996-450c-b869-f84149d65867"
      },
      "cell_type": "code",
      "source": [
        "plot(y, f1.predict(X1)+f2_.predict(X2_))"
      ],
      "execution_count": 102,
      "outputs": [
        {
          "output_type": "display_data",
          "data": {
            "image/png": "[encoded data removed]",
            "text/plain": [
              "<Figure size 216x216 with 1 Axes>"
            ]
          },
          "metadata": {
            "tags": []
          }
        }
      ]
    },
    {
      "metadata": {
        "id": "VoqQq0hCLr1k",
        "colab_type": "code",
        "outputId": "ce048a3d-09c1-40a0-84bd-d4f7d6748700",
        "colab": {
          "base_uri": "https://localhost:8080/",
          "height": 34
        }
      },
      "cell_type": "code",
      "source": [
        "X, y = get_X_y(r=0.5, b=[1,2], n=10000, seed=0)\n",
        "X1, X2, X2_ = decorrelate(X, k=1)\n",
        "\n",
        "f1 = LinearRegression(fit_intercept=False).fit(X1, y)\n",
        "f2 = LinearRegression(fit_intercept=False).fit(X2, y)\n",
        "f2_ = LinearRegression(fit_intercept=False).fit(X2_, y)\n",
        "\n",
        "f1.coef_, f2.coef_, f2_.coef_"
      ],
      "execution_count": 103,
      "outputs": [
        {
          "output_type": "execute_result",
          "data": {
            "text/plain": [
              "(array([2.00804018]), array([2.50929077]), array([2.00130096]))"
            ]
          },
          "metadata": {
            "tags": []
          },
          "execution_count": 103
        }
      ]
    },
    {
      "metadata": {
        "id": "kbAsh7hVzpdw",
        "colab_type": "code",
        "colab": {
          "base_uri": "https://localhost:8080/",
          "height": 227
        },
        "outputId": "5c00d236-8d42-4f0c-eeef-8bfad6fcf045"
      },
      "cell_type": "code",
      "source": [
        "plot(y, f1.predict(X1)+f2.predict(X2))"
      ],
      "execution_count": 104,
      "outputs": [
        {
          "output_type": "display_data",
          "data": {
            "image/png": "[encoded data removed]",
            "text/plain": [
              "<Figure size 216x216 with 1 Axes>"
            ]
          },
          "metadata": {
            "tags": []
          }
        }
      ]
    },
    {
      "metadata": {
        "id": "ypdUAnzLJ5eG",
        "colab_type": "code",
        "outputId": "3fedf842-09d2-47cb-c199-aa513902be94",
        "colab": {
          "base_uri": "https://localhost:8080/",
          "height": 227
        }
      },
      "cell_type": "code",
      "source": [
        "plot(y, f1.predict(X1)+f2_.predict(X2_))"
      ],
      "execution_count": 105,
      "outputs": [
        {
          "output_type": "display_data",
          "data": {
            "image/png": "[encoded data removed]",
            "text/plain": [
              "<Figure size 216x216 with 1 Axes>"
            ]
          },
          "metadata": {
            "tags": []
          }
        }
      ]
    },
    {
      "metadata": {
        "id": "gCIOew1BjaGt",
        "colab_type": "text"
      },
      "cell_type": "markdown",
      "source": [
        "# Residual sequential\n",
        "\n",
        " \n",
        "\n"
      ]
    },
    {
      "metadata": {
        "id": "7rZnIBtrk9Vi",
        "colab_type": "code",
        "colab": {
          "base_uri": "https://localhost:8080/",
          "height": 34
        },
        "outputId": "cea9fc21-8a95-48c3-f64d-9d5c5799ad66"
      },
      "cell_type": "code",
      "source": [
        "X, y = get_X_y(r=0, b=[1,2], n=10000, seed=0)\n",
        "X1, X2 = X[:,:1], X[:,1:]\n",
        "\n",
        "f1 = LinearRegression(fit_intercept=False).fit(X1, y)\n",
        "res = y - f1.predict(X1)\n",
        "\n",
        "f2 = LinearRegression(fit_intercept=False).fit(X2, res)\n",
        "\n",
        "f1.coef_, f2.coef_"
      ],
      "execution_count": 112,
      "outputs": [
        {
          "output_type": "execute_result",
          "data": {
            "text/plain": [
              "(array([1.01045728]), array([2.00163334]))"
            ]
          },
          "metadata": {
            "tags": []
          },
          "execution_count": 112
        }
      ]
    },
    {
      "metadata": {
        "id": "FQOr7KeE0-S0",
        "colab_type": "code",
        "colab": {
          "base_uri": "https://localhost:8080/",
          "height": 227
        },
        "outputId": "e6cdf20c-70aa-4a57-a821-8531a7404187"
      },
      "cell_type": "code",
      "source": [
        "plot(y, f1.predict(X1)+f2.predict(X2))"
      ],
      "execution_count": 113,
      "outputs": [
        {
          "output_type": "display_data",
          "data": {
            "image/png": "[encoded data removed]",
            "text/plain": [
              "<Figure size 216x216 with 1 Axes>"
            ]
          },
          "metadata": {
            "tags": []
          }
        }
      ]
    },
    {
      "metadata": {
        "id": "SjmYREfz1KsY",
        "colab_type": "code",
        "colab": {
          "base_uri": "https://localhost:8080/",
          "height": 34
        },
        "outputId": "f5e987b6-8ea8-4020-e255-61585183ec26"
      },
      "cell_type": "code",
      "source": [
        "X, y = get_X_y(r=0.5, b=[1,3], n=10000, seed=0)\n",
        "X1, X2 = X[:,:1], X[:,1:]\n",
        "\n",
        "f1 = LinearRegression(fit_intercept=False).fit(X1, y)\n",
        "res = y - f1.predict(X1)\n",
        "\n",
        "f2 = LinearRegression(fit_intercept=False).fit(X2, res)\n",
        "\n",
        "f1.coef_, f2.coef_"
      ],
      "execution_count": 42,
      "outputs": [
        {
          "output_type": "execute_result",
          "data": {
            "text/plain": [
              "(array([2.51276366]), array([2.23019316]))"
            ]
          },
          "metadata": {
            "tags": []
          },
          "execution_count": 42
        }
      ]
    },
    {
      "metadata": {
        "id": "G-bOq4V01NEC",
        "colab_type": "code",
        "colab": {
          "base_uri": "https://localhost:8080/",
          "height": 237
        },
        "outputId": "52bc8fc7-9226-4f80-ed0b-c1ded62a9611"
      },
      "cell_type": "code",
      "source": [
        "plot(y, f1.predict(X1)+f2.predict(X2))"
      ],
      "execution_count": 43,
      "outputs": [
        {
          "output_type": "display_data",
          "data": {
            "image/png": "[encoded data removed]",
            "text/plain": [
              "<Figure size 216x216 with 1 Axes>"
            ]
          },
          "metadata": {
            "tags": []
          }
        }
      ]
    },
    {
      "metadata": {
        "id": "dSFuSvMVoSgs",
        "colab_type": "text"
      },
      "cell_type": "markdown",
      "source": [
        "# Transfer learning\n",
        "\n"
      ]
    },
    {
      "metadata": {
        "id": "mYhcHqvUoUPA",
        "colab_type": "code",
        "colab": {}
      },
      "cell_type": "code",
      "source": [
        "def get_dat(n1, n2, n3, n4, sigma, r, seed=0):\n",
        "    n = n1 + n2 + n3 + n4\n",
        "    X, y = get_X_y(n=n, p=4, r=r, sigma=sigma, b=[1,1,1,1], seed=seed)\n",
        "\n",
        "    X1, y1 = X[:n1], y[:n1]\n",
        "    X2, y2 = X[n1:n1+n2], y[n1:n1+n2]\n",
        "    X3, y3 = X[n1+n2:n1+n2+n3], y[n1+n2:n1+n2+n3]\n",
        "    X4, y4 = X[n1+n2+n3:n], y[n1+n2+n3:n]\n",
        "    \n",
        "    return X1, y1, X2, y2, X3, y3, X4, y4"
      ],
      "execution_count": 0,
      "outputs": []
    },
    {
      "metadata": {
        "id": "d5ovcUwsxWa3",
        "colab_type": "code",
        "colab": {}
      },
      "cell_type": "code",
      "source": [
        "def get_mses(dat):\n",
        "    X1, y1, X2, y2, X3, y3, X4, y4 = dat\n",
        "    f1 = LinearRegression(fit_intercept=False).fit(X1[:,:2], y1)\n",
        "    f2 = LinearRegression(fit_intercept=False).fit(X2[:,2:], y2)\n",
        "\n",
        "    X3_ = np.stack((f1.predict(X3[:,:2]), f2.predict(X3[:,2:])), axis=1)\n",
        "\n",
        "    f3_ = LinearRegression(fit_intercept=False).fit(X3_, y3)\n",
        "    f3 = LinearRegression(fit_intercept=False).fit(X3, y3)\n",
        "    \n",
        "    mse1_train = mean_squared_error(y3, f3.predict(X3))\n",
        "    mse2_train = mean_squared_error(y3, f3_.predict(X3_))\n",
        "    \n",
        "    X4_ = np.stack((f1.predict(X4[:,:2]), f2.predict(X4[:,2:])), axis=1)\n",
        "    \n",
        "    mse1_test = mean_squared_error(y4, f3.predict(X4))\n",
        "    mse2_test = mean_squared_error(y4, f3_.predict(X4_))\n",
        "    \n",
        "    return mse1_train, mse2_train, mse1_test, mse2_test"
      ],
      "execution_count": 0,
      "outputs": []
    },
    {
      "metadata": {
        "id": "KCcsk39ozn5j",
        "colab_type": "code",
        "colab": {}
      },
      "cell_type": "code",
      "source": [
        "n12s = [100, 10000]\n",
        "sigmas = [0.1, 10]\n",
        "rs = [0, 0.9]\n",
        "\n",
        "sdfs = []\n",
        "\n",
        "for i in range(100):\n",
        "    out = []\n",
        "    for n12, sigma, r in itertools.product(n12s, sigmas, rs):\n",
        "        dat = get_dat(n12, n12, 100, 10000, sigma, r, seed=3)\n",
        "        out.append([n12, sigma, r]+list(get_mses(dat)))\n",
        "\n",
        "    df = pd.DataFrame(out, columns=['n12', 'sigma', 'r', 'train1', 'train2', 'test1', 'test2'])\n",
        "    \n",
        "    df['rtrain'] = df.train2 / df.train1\n",
        "    df['rtest'] = df.test2 / df.test1\n",
        "    \n",
        "    sdf = df.iloc[:,[0,1,2,-2,-1]]\n",
        "    \n",
        "    sdfs.append(sdf)"
      ],
      "execution_count": 0,
      "outputs": []
    },
    {
      "metadata": {
        "id": "Xui62rqxI07w",
        "colab_type": "code",
        "colab": {
          "base_uri": "https://localhost:8080/",
          "height": 297
        },
        "outputId": "a589225e-9b8e-4020-801d-679c49fb1957"
      },
      "cell_type": "code",
      "source": [
        "reduce(lambda x, y: x+y, sdfs) / 100"
      ],
      "execution_count": 194,
      "outputs": [
        {
          "output_type": "execute_result",
          "data": {
            "text/html": [
              "<div>\n",
              "<style scoped>\n",
              "    .dataframe tbody tr th:only-of-type {\n",
              "        vertical-align: middle;\n",
              "    }\n",
              "\n",
              "    .dataframe tbody tr th {\n",
              "        vertical-align: top;\n",
              "    }\n",
              "\n",
              "    .dataframe thead th {\n",
              "        text-align: right;\n",
              "    }\n",
              "</style>\n",
              "<table border=\"1\" class=\"dataframe\">\n",
              "  <thead>\n",
              "    <tr style=\"text-align: right;\">\n",
              "      <th></th>\n",
              "      <th>n12</th>\n",
              "      <th>sigma</th>\n",
              "      <th>r</th>\n",
              "      <th>rtrain</th>\n",
              "      <th>rtest</th>\n",
              "    </tr>\n",
              "  </thead>\n",
              "  <tbody>\n",
              "    <tr>\n",
              "      <th>0</th>\n",
              "      <td>100</td>\n",
              "      <td>0.1</td>\n",
              "      <td>0.0</td>\n",
              "      <td>4.775885</td>\n",
              "      <td>3.794811</td>\n",
              "    </tr>\n",
              "    <tr>\n",
              "      <th>1</th>\n",
              "      <td>100</td>\n",
              "      <td>0.1</td>\n",
              "      <td>0.9</td>\n",
              "      <td>1.254949</td>\n",
              "      <td>1.341576</td>\n",
              "    </tr>\n",
              "    <tr>\n",
              "      <th>2</th>\n",
              "      <td>100</td>\n",
              "      <td>10.0</td>\n",
              "      <td>0.0</td>\n",
              "      <td>1.014872</td>\n",
              "      <td>0.983328</td>\n",
              "    </tr>\n",
              "    <tr>\n",
              "      <th>3</th>\n",
              "      <td>100</td>\n",
              "      <td>10.0</td>\n",
              "      <td>0.9</td>\n",
              "      <td>1.025793</td>\n",
              "      <td>0.999802</td>\n",
              "    </tr>\n",
              "    <tr>\n",
              "      <th>4</th>\n",
              "      <td>10000</td>\n",
              "      <td>0.1</td>\n",
              "      <td>0.0</td>\n",
              "      <td>1.224154</td>\n",
              "      <td>1.183330</td>\n",
              "    </tr>\n",
              "    <tr>\n",
              "      <th>5</th>\n",
              "      <td>10000</td>\n",
              "      <td>0.1</td>\n",
              "      <td>0.9</td>\n",
              "      <td>1.059577</td>\n",
              "      <td>0.937621</td>\n",
              "    </tr>\n",
              "    <tr>\n",
              "      <th>6</th>\n",
              "      <td>10000</td>\n",
              "      <td>10.0</td>\n",
              "      <td>0.0</td>\n",
              "      <td>1.012161</td>\n",
              "      <td>1.000879</td>\n",
              "    </tr>\n",
              "    <tr>\n",
              "      <th>7</th>\n",
              "      <td>10000</td>\n",
              "      <td>10.0</td>\n",
              "      <td>0.9</td>\n",
              "      <td>1.086600</td>\n",
              "      <td>0.935494</td>\n",
              "    </tr>\n",
              "  </tbody>\n",
              "</table>\n",
              "</div>"
            ],
            "text/plain": [
              "     n12  sigma    r    rtrain     rtest\n",
              "0    100    0.1  0.0  4.775885  3.794811\n",
              "1    100    0.1  0.9  1.254949  1.341576\n",
              "2    100   10.0  0.0  1.014872  0.983328\n",
              "3    100   10.0  0.9  1.025793  0.999802\n",
              "4  10000    0.1  0.0  1.224154  1.183330\n",
              "5  10000    0.1  0.9  1.059577  0.937621\n",
              "6  10000   10.0  0.0  1.012161  1.000879\n",
              "7  10000   10.0  0.9  1.086600  0.935494"
            ]
          },
          "metadata": {
            "tags": []
          },
          "execution_count": 194
        }
      ]
    },
    {
      "metadata": {
        "id": "O0yzsMrPLxm0",
        "colab_type": "code",
        "colab": {}
      },
      "cell_type": "code",
      "source": [
        ""
      ],
      "execution_count": 0,
      "outputs": []
    }
  ]
}