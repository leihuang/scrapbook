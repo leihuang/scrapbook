{
  "nbformat": 4,
  "nbformat_minor": 0,
  "metadata": {
    "colab": {
      "name": "regression_strategy_variants.ipynb",
      "version": "0.3.2",
      "provenance": [],
      "collapsed_sections": [],
      "toc_visible": true,
      "include_colab_link": true
    },
    "kernelspec": {
      "name": "python3",
      "display_name": "Python 3"
    }
  },
  "cells": [
    {
      "cell_type": "markdown",
      "metadata": {
        "id": "view-in-github",
        "colab_type": "text"
      },
      "source": [
        "<a href=\"https://colab.research.google.com/github/leihuang/scrapbook/blob/master/regression_strategy_variants.ipynb\" target=\"_parent\"><img src=\"https://colab.research.google.com/assets/colab-badge.svg\" alt=\"Open In Colab\"/></a>"
      ]
    },
    {
      "metadata": {
        "id": "zq9dasMmlGiZ",
        "colab_type": "text"
      },
      "cell_type": "markdown",
      "source": [
        "# Regression: various strategies and their outcomes\n",
        "\n",
        "1. Standard\n",
        "* Partial\n",
        "* Naive sequential\n",
        "* Decorrelated sequential\n",
        "* Residual sequential\n",
        "* Transfer learning\n",
        "\n",
        "\n"
      ]
    },
    {
      "metadata": {
        "id": "8GUyIhuxibf-",
        "colab_type": "text"
      },
      "cell_type": "markdown",
      "source": [
        "\n",
        "\n",
        "## Truth \n",
        "\n",
        "* General model: $y = f(x_1, x_2, \\beta)$. \n",
        "\n",
        "* Linear model: $y = X_1 \\beta_1 + X_2 \\beta_2 + \\epsilon$, where $X_1$ and $X_2$ are an $n \\times p_1$ and an $n \\times p_2$ matrix, respectively.\n",
        "\n",
        "\n"
      ]
    },
    {
      "metadata": {
        "id": "KPeqEVZTipqL",
        "colab_type": "text"
      },
      "cell_type": "markdown",
      "source": [
        "## Standard\n",
        "\n",
        "Regress $y$ on $X_1$ and $X_2$ *simultaneously* : $\\hat{y} = X_1 \\hat{\\beta}_1 + X_2 \\hat{\\beta}_2$\n",
        "\n",
        "\n"
      ]
    },
    {
      "metadata": {
        "id": "uEJt5hwuis5l",
        "colab_type": "text"
      },
      "cell_type": "markdown",
      "source": [
        "## Partial\n",
        "\n",
        "Regress $y$ on $X_1$ only: $\\hat{y} = X_1 \\hat{\\beta}_1$\n",
        "\n",
        "* $X_2$ are omitted and hence become potential **confounders**.\n",
        "\n"
      ]
    },
    {
      "metadata": {
        "id": "2dKfzgRDiwHz",
        "colab_type": "text"
      },
      "cell_type": "markdown",
      "source": [
        "## Naive sequential\n",
        "\n",
        "1. Regress $y$ on $X_1$: $\\hat{y}_1 = X_1 \\hat{\\beta}_1$\n",
        "2. Regress $y$ on $X_2$: $\\hat{y}_2 = X_2 \\hat{\\beta}_2$\n",
        "3. $\\hat{y} = \\hat{y}_1 + \\hat{y}_2 = X_1 \\hat{\\beta}_1 +  X_2 \\hat{\\beta}_2$\n",
        "\n"
      ]
    },
    {
      "metadata": {
        "id": "AgXTgQHTizuB",
        "colab_type": "text"
      },
      "cell_type": "markdown",
      "source": [
        "## Decorrelated sequential\n",
        "\n",
        "Aka \"sequential regression with decorrelation\".\n",
        "\n",
        "1. Regress $y$ on $X_1$: $\\hat{y}_1 = X_1 \\hat{\\beta}_1$\n",
        "2. Decorrelate $X_2$ from $X_1$: $\\tilde{X}_2 = (I-P)X_2$\n",
        "3. Regress $y$ on $\\tilde{X}_2$: $\\hat{y}_2 = \\tilde{X}_2 \\hat{\\beta}_2$\n",
        "4. $\\hat{y} = \\hat{y}_1 + \\hat{y}_2 = X_1 \\hat{\\beta}_1 +  \\tilde{X}_2 \\hat{\\beta}_2$\n",
        "\n"
      ]
    },
    {
      "metadata": {
        "id": "RSDQWNQoi2Em",
        "colab_type": "text"
      },
      "cell_type": "markdown",
      "source": [
        "## Residual sequential\n",
        "\n",
        "Aka \"sequential regression using residuals\".\n",
        "\n",
        "1. Regress $y$ on $X_1$: $\\hat{y}_1 = X_1 \\hat{\\beta}_1$\n",
        "2. Get residual $r = y - \\hat{y}_1 $\n",
        "3. Regress $r$ on $X_2$: $\\hat{r} = X_2 \\hat{\\beta}_2$\n",
        "4. $\\hat{y} = \\hat{y}_1 + \\hat{r} = X_1 \\hat{\\beta}_1 +  X_2 \\hat{\\beta}_2$"
      ]
    },
    {
      "metadata": {
        "id": "ne3D5zdxi4D2",
        "colab_type": "text"
      },
      "cell_type": "markdown",
      "source": [
        "\n",
        "## Transfer learning\n",
        "\n",
        "Suppose we have three datasets: \n",
        "\n",
        "| Dataset  \t|  Size \t|     $X_1$    \t|     $X_2$    \t| $y$          \t|\n",
        "|:--------:\t|:-----:\t|:------------:\t|:------------:\t|--------------\t|\n",
        "|     1    \t| Large \t| $\\checkmark$ \t|              \t| $\\checkmark$ \t|\n",
        "|     2    \t| Large \t|              \t| $\\checkmark$ \t| $\\checkmark$ \t|\n",
        "|     3    \t| Small \t| $\\checkmark$ \t| $\\checkmark$ \t| $\\checkmark$ \t|\n",
        "\n",
        "Notation: \n",
        "* $X^i_j$ ($i=1,2,3$ and $j=1,2$): $X_j$ matrix of the $i$-th dataset\n",
        "* $y^i (i=1,2,3)$: $y$ of the $i$-th dataset\n",
        "\n",
        "\n",
        "1. Regress $y^1$ on $X^1_1$: $\\hat{y}^1 = X^1_1 \\hat{\\beta}_1 \\Big( \\text{or generally } \\hat{y}^1_1 = f_1(X^1_1, \\hat{\\beta}_1) \\Big)$\n",
        "2. Regress $y^2$ on $X^2_2$: $\\hat{y}^2 = X^2_2 \\hat{\\beta}_2 \\Big( \\text{or generally } \\hat{y}^2_2 = f_2(X^2_2, \\hat{\\beta}_2) \\Big)$\n",
        "3. Compute $\\hat{y}^3_1 = f_1(X^3_1, \\hat{\\beta}_1)$ and $\\hat{y}^3_2 = f_2(X^3_2, \\hat{\\beta}_2)$\n",
        "4. Regress $y^3$ on $\\hat{y}^3_1$ and $\\hat{y}^3_2$: $\\hat{y}^3= \\hat{\\gamma}_1 \\hat{y}^3_1 + \\hat{\\gamma}_2 \\hat{y}^3_2 \\Big( \\text{or generally } \\hat{y}^3 = f(\\hat{y}^3_1, \\hat{y}^3_2, \\hat{\\gamma}) = f\\big(f_1(X^3_1, \\hat{\\beta}_1), f_2(X^3_2, \\hat{\\beta}_2), \\hat{\\gamma}\\big)  \\Big)$\n",
        "\n",
        "---\n",
        "\n",
        "* Transfer learning or feature engineering/learning?\n",
        "* Typical transfer learning\n"
      ]
    },
    {
      "metadata": {
        "id": "HSEZ_h6YjTPz",
        "colab_type": "text"
      },
      "cell_type": "markdown",
      "source": [
        "## TL;DR\n",
        "\n",
        "For **linear regression** models:\n",
        "\n",
        "|         Strategy        |   $\\beta_1$  |   $\\beta_2$  |      $y$     |\n",
        "|:-----------------------:|:------------:|:------------:|:------------:|\n",
        "|         Standard        | $\\checkmark$ | $\\checkmark$ | $\\checkmark$ |\n",
        "|         Partial         |   $\\times$   |              |              |\n",
        "|     Naive sequential    |   $\\times$   |   $\\times$   |              |\n",
        "| Decorrelated sequential |   $\\times$   | $\\checkmark$ | $\\checkmark$ |\n",
        "|   Residual sequential   |   $\\times$   |              |              |\n",
        "|    Transfer learning    |   $\\times$   |   $\\times$   |              |\n",
        "\n",
        "Notations:\n",
        "* $\\beta_1$:\n",
        "* $\\beta_2$:\n",
        "* $y$:\n",
        "* $\\checkmark$:\n",
        "* $\\times$: "
      ]
    },
    {
      "metadata": {
        "id": "fWZvAg81hYVt",
        "colab_type": "code",
        "colab": {
          "base_uri": "https://localhost:8080/",
          "height": 258
        },
        "outputId": "a8882ec1-1c2b-4e69-8303-99c308915541"
      },
      "cell_type": "code",
      "source": [
        "!pip install --upgrade seaborn patsy"
      ],
      "execution_count": 1,
      "outputs": [
        {
          "output_type": "stream",
          "text": [
            "Requirement already up-to-date: seaborn in /usr/local/lib/python3.6/dist-packages (0.9.0)\n",
            "Requirement already up-to-date: patsy in /usr/local/lib/python3.6/dist-packages (0.5.1)\n",
            "Requirement already satisfied, skipping upgrade: matplotlib>=1.4.3 in /usr/local/lib/python3.6/dist-packages (from seaborn) (3.0.3)\n",
            "Requirement already satisfied, skipping upgrade: pandas>=0.15.2 in /usr/local/lib/python3.6/dist-packages (from seaborn) (0.22.0)\n",
            "Requirement already satisfied, skipping upgrade: scipy>=0.14.0 in /usr/local/lib/python3.6/dist-packages (from seaborn) (1.1.0)\n",
            "Requirement already satisfied, skipping upgrade: numpy>=1.9.3 in /usr/local/lib/python3.6/dist-packages (from seaborn) (1.14.6)\n",
            "Requirement already satisfied, skipping upgrade: six in /usr/local/lib/python3.6/dist-packages (from patsy) (1.11.0)\n",
            "Requirement already satisfied, skipping upgrade: cycler>=0.10 in /usr/local/lib/python3.6/dist-packages (from matplotlib>=1.4.3->seaborn) (0.10.0)\n",
            "Requirement already satisfied, skipping upgrade: python-dateutil>=2.1 in /usr/local/lib/python3.6/dist-packages (from matplotlib>=1.4.3->seaborn) (2.5.3)\n",
            "Requirement already satisfied, skipping upgrade: pyparsing!=2.0.4,!=2.1.2,!=2.1.6,>=2.0.1 in /usr/local/lib/python3.6/dist-packages (from matplotlib>=1.4.3->seaborn) (2.3.1)\n",
            "Requirement already satisfied, skipping upgrade: kiwisolver>=1.0.1 in /usr/local/lib/python3.6/dist-packages (from matplotlib>=1.4.3->seaborn) (1.0.1)\n",
            "Requirement already satisfied, skipping upgrade: pytz>=2011k in /usr/local/lib/python3.6/dist-packages (from pandas>=0.15.2->seaborn) (2018.9)\n",
            "Requirement already satisfied, skipping upgrade: setuptools in /usr/local/lib/python3.6/dist-packages (from kiwisolver>=1.0.1->matplotlib>=1.4.3->seaborn) (40.8.0)\n"
          ],
          "name": "stdout"
        }
      ]
    },
    {
      "metadata": {
        "id": "Ipfo4Wwb1ZXS",
        "colab_type": "code",
        "colab": {}
      },
      "cell_type": "code",
      "source": [
        "from __future__ import division, print_function\n",
        "import itertools\n",
        "from functools import reduce\n",
        "\n",
        "import numpy as np\n",
        "import pandas as pd\n",
        "from sklearn.linear_model import LinearRegression\n",
        "from sklearn.metrics import mean_squared_error\n",
        "from patsy import dmatrices, dmatrix\n",
        "import matplotlib.pyplot as plt\n",
        "import seaborn as sns\n",
        "\n",
        "sns.set()"
      ],
      "execution_count": 0,
      "outputs": []
    },
    {
      "metadata": {
        "id": "hUZeyc431mIN",
        "colab_type": "code",
        "colab": {}
      },
      "cell_type": "code",
      "source": [
        "def get_X_y(n=1000, p=2, r=0, sigma=0.1, b=None, seed=0):\n",
        "    \"\"\"Generate X from multivariable standard normal distribution,\n",
        "    and y according to a linear model. \n",
        "    \n",
        "    :param n: sample size\n",
        "    :param p: total number of features\n",
        "    :param r: correlation coefficients between features\n",
        "    :param sigma: noise\n",
        "    :param b: beta vector\n",
        "    :param seed: seed for random number generation\n",
        "    \"\"\"\n",
        "    mu = [0] * p\n",
        "    cov = np.identity(p)*(1-r) + np.ones((p,p))*r\n",
        "\n",
        "    np.random.seed(seed)\n",
        "    X = np.random.multivariate_normal(mu, cov, size=n)\n",
        "    \n",
        "    if b is None:\n",
        "        b = list(range(1, p+1))\n",
        "    y = np.dot(X, b) + np.random.randn(n)*sigma\n",
        "    \n",
        "    return X, y"
      ],
      "execution_count": 0,
      "outputs": []
    },
    {
      "metadata": {
        "id": "JQDZU7n0p3RP",
        "colab_type": "code",
        "colab": {}
      },
      "cell_type": "code",
      "source": [
        "def plot(y, yhat, alpha=0.01):\n",
        "    fig, ax = plt.subplots(figsize=(3,3))\n",
        "    ax.scatter(y, yhat, alpha=alpha)\n",
        "    ymin = min(list(y) + list(yhat))\n",
        "    ymax = max(list(y) + list(yhat))\n",
        "    ax.plot([ymin, ymax], [ymin, ymax], '-r')\n",
        "    ax.set_xlabel(r'$y$')\n",
        "    ax.set_ylabel(r'$\\hat{y}$', rotation=0)\n",
        "    plt.show()"
      ],
      "execution_count": 0,
      "outputs": []
    },
    {
      "metadata": {
        "id": "1owHZu3KogB6",
        "colab_type": "text"
      },
      "cell_type": "markdown",
      "source": [
        "# Standard"
      ]
    },
    {
      "metadata": {
        "id": "P7759lXJofSB",
        "colab_type": "code",
        "colab": {
          "base_uri": "https://localhost:8080/",
          "height": 34
        },
        "outputId": "43ba76d5-ba2d-4489-c5b2-cc3725ea4558"
      },
      "cell_type": "code",
      "source": [
        "X, y = get_X_y(r=0, b=[1,2], n=10000, seed=0)\n",
        "f = LinearRegression(fit_intercept=False).fit(X, y)\n",
        "f.coef_"
      ],
      "execution_count": 5,
      "outputs": [
        {
          "output_type": "execute_result",
          "data": {
            "text/plain": [
              "array([1.00066028, 2.00168218])"
            ]
          },
          "metadata": {
            "tags": []
          },
          "execution_count": 5
        }
      ]
    },
    {
      "metadata": {
        "id": "4tW1c-sKp0vq",
        "colab_type": "code",
        "colab": {
          "base_uri": "https://localhost:8080/",
          "height": 237
        },
        "outputId": "81a3218e-d9f2-44df-ce2b-72c3b74d5458"
      },
      "cell_type": "code",
      "source": [
        "plot(y, f.predict(X))"
      ],
      "execution_count": 6,
      "outputs": [
        {
          "output_type": "display_data",
          "data": {
            "image/png": "[encoded data removed]",
            "text/plain": [
              "<Figure size 216x216 with 1 Axes>"
            ]
          },
          "metadata": {
            "tags": []
          }
        }
      ]
    },
    {
      "metadata": {
        "id": "07sDRa92o8_g",
        "colab_type": "code",
        "colab": {
          "base_uri": "https://localhost:8080/",
          "height": 34
        },
        "outputId": "c97a256f-a464-414d-8e0c-f99cf1143136"
      },
      "cell_type": "code",
      "source": [
        "X, y = get_X_y(r=0.5, b=[1,2], n=10000, seed=0)\n",
        "f = LinearRegression(fit_intercept=False).fit(X, y)\n",
        "f.coef_"
      ],
      "execution_count": 7,
      "outputs": [
        {
          "output_type": "execute_result",
          "data": {
            "text/plain": [
              "array([0.99793661, 2.00130096])"
            ]
          },
          "metadata": {
            "tags": []
          },
          "execution_count": 7
        }
      ]
    },
    {
      "metadata": {
        "id": "1BRrresgq0Pu",
        "colab_type": "code",
        "colab": {
          "base_uri": "https://localhost:8080/",
          "height": 237
        },
        "outputId": "f411c288-0d94-431a-b507-3e27a432f101"
      },
      "cell_type": "code",
      "source": [
        "plot(y, f.predict(X))"
      ],
      "execution_count": 8,
      "outputs": [
        {
          "output_type": "display_data",
          "data": {
            "image/png": "[encoded data removed]",
            "text/plain": [
              "<Figure size 216x216 with 1 Axes>"
            ]
          },
          "metadata": {
            "tags": []
          }
        }
      ]
    },
    {
      "metadata": {
        "id": "f1BpFUVwpBEu",
        "colab_type": "text"
      },
      "cell_type": "markdown",
      "source": [
        "# Partial"
      ]
    },
    {
      "metadata": {
        "id": "AFDaC0dmpDGl",
        "colab_type": "code",
        "colab": {
          "base_uri": "https://localhost:8080/",
          "height": 34
        },
        "outputId": "fce5f433-1f7d-4ff5-d180-6166f53b602f"
      },
      "cell_type": "code",
      "source": [
        "X, y = get_X_y(r=0, b=[1,3], n=10000, seed=0)\n",
        "X1 = X[:,[0]]\n",
        "f = LinearRegression(fit_intercept=False).fit(X1, y)\n",
        "f.coef_"
      ],
      "execution_count": 9,
      "outputs": [
        {
          "output_type": "execute_result",
          "data": {
            "text/plain": [
              "array([1.01535165])"
            ]
          },
          "metadata": {
            "tags": []
          },
          "execution_count": 9
        }
      ]
    },
    {
      "metadata": {
        "id": "opaZ2yh1q5-i",
        "colab_type": "code",
        "colab": {
          "base_uri": "https://localhost:8080/",
          "height": 237
        },
        "outputId": "ce91ac7c-cf98-4e17-dca3-c9503eb59410"
      },
      "cell_type": "code",
      "source": [
        "plot(y, f.predict(X1))"
      ],
      "execution_count": 10,
      "outputs": [
        {
          "output_type": "display_data",
          "data": {
            "image/png": "[encoded data removed]",
            "text/plain": [
              "<Figure size 216x216 with 1 Axes>"
            ]
          },
          "metadata": {
            "tags": []
          }
        }
      ]
    },
    {
      "metadata": {
        "id": "WmTKFwSuplop",
        "colab_type": "code",
        "colab": {
          "base_uri": "https://localhost:8080/",
          "height": 34
        },
        "outputId": "7acdfb34-2c9e-4c6d-c476-bf9872955e44"
      },
      "cell_type": "code",
      "source": [
        "X, y = get_X_y(r=0.9, b=[1,2], n=10000, seed=0)\n",
        "X1 = X[:,[0]]\n",
        "f = LinearRegression(fit_intercept=False).fit(X1, y)\n",
        "f.coef_"
      ],
      "execution_count": 11,
      "outputs": [
        {
          "output_type": "execute_result",
          "data": {
            "text/plain": [
              "array([2.79860622])"
            ]
          },
          "metadata": {
            "tags": []
          },
          "execution_count": 11
        }
      ]
    },
    {
      "metadata": {
        "id": "XWTQGm1QprQ5",
        "colab_type": "code",
        "colab": {
          "base_uri": "https://localhost:8080/",
          "height": 237
        },
        "outputId": "c9dc6c3a-96ef-4e05-b794-9074459fbe86"
      },
      "cell_type": "code",
      "source": [
        "plot(y, f.predict(X1))"
      ],
      "execution_count": 12,
      "outputs": [
        {
          "output_type": "display_data",
          "data": {
            "image/png": "[encoded data removed]",
            "text/plain": [
              "<Figure size 216x216 with 1 Axes>"
            ]
          },
          "metadata": {
            "tags": []
          }
        }
      ]
    },
    {
      "metadata": {
        "id": "bM55kUDNnODY",
        "colab_type": "text"
      },
      "cell_type": "markdown",
      "source": [
        "### Side note\n",
        "\n",
        "Sometimes it's better when the cloud is more horizontal: when $y$ and $\\hat{y}$ are gaussian distributed and hence most of the points are close to the origin. Even though the cloud looks better when scaling $\\hat{y}$ to make it trend better with $y$, mse is larger because of the higher cost by scaling the points near the center. "
      ]
    },
    {
      "metadata": {
        "id": "ELM3Mwu4nNaE",
        "colab_type": "code",
        "colab": {
          "base_uri": "https://localhost:8080/",
          "height": 310
        },
        "outputId": "be05be0d-b5b3-41f0-d512-745b3af9099b"
      },
      "cell_type": "code",
      "source": [
        "X, y = get_X_y(r=0, b=[1,3], n=200, seed=0)\n",
        "X1 = X[:,[0]]\n",
        "f = LinearRegression(fit_intercept=False).fit(X1, y)\n",
        "yhat = f.predict(X1)\n",
        "\n",
        "lim = [min(list(y)+list(yhat)), max(list(y)+list(yhat))]\n",
        "sns.jointplot(y, yhat, height=4, xlim=lim, ylim=lim)\n",
        "\n",
        "mean_squared_error(y, yhat)"
      ],
      "execution_count": 13,
      "outputs": [
        {
          "output_type": "execute_result",
          "data": {
            "text/plain": [
              "8.651552308067114"
            ]
          },
          "metadata": {
            "tags": []
          },
          "execution_count": 13
        },
        {
          "output_type": "display_data",
          "data": {
            "image/png": "[encoded data removed]",
            "text/plain": [
              "<Figure size 288x288 with 3 Axes>"
            ]
          },
          "metadata": {
            "tags": []
          }
        }
      ]
    },
    {
      "metadata": {
        "id": "zhRW-n_GnaZI",
        "colab_type": "code",
        "colab": {
          "base_uri": "https://localhost:8080/",
          "height": 310
        },
        "outputId": "30e9cabf-f71c-4929-d04b-4815fe1cf0a2"
      },
      "cell_type": "code",
      "source": [
        "yhat2 = f.predict(X1) * 3\n",
        "\n",
        "lim = [min(list(y)+list(yhat2)), max(list(y)+list(yhat2))]\n",
        "sns.jointplot(y, yhat2, height=4, xlim=lim, ylim=lim)\n",
        "\n",
        "mean_squared_error(y, yhat2)"
      ],
      "execution_count": 14,
      "outputs": [
        {
          "output_type": "execute_result",
          "data": {
            "text/plain": [
              "11.694310110137799"
            ]
          },
          "metadata": {
            "tags": []
          },
          "execution_count": 14
        },
        {
          "output_type": "display_data",
          "data": {
            "image/png": "[encoded data removed]",
            "text/plain": [
              "<Figure size 288x288 with 3 Axes>"
            ]
          },
          "metadata": {
            "tags": []
          }
        }
      ]
    },
    {
      "metadata": {
        "id": "fHZCCtIImRcA",
        "colab_type": "text"
      },
      "cell_type": "markdown",
      "source": [
        "# Naive and decorrelated sequential\n",
        "\n"
      ]
    },
    {
      "metadata": {
        "id": "3AecNjnn4S4F",
        "colab_type": "text"
      },
      "cell_type": "markdown",
      "source": [
        "Given an $n$-by-$p$ matrix $X$  ($n>p$), a **projection matrix** that projects any $y \\in \\mathbb{R}^n$ onto the subspace spanned by (the column vectors of) $X$ is:\n",
        "\n",
        "$P = X(X^T X)^{-1} X^T$ (aka the \"*hat matrix*\" in linear regression literature). \n",
        "\n",
        "It's easy to verify: \n",
        "* $PX = X(X^T X)^{-1} X^T X = X$\n",
        "* $PP = X(X^T X)^{-1} X^T X(X^T X)^{-1} X^T = X(X^T X)^{-1} X^T = P$\n",
        "\n",
        "Both are consistent with that $P$ represents a projection operator onto the $X$ subspace.\n",
        "\n",
        "The projection operator to the *orthogonal complement* of $X$ can be represented by $I - P$: \n",
        "\n",
        "* $\\langle P y, (I-P) y \\rangle = y^T P^T (I - P) y = y^T P^T y - y^T P^T P y = y^T P^T y - y^T P P y = 0$ (it makes use of $P^T = (X(X^T X)^{-1} X^T)^T = X (X^T X)^{-1} X^T = P$ and that the inverse of a symmetric matrix is [also symmetric](https://math.stackexchange.com/a/3162436/224349)).\n",
        "\n",
        "---\n",
        "\n",
        "Computing $X(X^T X)^{-1} X^T$: \n",
        "\n",
        "Singular value decomposition: $X = U \\Sigma V^T$ \n",
        "\n",
        "$X(X^T X)^{-1} X^T = U \\Sigma V^T (V \\Sigma U^T U \\Sigma V^T)^{-1} V \\Sigma U^T = U \\Sigma V^T (V \\Sigma^2 V^T)^{-1} V \\Sigma U^T = U \\Sigma V^T V \\Sigma^{-2} V^T V \\Sigma U^T = U U^T$"
      ]
    },
    {
      "metadata": {
        "id": "Mch1zkUc2jOR",
        "colab_type": "code",
        "colab": {}
      },
      "cell_type": "code",
      "source": [
        "def decorrelate(X, k):\n",
        "    \"\"\"Return the last p-k columns of X (that is, X[:,k:]) decorrelated \n",
        "    from the first k columns (that is, X[:,:k]). \n",
        "    \n",
        "    :param X:\n",
        "    :param k: \n",
        "    :return:\n",
        "    \"\"\"\n",
        "    assert k < X.shape[1]\n",
        "    X1, X2 = X[:,:k], X[:,k:]\n",
        "    U, S, Vt = np.linalg.svd(X1, full_matrices=False)\n",
        "    X2_ = X2 - np.dot(np.dot(U, U.T), X2)\n",
        "    return X1, X2, X2_"
      ],
      "execution_count": 0,
      "outputs": []
    },
    {
      "metadata": {
        "id": "BXTkySpOJsT4",
        "colab_type": "code",
        "outputId": "8cee6bd9-385d-4847-f9a5-3bd73d825705",
        "colab": {
          "base_uri": "https://localhost:8080/",
          "height": 34
        }
      },
      "cell_type": "code",
      "source": [
        "X, y = get_X_y(r=0, b=[1,2], n=10000, seed=0)\n",
        "X1, X2, X2_ = decorrelate(X, k=1)\n",
        "\n",
        "f1 = LinearRegression(fit_intercept=False).fit(X1, y)\n",
        "f2 = LinearRegression(fit_intercept=False).fit(X2, y)\n",
        "f2_ = LinearRegression(fit_intercept=False).fit(X2_, y)\n",
        "\n",
        "f1.coef_, f2.coef_, f2_.coef_"
      ],
      "execution_count": 16,
      "outputs": [
        {
          "output_type": "execute_result",
          "data": {
            "text/plain": [
              "(array([1.01045728]), array([2.0066708]), array([2.00168218]))"
            ]
          },
          "metadata": {
            "tags": []
          },
          "execution_count": 16
        }
      ]
    },
    {
      "metadata": {
        "id": "zhGQIdUtzfrV",
        "colab_type": "code",
        "colab": {
          "base_uri": "https://localhost:8080/",
          "height": 237
        },
        "outputId": "3e891786-9aa8-4c25-8682-8d3ba1088b17"
      },
      "cell_type": "code",
      "source": [
        "plot(y, f1.predict(X1)+f2.predict(X2))"
      ],
      "execution_count": 17,
      "outputs": [
        {
          "output_type": "display_data",
          "data": {
            "image/png": "[encoded data removed]",
            "text/plain": [
              "<Figure size 216x216 with 1 Axes>"
            ]
          },
          "metadata": {
            "tags": []
          }
        }
      ]
    },
    {
      "metadata": {
        "id": "1OBHi0UHzmrO",
        "colab_type": "code",
        "colab": {
          "base_uri": "https://localhost:8080/",
          "height": 237
        },
        "outputId": "6e6f6296-d0dd-4b87-96c7-3f9f9c170d1e"
      },
      "cell_type": "code",
      "source": [
        "plot(y, f1.predict(X1)+f2_.predict(X2_))"
      ],
      "execution_count": 18,
      "outputs": [
        {
          "output_type": "display_data",
          "data": {
            "image/png": "[encoded data removed]",
            "text/plain": [
              "<Figure size 216x216 with 1 Axes>"
            ]
          },
          "metadata": {
            "tags": []
          }
        }
      ]
    },
    {
      "metadata": {
        "id": "VoqQq0hCLr1k",
        "colab_type": "code",
        "outputId": "1e82a96b-f97a-42ac-e89c-41ab61c65582",
        "colab": {
          "base_uri": "https://localhost:8080/",
          "height": 34
        }
      },
      "cell_type": "code",
      "source": [
        "X, y = get_X_y(r=0.5, b=[1,2], n=10000, seed=0)\n",
        "X1, X2, X2_ = decorrelate(X, k=1)\n",
        "\n",
        "f1 = LinearRegression(fit_intercept=False).fit(X1, y)\n",
        "f2 = LinearRegression(fit_intercept=False).fit(X2, y)\n",
        "f2_ = LinearRegression(fit_intercept=False).fit(X2_, y)\n",
        "\n",
        "f1.coef_, f2.coef_, f2_.coef_"
      ],
      "execution_count": 19,
      "outputs": [
        {
          "output_type": "execute_result",
          "data": {
            "text/plain": [
              "(array([2.00804018]), array([2.50929077]), array([2.00130096]))"
            ]
          },
          "metadata": {
            "tags": []
          },
          "execution_count": 19
        }
      ]
    },
    {
      "metadata": {
        "id": "kbAsh7hVzpdw",
        "colab_type": "code",
        "colab": {
          "base_uri": "https://localhost:8080/",
          "height": 237
        },
        "outputId": "649d451f-7376-4c7a-9ee2-b044255d64ae"
      },
      "cell_type": "code",
      "source": [
        "plot(y, f1.predict(X1)+f2.predict(X2))"
      ],
      "execution_count": 20,
      "outputs": [
        {
          "output_type": "display_data",
          "data": {
            "image/png": "[encoded data removed]",
            "text/plain": [
              "<Figure size 216x216 with 1 Axes>"
            ]
          },
          "metadata": {
            "tags": []
          }
        }
      ]
    },
    {
      "metadata": {
        "id": "ypdUAnzLJ5eG",
        "colab_type": "code",
        "outputId": "3914b453-5cc7-45de-9523-85d8b4c875da",
        "colab": {
          "base_uri": "https://localhost:8080/",
          "height": 237
        }
      },
      "cell_type": "code",
      "source": [
        "plot(y, f1.predict(X1)+f2_.predict(X2_))"
      ],
      "execution_count": 21,
      "outputs": [
        {
          "output_type": "display_data",
          "data": {
            "image/png": "[encoded data removed]",
            "text/plain": [
              "<Figure size 216x216 with 1 Axes>"
            ]
          },
          "metadata": {
            "tags": []
          }
        }
      ]
    },
    {
      "metadata": {
        "id": "gCIOew1BjaGt",
        "colab_type": "text"
      },
      "cell_type": "markdown",
      "source": [
        "# Residual sequential\n",
        "\n",
        " \n",
        "\n"
      ]
    },
    {
      "metadata": {
        "id": "7rZnIBtrk9Vi",
        "colab_type": "code",
        "colab": {
          "base_uri": "https://localhost:8080/",
          "height": 34
        },
        "outputId": "57b17217-3f7d-4f29-972d-d4109a4eebdc"
      },
      "cell_type": "code",
      "source": [
        "X, y = get_X_y(r=0, b=[1,2], n=10000, seed=0)\n",
        "X1, X2 = X[:,:1], X[:,1:]\n",
        "\n",
        "f1 = LinearRegression(fit_intercept=False).fit(X1, y)\n",
        "res = y - f1.predict(X1)\n",
        "\n",
        "f2 = LinearRegression(fit_intercept=False).fit(X2, res)\n",
        "\n",
        "f1.coef_, f2.coef_"
      ],
      "execution_count": 22,
      "outputs": [
        {
          "output_type": "execute_result",
          "data": {
            "text/plain": [
              "(array([1.01045728]), array([2.00163334]))"
            ]
          },
          "metadata": {
            "tags": []
          },
          "execution_count": 22
        }
      ]
    },
    {
      "metadata": {
        "id": "FQOr7KeE0-S0",
        "colab_type": "code",
        "colab": {
          "base_uri": "https://localhost:8080/",
          "height": 237
        },
        "outputId": "90698343-ba18-4fd0-8683-55083d9d977f"
      },
      "cell_type": "code",
      "source": [
        "plot(y, f1.predict(X1)+f2.predict(X2))"
      ],
      "execution_count": 23,
      "outputs": [
        {
          "output_type": "display_data",
          "data": {
            "image/png": "[encoded data removed]",
            "text/plain": [
              "<Figure size 216x216 with 1 Axes>"
            ]
          },
          "metadata": {
            "tags": []
          }
        }
      ]
    },
    {
      "metadata": {
        "id": "SjmYREfz1KsY",
        "colab_type": "code",
        "colab": {
          "base_uri": "https://localhost:8080/",
          "height": 34
        },
        "outputId": "8f09ca8a-2804-4d61-ae25-623f1bece842"
      },
      "cell_type": "code",
      "source": [
        "X, y = get_X_y(r=0.5, b=[1,3], n=10000, seed=0)\n",
        "X1, X2 = X[:,:1], X[:,1:]\n",
        "\n",
        "f1 = LinearRegression(fit_intercept=False).fit(X1, y)\n",
        "res = y - f1.predict(X1)\n",
        "\n",
        "f2 = LinearRegression(fit_intercept=False).fit(X2, res)\n",
        "\n",
        "f1.coef_, f2.coef_"
      ],
      "execution_count": 24,
      "outputs": [
        {
          "output_type": "execute_result",
          "data": {
            "text/plain": [
              "(array([2.51276366]), array([2.23019316]))"
            ]
          },
          "metadata": {
            "tags": []
          },
          "execution_count": 24
        }
      ]
    },
    {
      "metadata": {
        "id": "G-bOq4V01NEC",
        "colab_type": "code",
        "colab": {
          "base_uri": "https://localhost:8080/",
          "height": 237
        },
        "outputId": "f61aa723-7400-44b6-824e-1da15ad35581"
      },
      "cell_type": "code",
      "source": [
        "plot(y, f1.predict(X1)+f2.predict(X2))"
      ],
      "execution_count": 25,
      "outputs": [
        {
          "output_type": "display_data",
          "data": {
            "image/png": "[encoded data removed]",
            "text/plain": [
              "<Figure size 216x216 with 1 Axes>"
            ]
          },
          "metadata": {
            "tags": []
          }
        }
      ]
    },
    {
      "metadata": {
        "id": "dSFuSvMVoSgs",
        "colab_type": "text"
      },
      "cell_type": "markdown",
      "source": [
        "# Transfer learning\n",
        "\n",
        "* $X_1$ and $y_1$: for learning $f_1$\n",
        "* $X_2$ and $y_2$: for learning $f_2$\n",
        "* $X_3$ and $y_3$: for learning $f$\n",
        "* $X_4$ and $y_4$: for validating $f$"
      ]
    },
    {
      "metadata": {
        "id": "mYhcHqvUoUPA",
        "colab_type": "code",
        "colab": {}
      },
      "cell_type": "code",
      "source": [
        "def get_dat(n1, n2, n3, n4, sigma, r, seed=0):\n",
        "    n = n1 + n2 + n3 + n4\n",
        "    X, y = get_X_y(n=n, p=4, r=r, sigma=sigma, b=[1,1,1,1], seed=seed)\n",
        "\n",
        "    X1, y1 = X[:n1], y[:n1]\n",
        "    X2, y2 = X[n1:n1+n2], y[n1:n1+n2]\n",
        "    X3, y3 = X[n1+n2:n1+n2+n3], y[n1+n2:n1+n2+n3]\n",
        "    X4, y4 = X[n1+n2+n3:n], y[n1+n2+n3:n]\n",
        "    \n",
        "    return X1, y1, X2, y2, X3, y3, X4, y4"
      ],
      "execution_count": 0,
      "outputs": []
    },
    {
      "metadata": {
        "id": "d5ovcUwsxWa3",
        "colab_type": "code",
        "colab": {}
      },
      "cell_type": "code",
      "source": [
        "def get_mses(dat):\n",
        "    X1, y1, X2, y2, X3, y3, X4, y4 = dat\n",
        "    f1 = LinearRegression(fit_intercept=False).fit(X1[:,:2], y1)\n",
        "    f2 = LinearRegression(fit_intercept=False).fit(X2[:,2:], y2)\n",
        "\n",
        "    X3_ = np.stack((f1.predict(X3[:,:2]), f2.predict(X3[:,2:])), axis=1)\n",
        "\n",
        "    f3_ = LinearRegression(fit_intercept=False).fit(X3_, y3)\n",
        "    f3 = LinearRegression(fit_intercept=False).fit(X3, y3)\n",
        "    \n",
        "    mse1_train = mean_squared_error(y3, f3.predict(X3))\n",
        "    mse2_train = mean_squared_error(y3, f3_.predict(X3_))\n",
        "    \n",
        "    X4_ = np.stack((f1.predict(X4[:,:2]), f2.predict(X4[:,2:])), axis=1)\n",
        "    \n",
        "    mse1_test = mean_squared_error(y4, f3.predict(X4))\n",
        "    mse2_test = mean_squared_error(y4, f3_.predict(X4_))\n",
        "    \n",
        "    return mse1_train, mse2_train, mse1_test, mse2_test"
      ],
      "execution_count": 0,
      "outputs": []
    },
    {
      "metadata": {
        "id": "KCcsk39ozn5j",
        "colab_type": "code",
        "colab": {}
      },
      "cell_type": "code",
      "source": [
        "n12s = [100, 10000]\n",
        "sigmas = [0.1, 10]\n",
        "rs = [0, 0.99]\n",
        "\n",
        "sdfs = []\n",
        "\n",
        "for i in range(100):\n",
        "    out = []\n",
        "    for n12, sigma, r in itertools.product(n12s, sigmas, rs):\n",
        "        dat = get_dat(n12, n12, 100, 10000, sigma, r, seed=i)\n",
        "        out.append([n12, sigma, r]+list(get_mses(dat)))\n",
        "\n",
        "    df = pd.DataFrame(out, columns=['n12', 'sigma', 'r', 'train1', 'train2', 'test1', 'test2'])\n",
        "    \n",
        "    df['rtrain'] = df.train2 / df.train1\n",
        "    df['rtest'] = df.test2 / df.test1\n",
        "    \n",
        "    sdf = df.iloc[:,[0,1,2,-2,-1]]\n",
        "    \n",
        "    sdfs.append(sdf)"
      ],
      "execution_count": 0,
      "outputs": []
    },
    {
      "metadata": {
        "id": "Xui62rqxI07w",
        "colab_type": "code",
        "colab": {
          "base_uri": "https://localhost:8080/",
          "height": 297
        },
        "outputId": "da5f172f-5b50-40ad-d8f7-d4620c2fbb7d"
      },
      "cell_type": "code",
      "source": [
        "reduce(lambda x, y: x+y, sdfs) / 100"
      ],
      "execution_count": 29,
      "outputs": [
        {
          "output_type": "execute_result",
          "data": {
            "text/html": [
              "<div>\n",
              "<style scoped>\n",
              "    .dataframe tbody tr th:only-of-type {\n",
              "        vertical-align: middle;\n",
              "    }\n",
              "\n",
              "    .dataframe tbody tr th {\n",
              "        vertical-align: top;\n",
              "    }\n",
              "\n",
              "    .dataframe thead th {\n",
              "        text-align: right;\n",
              "    }\n",
              "</style>\n",
              "<table border=\"1\" class=\"dataframe\">\n",
              "  <thead>\n",
              "    <tr style=\"text-align: right;\">\n",
              "      <th></th>\n",
              "      <th>n12</th>\n",
              "      <th>sigma</th>\n",
              "      <th>r</th>\n",
              "      <th>rtrain</th>\n",
              "      <th>rtest</th>\n",
              "    </tr>\n",
              "  </thead>\n",
              "  <tbody>\n",
              "    <tr>\n",
              "      <th>0</th>\n",
              "      <td>100</td>\n",
              "      <td>0.1</td>\n",
              "      <td>0.00</td>\n",
              "      <td>5.361220</td>\n",
              "      <td>5.060498</td>\n",
              "    </tr>\n",
              "    <tr>\n",
              "      <th>1</th>\n",
              "      <td>100</td>\n",
              "      <td>0.1</td>\n",
              "      <td>0.99</td>\n",
              "      <td>1.044448</td>\n",
              "      <td>1.007996</td>\n",
              "    </tr>\n",
              "    <tr>\n",
              "      <th>2</th>\n",
              "      <td>100</td>\n",
              "      <td>10.0</td>\n",
              "      <td>0.00</td>\n",
              "      <td>1.036157</td>\n",
              "      <td>0.992298</td>\n",
              "    </tr>\n",
              "    <tr>\n",
              "      <th>3</th>\n",
              "      <td>100</td>\n",
              "      <td>10.0</td>\n",
              "      <td>0.99</td>\n",
              "      <td>1.019564</td>\n",
              "      <td>0.983604</td>\n",
              "    </tr>\n",
              "    <tr>\n",
              "      <th>4</th>\n",
              "      <td>10000</td>\n",
              "      <td>0.1</td>\n",
              "      <td>0.00</td>\n",
              "      <td>1.064059</td>\n",
              "      <td>1.028454</td>\n",
              "    </tr>\n",
              "    <tr>\n",
              "      <th>5</th>\n",
              "      <td>10000</td>\n",
              "      <td>0.1</td>\n",
              "      <td>0.99</td>\n",
              "      <td>1.021411</td>\n",
              "      <td>0.980991</td>\n",
              "    </tr>\n",
              "    <tr>\n",
              "      <th>6</th>\n",
              "      <td>10000</td>\n",
              "      <td>10.0</td>\n",
              "      <td>0.00</td>\n",
              "      <td>1.018071</td>\n",
              "      <td>0.983589</td>\n",
              "    </tr>\n",
              "    <tr>\n",
              "      <th>7</th>\n",
              "      <td>10000</td>\n",
              "      <td>10.0</td>\n",
              "      <td>0.99</td>\n",
              "      <td>1.020747</td>\n",
              "      <td>0.980610</td>\n",
              "    </tr>\n",
              "  </tbody>\n",
              "</table>\n",
              "</div>"
            ],
            "text/plain": [
              "     n12  sigma     r    rtrain     rtest\n",
              "0    100    0.1  0.00  5.361220  5.060498\n",
              "1    100    0.1  0.99  1.044448  1.007996\n",
              "2    100   10.0  0.00  1.036157  0.992298\n",
              "3    100   10.0  0.99  1.019564  0.983604\n",
              "4  10000    0.1  0.00  1.064059  1.028454\n",
              "5  10000    0.1  0.99  1.021411  0.980991\n",
              "6  10000   10.0  0.00  1.018071  0.983589\n",
              "7  10000   10.0  0.99  1.020747  0.980610"
            ]
          },
          "metadata": {
            "tags": []
          },
          "execution_count": 29
        }
      ]
    },
    {
      "metadata": {
        "id": "B0Nm62fFUpY0",
        "colab_type": "text"
      },
      "cell_type": "markdown",
      "source": [
        "## Linear model with interaction terms"
      ]
    },
    {
      "metadata": {
        "id": "UFxi9F-vihG8",
        "colab_type": "code",
        "colab": {}
      },
      "cell_type": "code",
      "source": [
        "def get_dat2(n1, n2, n3, n4, sigma, r, seed=0):\n",
        "    n = n1 + n2 + n3 + n4\n",
        "    X = pd.DataFrame(get_X_y(n=n, p=4, r=r, sigma=sigma, seed=seed)[0],\n",
        "                     columns=['x1','x2','x3','x4'])\n",
        "    X = dmatrix('0+(x1+x2+x3+x4)**2', X)\n",
        "    X = pd.DataFrame(X, columns=X.design_info.column_names)\n",
        "    b1 = [1] * 4\n",
        "    b2 = [0.1] * 6\n",
        "    y = np.dot(X.iloc[:,:4], b1) + np.dot(X.iloc[:,4:], b2) +\\\n",
        "        np.random.randn(n)*sigma\n",
        "\n",
        "    X1, y1 = X.iloc[:n1][['x1','x2','x1:x2']], y[:n1]\n",
        "    X2, y2 = X.iloc[n1:n1+n2][['x3','x4','x3:x4']], y[n1:n1+n2]\n",
        "    X3, y3 = X.iloc[n1+n2:n1+n2+n3], y[n1+n2:n1+n2+n3]\n",
        "    X4, y4 = X.iloc[n1+n2+n3:n], y[n1+n2+n3:n]\n",
        "    \n",
        "    return X1, y1, X2, y2, X3, y3, X4, y4"
      ],
      "execution_count": 0,
      "outputs": []
    },
    {
      "metadata": {
        "id": "YurRTA2ttt-1",
        "colab_type": "code",
        "colab": {}
      },
      "cell_type": "code",
      "source": [
        "def get_mses2(dat):\n",
        "    X1, y1, X2, y2, X3, y3, X4, y4 = dat\n",
        "    \n",
        "    f1 = LinearRegression(fit_intercept=False).fit(X1, y1)\n",
        "    f2 = LinearRegression(fit_intercept=False).fit(X2, y2)\n",
        "    \n",
        "    y31_ = f1.predict(X3[['x1','x2','x1:x2']])\n",
        "    y32_ = f2.predict(X3[['x3','x4','x3:x4']])\n",
        "    X3_ = np.stack((y31_, y32_, y31_*y32_), axis=1)\n",
        "\n",
        "    f3_ = LinearRegression(fit_intercept=False).fit(X3_, y3)\n",
        "    f3 = LinearRegression(fit_intercept=False).fit(X3, y3)\n",
        "    \n",
        "    mse1_train = mean_squared_error(y3, f3.predict(X3))\n",
        "    mse2_train = mean_squared_error(y3, f3_.predict(X3_))\n",
        "    \n",
        "    y41_ = f1.predict(X4[['x1','x2','x1:x2']])\n",
        "    y42_ = f2.predict(X4[['x3','x4','x3:x4']])\n",
        "    X4_ = np.stack((y41_, y42_, y41_*y42_), axis=1)\n",
        "    \n",
        "    mse1_test = mean_squared_error(y4, f3.predict(X4))\n",
        "    mse2_test = mean_squared_error(y4, f3_.predict(X4_))\n",
        "    \n",
        "    return mse1_train, mse2_train, mse1_test, mse2_test"
      ],
      "execution_count": 0,
      "outputs": []
    },
    {
      "metadata": {
        "id": "S6wvHJ3ek8gC",
        "colab_type": "code",
        "colab": {}
      },
      "cell_type": "code",
      "source": [
        "n12s = [100, 10000]\n",
        "sigmas = [0.1, 10]\n",
        "rs = [0, 0.99]\n",
        "\n",
        "sdfs = []\n",
        "\n",
        "for i in range(100):\n",
        "    out = []\n",
        "    for n12, sigma, r in itertools.product(n12s, sigmas, rs):\n",
        "        dat = get_dat2(n12, n12, 100, 10000, sigma, r, seed=i)\n",
        "        out.append([n12, sigma, r]+list(get_mses2(dat)))\n",
        "\n",
        "    df = pd.DataFrame(out, columns=['n12','sigma','r','train1','train2','test1','test2'])\n",
        "    \n",
        "    df['rtrain'] = df.train2 / df.train1\n",
        "    df['rtest'] = df.test2 / df.test1\n",
        "    \n",
        "    sdf = df.iloc[:,[0,1,2,-2,-1]]\n",
        "    \n",
        "    sdfs.append(sdf)"
      ],
      "execution_count": 0,
      "outputs": []
    },
    {
      "metadata": {
        "id": "KZjgaPCEi_an",
        "colab_type": "code",
        "colab": {
          "base_uri": "https://localhost:8080/",
          "height": 297
        },
        "outputId": "14f5da5f-430d-4cd2-9ecc-f1ccf7b3db35"
      },
      "cell_type": "code",
      "source": [
        "reduce(lambda x, y: x+y, sdfs) / 100"
      ],
      "execution_count": 36,
      "outputs": [
        {
          "output_type": "execute_result",
          "data": {
            "text/html": [
              "<div>\n",
              "<style scoped>\n",
              "    .dataframe tbody tr th:only-of-type {\n",
              "        vertical-align: middle;\n",
              "    }\n",
              "\n",
              "    .dataframe tbody tr th {\n",
              "        vertical-align: top;\n",
              "    }\n",
              "\n",
              "    .dataframe thead th {\n",
              "        text-align: right;\n",
              "    }\n",
              "</style>\n",
              "<table border=\"1\" class=\"dataframe\">\n",
              "  <thead>\n",
              "    <tr style=\"text-align: right;\">\n",
              "      <th></th>\n",
              "      <th>n12</th>\n",
              "      <th>sigma</th>\n",
              "      <th>r</th>\n",
              "      <th>rtrain</th>\n",
              "      <th>rtest</th>\n",
              "    </tr>\n",
              "  </thead>\n",
              "  <tbody>\n",
              "    <tr>\n",
              "      <th>0</th>\n",
              "      <td>100</td>\n",
              "      <td>0.1</td>\n",
              "      <td>0.00</td>\n",
              "      <td>10.866092</td>\n",
              "      <td>9.683675</td>\n",
              "    </tr>\n",
              "    <tr>\n",
              "      <th>1</th>\n",
              "      <td>100</td>\n",
              "      <td>0.1</td>\n",
              "      <td>0.99</td>\n",
              "      <td>1.119153</td>\n",
              "      <td>0.954626</td>\n",
              "    </tr>\n",
              "    <tr>\n",
              "      <th>2</th>\n",
              "      <td>100</td>\n",
              "      <td>10.0</td>\n",
              "      <td>0.00</td>\n",
              "      <td>1.096019</td>\n",
              "      <td>0.940929</td>\n",
              "    </tr>\n",
              "    <tr>\n",
              "      <th>3</th>\n",
              "      <td>100</td>\n",
              "      <td>10.0</td>\n",
              "      <td>0.99</td>\n",
              "      <td>1.078212</td>\n",
              "      <td>0.930080</td>\n",
              "    </tr>\n",
              "    <tr>\n",
              "      <th>4</th>\n",
              "      <td>10000</td>\n",
              "      <td>0.1</td>\n",
              "      <td>0.00</td>\n",
              "      <td>1.229754</td>\n",
              "      <td>1.021421</td>\n",
              "    </tr>\n",
              "    <tr>\n",
              "      <th>5</th>\n",
              "      <td>10000</td>\n",
              "      <td>0.1</td>\n",
              "      <td>0.99</td>\n",
              "      <td>1.091308</td>\n",
              "      <td>0.910291</td>\n",
              "    </tr>\n",
              "    <tr>\n",
              "      <th>6</th>\n",
              "      <td>10000</td>\n",
              "      <td>10.0</td>\n",
              "      <td>0.00</td>\n",
              "      <td>1.091973</td>\n",
              "      <td>0.905982</td>\n",
              "    </tr>\n",
              "    <tr>\n",
              "      <th>7</th>\n",
              "      <td>10000</td>\n",
              "      <td>10.0</td>\n",
              "      <td>0.99</td>\n",
              "      <td>1.089148</td>\n",
              "      <td>0.908471</td>\n",
              "    </tr>\n",
              "  </tbody>\n",
              "</table>\n",
              "</div>"
            ],
            "text/plain": [
              "     n12  sigma     r     rtrain     rtest\n",
              "0    100    0.1  0.00  10.866092  9.683675\n",
              "1    100    0.1  0.99   1.119153  0.954626\n",
              "2    100   10.0  0.00   1.096019  0.940929\n",
              "3    100   10.0  0.99   1.078212  0.930080\n",
              "4  10000    0.1  0.00   1.229754  1.021421\n",
              "5  10000    0.1  0.99   1.091308  0.910291\n",
              "6  10000   10.0  0.00   1.091973  0.905982\n",
              "7  10000   10.0  0.99   1.089148  0.908471"
            ]
          },
          "metadata": {
            "tags": []
          },
          "execution_count": 36
        }
      ]
    },
    {
      "metadata": {
        "id": "qc-VppmQjihH",
        "colab_type": "code",
        "colab": {}
      },
      "cell_type": "code",
      "source": [
        ""
      ],
      "execution_count": 0,
      "outputs": []
    }
  ]
}