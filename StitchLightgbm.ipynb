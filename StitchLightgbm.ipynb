{
  "nbformat": 4,
  "nbformat_minor": 0,
  "metadata": {
    "colab": {
      "name": "StitchLightgbm.ipynb",
      "provenance": [],
      "authorship_tag": "ABX9TyOLE66aVGucxqCj3mCELf6A",
      "include_colab_link": true
    },
    "kernelspec": {
      "name": "python3",
      "display_name": "Python 3"
    },
    "language_info": {
      "name": "python"
    }
  },
  "cells": [
    {
      "cell_type": "markdown",
      "metadata": {
        "id": "view-in-github",
        "colab_type": "text"
      },
      "source": [
        "<a href=\"https://colab.research.google.com/github/leihuang/scrapbook/blob/master/StitchLightgbm.ipynb\" target=\"_parent\"><img src=\"https://colab.research.google.com/assets/colab-badge.svg\" alt=\"Open In Colab\"/></a>"
      ]
    },
    {
      "cell_type": "code",
      "source": [
        "!pip install lightgbm==3.3.2"
      ],
      "metadata": {
        "colab": {
          "base_uri": "https://localhost:8080/",
          "height": 373
        },
        "id": "4MW5aTSxay4l",
        "outputId": "9e267972-a2d4-402a-810c-0e4feab87bd0"
      },
      "execution_count": 29,
      "outputs": [
        {
          "output_type": "stream",
          "name": "stdout",
          "text": [
            "Collecting lightgbm==3.3.2\n",
            "  Downloading lightgbm-3.3.2-py3-none-manylinux1_x86_64.whl (2.0 MB)\n",
            "\u001b[K     |████████████████████████████████| 2.0 MB 5.0 MB/s \n",
            "\u001b[?25hRequirement already satisfied: scipy in /usr/local/lib/python3.7/dist-packages (from lightgbm==3.3.2) (1.4.1)\n",
            "Requirement already satisfied: scikit-learn!=0.22.0 in /usr/local/lib/python3.7/dist-packages (from lightgbm==3.3.2) (1.0.2)\n",
            "Requirement already satisfied: numpy in /usr/local/lib/python3.7/dist-packages (from lightgbm==3.3.2) (1.21.5)\n",
            "Requirement already satisfied: wheel in /usr/local/lib/python3.7/dist-packages (from lightgbm==3.3.2) (0.37.1)\n",
            "Requirement already satisfied: joblib>=0.11 in /usr/local/lib/python3.7/dist-packages (from scikit-learn!=0.22.0->lightgbm==3.3.2) (1.1.0)\n",
            "Requirement already satisfied: threadpoolctl>=2.0.0 in /usr/local/lib/python3.7/dist-packages (from scikit-learn!=0.22.0->lightgbm==3.3.2) (3.1.0)\n",
            "Installing collected packages: lightgbm\n",
            "  Attempting uninstall: lightgbm\n",
            "    Found existing installation: lightgbm 2.2.3\n",
            "    Uninstalling lightgbm-2.2.3:\n",
            "      Successfully uninstalled lightgbm-2.2.3\n",
            "Successfully installed lightgbm-3.3.2\n"
          ]
        },
        {
          "output_type": "display_data",
          "data": {
            "application/vnd.colab-display-data+json": {
              "pip_warning": {
                "packages": [
                  "lightgbm"
                ]
              }
            }
          },
          "metadata": {}
        }
      ]
    },
    {
      "cell_type": "code",
      "execution_count": 3,
      "metadata": {
        "colab": {
          "base_uri": "https://localhost:8080/",
          "height": 35
        },
        "id": "dt6_Un1NQbx1",
        "outputId": "eb26f067-72f4-48b6-c8ba-c2d035fa968a"
      },
      "outputs": [
        {
          "output_type": "execute_result",
          "data": {
            "text/plain": [
              "'3.3.2'"
            ],
            "application/vnd.google.colaboratory.intrinsic+json": {
              "type": "string"
            }
          },
          "metadata": {},
          "execution_count": 3
        }
      ],
      "source": [
        "import numpy as np\n",
        "import pandas as pd\n",
        "import matplotlib.pyplot as plt\n",
        "from sklearn.datasets import make_classification\n",
        "import lightgbm as lgb\n",
        "\n",
        "\n",
        "lgb.__version__"
      ]
    },
    {
      "cell_type": "code",
      "source": [
        "X1, y1 = make_classification(n_samples=100, n_features=2, n_redundant=0, n_classes=2, random_state=42)\n",
        "X2, y2 = make_classification(n_samples=100, n_features=2, n_redundant=0, n_classes=2, random_state=43)"
      ],
      "metadata": {
        "id": "mHm8o9vBQkj2"
      },
      "execution_count": 4,
      "outputs": []
    },
    {
      "cell_type": "code",
      "source": [
        "fig, ax = plt.subplots()\n",
        "ax.scatter(*X1[y1==0].T, marker='o', color='tab:green')\n",
        "ax.scatter(*X1[y1==1].T, marker='o', color='tab:red')\n",
        "ax.scatter(*X2[y2==0].T, marker='+', color='tab:green')\n",
        "ax.scatter(*X2[y2==1].T, marker='+', color='tab:red')\n",
        "plt.show()"
      ],
      "metadata": {
        "colab": {
          "base_uri": "https://localhost:8080/",
          "height": 265
        },
        "id": "X9sAuJEJQx9P",
        "outputId": "52c3676d-b7f9-4d3d-ca58-b61b13124dc5"
      },
      "execution_count": 8,
      "outputs": [
        {
          "output_type": "display_data",
          "data": {
            "text/plain": [
              "<Figure size 432x288 with 1 Axes>"
            ],
            "image/png": "[encoded data removed]"
          },
          "metadata": {
            "needs_background": "light"
          }
        }
      ]
    },
    {
      "cell_type": "code",
      "source": [
        "hparams = {'n_estimators': 2, 'num_leaves': 3}\n",
        "\n",
        "m1 = lgb.LGBMClassifier(**hparams).fit(X1, y1)\n",
        "m2 = lgb.LGBMClassifier(**hparams).fit(X2, y2)"
      ],
      "metadata": {
        "id": "6I7RhF-0QxH0"
      },
      "execution_count": 16,
      "outputs": []
    },
    {
      "cell_type": "code",
      "source": [
        ""
      ],
      "metadata": {
        "id": "3rbtH_PGcMkJ"
      },
      "execution_count": null,
      "outputs": []
    },
    {
      "cell_type": "code",
      "source": [
        ""
      ],
      "metadata": {
        "id": "DEd6ifc-b8VV"
      },
      "execution_count": null,
      "outputs": []
    },
    {
      "cell_type": "code",
      "source": [
        "m1.booster_.trees_to_dataframe()"
      ],
      "metadata": {
        "colab": {
          "base_uri": "https://localhost:8080/",
          "height": 363
        },
        "id": "rA8O4kFQR_xV",
        "outputId": "e239338c-e0a3-4627-9443-adfb179987da"
      },
      "execution_count": 17,
      "outputs": [
        {
          "output_type": "execute_result",
          "data": {
            "text/plain": [
              "   tree_index  node_depth node_index left_child right_child parent_index  \\\n",
              "0           0           1       0-S0       0-S1        0-L1         None   \n",
              "1           0           2       0-S1       0-L0        0-L2         0-S0   \n",
              "2           0           3       0-L0       None        None         0-S1   \n",
              "3           0           3       0-L2       None        None         0-S1   \n",
              "4           0           2       0-L1       None        None         0-S0   \n",
              "5           1           1       1-S0       1-S1        1-L1         None   \n",
              "6           1           2       1-S1       1-L0        1-L2         1-S0   \n",
              "7           1           3       1-L0       None        None         1-S1   \n",
              "8           1           3       1-L2       None        None         1-S1   \n",
              "9           1           2       1-L1       None        None         1-S0   \n",
              "\n",
              "  split_feature  split_gain  threshold decision_type missing_direction  \\\n",
              "0      Column_0   84.775597   0.202860            <=              left   \n",
              "1      Column_0    0.944056  -1.019291            <=              left   \n",
              "2          None         NaN        NaN          None              None   \n",
              "3          None         NaN        NaN          None              None   \n",
              "4          None         NaN        NaN          None              None   \n",
              "5      Column_0   69.306702   0.202860            <=              left   \n",
              "6      Column_0    0.795244  -1.019291            <=              left   \n",
              "7          None         NaN        NaN          None              None   \n",
              "8          None         NaN        NaN          None              None   \n",
              "9          None         NaN        NaN          None              None   \n",
              "\n",
              "  missing_type     value     weight  count  \n",
              "0         None  0.000000   0.000000    100  \n",
              "1         None -0.176923  13.000000     52  \n",
              "2         None -0.200000   7.500000     30  \n",
              "3         None -0.145455   5.500000     22  \n",
              "4         None  0.191667  12.000000     48  \n",
              "5         None  0.000000   0.000000    100  \n",
              "6         None -0.160558  12.896500     52  \n",
              "7         None -0.181873   7.425497     30  \n",
              "8         None -0.131628   5.471011     22  \n",
              "9         None  0.174148  11.890463     48  "
            ],
            "text/html": [
              "\n",
              "  <div id=\"df-0772c0db-fc1c-435e-8161-892eade728de\">\n",
              "    <div class=\"colab-df-container\">\n",
              "      <div>\n",
              "<style scoped>\n",
              "    .dataframe tbody tr th:only-of-type {\n",
              "        vertical-align: middle;\n",
              "    }\n",
              "\n",
              "    .dataframe tbody tr th {\n",
              "        vertical-align: top;\n",
              "    }\n",
              "\n",
              "    .dataframe thead th {\n",
              "        text-align: right;\n",
              "    }\n",
              "</style>\n",
              "<table border=\"1\" class=\"dataframe\">\n",
              "  <thead>\n",
              "    <tr style=\"text-align: right;\">\n",
              "      <th></th>\n",
              "      <th>tree_index</th>\n",
              "      <th>node_depth</th>\n",
              "      <th>node_index</th>\n",
              "      <th>left_child</th>\n",
              "      <th>right_child</th>\n",
              "      <th>parent_index</th>\n",
              "      <th>split_feature</th>\n",
              "      <th>split_gain</th>\n",
              "      <th>threshold</th>\n",
              "      <th>decision_type</th>\n",
              "      <th>missing_direction</th>\n",
              "      <th>missing_type</th>\n",
              "      <th>value</th>\n",
              "      <th>weight</th>\n",
              "      <th>count</th>\n",
              "    </tr>\n",
              "  </thead>\n",
              "  <tbody>\n",
              "    <tr>\n",
              "      <th>0</th>\n",
              "      <td>0</td>\n",
              "      <td>1</td>\n",
              "      <td>0-S0</td>\n",
              "      <td>0-S1</td>\n",
              "      <td>0-L1</td>\n",
              "      <td>None</td>\n",
              "      <td>Column_0</td>\n",
              "      <td>84.775597</td>\n",
              "      <td>0.202860</td>\n",
              "      <td>&lt;=</td>\n",
              "      <td>left</td>\n",
              "      <td>None</td>\n",
              "      <td>0.000000</td>\n",
              "      <td>0.000000</td>\n",
              "      <td>100</td>\n",
              "    </tr>\n",
              "    <tr>\n",
              "      <th>1</th>\n",
              "      <td>0</td>\n",
              "      <td>2</td>\n",
              "      <td>0-S1</td>\n",
              "      <td>0-L0</td>\n",
              "      <td>0-L2</td>\n",
              "      <td>0-S0</td>\n",
              "      <td>Column_0</td>\n",
              "      <td>0.944056</td>\n",
              "      <td>-1.019291</td>\n",
              "      <td>&lt;=</td>\n",
              "      <td>left</td>\n",
              "      <td>None</td>\n",
              "      <td>-0.176923</td>\n",
              "      <td>13.000000</td>\n",
              "      <td>52</td>\n",
              "    </tr>\n",
              "    <tr>\n",
              "      <th>2</th>\n",
              "      <td>0</td>\n",
              "      <td>3</td>\n",
              "      <td>0-L0</td>\n",
              "      <td>None</td>\n",
              "      <td>None</td>\n",
              "      <td>0-S1</td>\n",
              "      <td>None</td>\n",
              "      <td>NaN</td>\n",
              "      <td>NaN</td>\n",
              "      <td>None</td>\n",
              "      <td>None</td>\n",
              "      <td>None</td>\n",
              "      <td>-0.200000</td>\n",
              "      <td>7.500000</td>\n",
              "      <td>30</td>\n",
              "    </tr>\n",
              "    <tr>\n",
              "      <th>3</th>\n",
              "      <td>0</td>\n",
              "      <td>3</td>\n",
              "      <td>0-L2</td>\n",
              "      <td>None</td>\n",
              "      <td>None</td>\n",
              "      <td>0-S1</td>\n",
              "      <td>None</td>\n",
              "      <td>NaN</td>\n",
              "      <td>NaN</td>\n",
              "      <td>None</td>\n",
              "      <td>None</td>\n",
              "      <td>None</td>\n",
              "      <td>-0.145455</td>\n",
              "      <td>5.500000</td>\n",
              "      <td>22</td>\n",
              "    </tr>\n",
              "    <tr>\n",
              "      <th>4</th>\n",
              "      <td>0</td>\n",
              "      <td>2</td>\n",
              "      <td>0-L1</td>\n",
              "      <td>None</td>\n",
              "      <td>None</td>\n",
              "      <td>0-S0</td>\n",
              "      <td>None</td>\n",
              "      <td>NaN</td>\n",
              "      <td>NaN</td>\n",
              "      <td>None</td>\n",
              "      <td>None</td>\n",
              "      <td>None</td>\n",
              "      <td>0.191667</td>\n",
              "      <td>12.000000</td>\n",
              "      <td>48</td>\n",
              "    </tr>\n",
              "    <tr>\n",
              "      <th>5</th>\n",
              "      <td>1</td>\n",
              "      <td>1</td>\n",
              "      <td>1-S0</td>\n",
              "      <td>1-S1</td>\n",
              "      <td>1-L1</td>\n",
              "      <td>None</td>\n",
              "      <td>Column_0</td>\n",
              "      <td>69.306702</td>\n",
              "      <td>0.202860</td>\n",
              "      <td>&lt;=</td>\n",
              "      <td>left</td>\n",
              "      <td>None</td>\n",
              "      <td>0.000000</td>\n",
              "      <td>0.000000</td>\n",
              "      <td>100</td>\n",
              "    </tr>\n",
              "    <tr>\n",
              "      <th>6</th>\n",
              "      <td>1</td>\n",
              "      <td>2</td>\n",
              "      <td>1-S1</td>\n",
              "      <td>1-L0</td>\n",
              "      <td>1-L2</td>\n",
              "      <td>1-S0</td>\n",
              "      <td>Column_0</td>\n",
              "      <td>0.795244</td>\n",
              "      <td>-1.019291</td>\n",
              "      <td>&lt;=</td>\n",
              "      <td>left</td>\n",
              "      <td>None</td>\n",
              "      <td>-0.160558</td>\n",
              "      <td>12.896500</td>\n",
              "      <td>52</td>\n",
              "    </tr>\n",
              "    <tr>\n",
              "      <th>7</th>\n",
              "      <td>1</td>\n",
              "      <td>3</td>\n",
              "      <td>1-L0</td>\n",
              "      <td>None</td>\n",
              "      <td>None</td>\n",
              "      <td>1-S1</td>\n",
              "      <td>None</td>\n",
              "      <td>NaN</td>\n",
              "      <td>NaN</td>\n",
              "      <td>None</td>\n",
              "      <td>None</td>\n",
              "      <td>None</td>\n",
              "      <td>-0.181873</td>\n",
              "      <td>7.425497</td>\n",
              "      <td>30</td>\n",
              "    </tr>\n",
              "    <tr>\n",
              "      <th>8</th>\n",
              "      <td>1</td>\n",
              "      <td>3</td>\n",
              "      <td>1-L2</td>\n",
              "      <td>None</td>\n",
              "      <td>None</td>\n",
              "      <td>1-S1</td>\n",
              "      <td>None</td>\n",
              "      <td>NaN</td>\n",
              "      <td>NaN</td>\n",
              "      <td>None</td>\n",
              "      <td>None</td>\n",
              "      <td>None</td>\n",
              "      <td>-0.131628</td>\n",
              "      <td>5.471011</td>\n",
              "      <td>22</td>\n",
              "    </tr>\n",
              "    <tr>\n",
              "      <th>9</th>\n",
              "      <td>1</td>\n",
              "      <td>2</td>\n",
              "      <td>1-L1</td>\n",
              "      <td>None</td>\n",
              "      <td>None</td>\n",
              "      <td>1-S0</td>\n",
              "      <td>None</td>\n",
              "      <td>NaN</td>\n",
              "      <td>NaN</td>\n",
              "      <td>None</td>\n",
              "      <td>None</td>\n",
              "      <td>None</td>\n",
              "      <td>0.174148</td>\n",
              "      <td>11.890463</td>\n",
              "      <td>48</td>\n",
              "    </tr>\n",
              "  </tbody>\n",
              "</table>\n",
              "</div>\n",
              "      <button class=\"colab-df-convert\" onclick=\"convertToInteractive('df-0772c0db-fc1c-435e-8161-892eade728de')\"\n",
              "              title=\"Convert this dataframe to an interactive table.\"\n",
              "              style=\"display:none;\">\n",
              "        \n",
              "  <svg xmlns=\"http://www.w3.org/2000/svg\" height=\"24px\"viewBox=\"0 0 24 24\"\n",
              "       width=\"24px\">\n",
              "    <path d=\"M0 0h24v24H0V0z\" fill=\"none\"/>\n",
              "    <path d=\"M18.56 5.44l.94 2.06.94-2.06 2.06-.94-2.06-.94-.94-2.06-.94 2.06-2.06.94zm-11 1L8.5 8.5l.94-2.06 2.06-.94-2.06-.94L8.5 2.5l-.94 2.06-2.06.94zm10 10l.94 2.06.94-2.06 2.06-.94-2.06-.94-.94-2.06-.94 2.06-2.06.94z\"/><path d=\"M17.41 7.96l-1.37-1.37c-.4-.4-.92-.59-1.43-.59-.52 0-1.04.2-1.43.59L10.3 9.45l-7.72 7.72c-.78.78-.78 2.05 0 2.83L4 21.41c.39.39.9.59 1.41.59.51 0 1.02-.2 1.41-.59l7.78-7.78 2.81-2.81c.8-.78.8-2.07 0-2.86zM5.41 20L4 18.59l7.72-7.72 1.47 1.35L5.41 20z\"/>\n",
              "  </svg>\n",
              "      </button>\n",
              "      \n",
              "  <style>\n",
              "    .colab-df-container {\n",
              "      display:flex;\n",
              "      flex-wrap:wrap;\n",
              "      gap: 12px;\n",
              "    }\n",
              "\n",
              "    .colab-df-convert {\n",
              "      background-color: #E8F0FE;\n",
              "      border: none;\n",
              "      border-radius: 50%;\n",
              "      cursor: pointer;\n",
              "      display: none;\n",
              "      fill: #1967D2;\n",
              "      height: 32px;\n",
              "      padding: 0 0 0 0;\n",
              "      width: 32px;\n",
              "    }\n",
              "\n",
              "    .colab-df-convert:hover {\n",
              "      background-color: #E2EBFA;\n",
              "      box-shadow: 0px 1px 2px rgba(60, 64, 67, 0.3), 0px 1px 3px 1px rgba(60, 64, 67, 0.15);\n",
              "      fill: #174EA6;\n",
              "    }\n",
              "\n",
              "    [theme=dark] .colab-df-convert {\n",
              "      background-color: #3B4455;\n",
              "      fill: #D2E3FC;\n",
              "    }\n",
              "\n",
              "    [theme=dark] .colab-df-convert:hover {\n",
              "      background-color: #434B5C;\n",
              "      box-shadow: 0px 1px 3px 1px rgba(0, 0, 0, 0.15);\n",
              "      filter: drop-shadow(0px 1px 2px rgba(0, 0, 0, 0.3));\n",
              "      fill: #FFFFFF;\n",
              "    }\n",
              "  </style>\n",
              "\n",
              "      <script>\n",
              "        const buttonEl =\n",
              "          document.querySelector('#df-0772c0db-fc1c-435e-8161-892eade728de button.colab-df-convert');\n",
              "        buttonEl.style.display =\n",
              "          google.colab.kernel.accessAllowed ? 'block' : 'none';\n",
              "\n",
              "        async function convertToInteractive(key) {\n",
              "          const element = document.querySelector('#df-0772c0db-fc1c-435e-8161-892eade728de');\n",
              "          const dataTable =\n",
              "            await google.colab.kernel.invokeFunction('convertToInteractive',\n",
              "                                                     [key], {});\n",
              "          if (!dataTable) return;\n",
              "\n",
              "          const docLinkHtml = 'Like what you see? Visit the ' +\n",
              "            '<a target=\"_blank\" href=https://colab.research.google.com/notebooks/data_table.ipynb>data table notebook</a>'\n",
              "            + ' to learn more about interactive tables.';\n",
              "          element.innerHTML = '';\n",
              "          dataTable['output_type'] = 'display_data';\n",
              "          await google.colab.output.renderOutput(dataTable, element);\n",
              "          const docLink = document.createElement('div');\n",
              "          docLink.innerHTML = docLinkHtml;\n",
              "          element.appendChild(docLink);\n",
              "        }\n",
              "      </script>\n",
              "    </div>\n",
              "  </div>\n",
              "  "
            ]
          },
          "metadata": {},
          "execution_count": 17
        }
      ]
    },
    {
      "cell_type": "code",
      "source": [
        "m1.booster_.model_to_string()"
      ],
      "metadata": {
        "colab": {
          "base_uri": "https://localhost:8080/",
          "height": 107
        },
        "id": "XF4OGYAlacAo",
        "outputId": "fe305037-7dad-4bdc-aee9-10a02ce86c38"
      },
      "execution_count": 18,
      "outputs": [
        {
          "output_type": "execute_result",
          "data": {
            "text/plain": [
              "'tree\\nversion=v3\\nnum_class=1\\nnum_tree_per_iteration=1\\nlabel_index=0\\nmax_feature_idx=1\\nobjective=binary sigmoid:1\\nfeature_names=Column_0 Column_1\\nfeature_infos=[-2.5859085601762173:2.591239462318816] [-2.5234340710091248:2.3886935264317213]\\ntree_sizes=423 443\\n\\nTree=0\\nnum_leaves=3\\nnum_cat=0\\nsplit_feature=0 0\\nsplit_gain=84.7756 0.944056\\nthreshold=0.20286009456201246 -1.0192912967317491\\ndecision_type=2 2\\nleft_child=1 -1\\nright_child=-2 -3\\nleaf_value=-0.19999999999999998 0.19166666666666668 -0.14545454545454539\\nleaf_weight=7.5 11.999999999999998 5.5000000000000018\\nleaf_count=30 48 22\\ninternal_value=0 -0.176923\\ninternal_weight=0 13\\ninternal_count=100 52\\nis_linear=0\\nshrinkage=0.1\\n\\n\\nTree=1\\nnum_leaves=3\\nnum_cat=0\\nsplit_feature=0 0\\nsplit_gain=69.3067 0.795244\\nthreshold=0.20286009456201246 -1.0192912967317491\\ndecision_type=2 2\\nleft_child=1 -1\\nright_child=-2 -3\\nleaf_value=-0.18187308119005768 0.17414810683367268 -0.13162845592168049\\nleaf_weight=7.4254971742630005 11.890462875366209 5.4710113704204577\\nleaf_count=30 48 22\\ninternal_value=0 -0.160558\\ninternal_weight=0 12.8965\\ninternal_count=100 52\\nis_linear=0\\nshrinkage=0.1\\n\\n\\nend of trees\\n\\nfeature_importances:\\nColumn_0=4\\n\\nparameters:\\n[boosting: gbdt]\\n[objective: binary]\\n[metric: binary_logloss]\\n[tree_learner: serial]\\n[device_type: cpu]\\n[data: ]\\n[valid: ]\\n[num_iterations: 2]\\n[learning_rate: 0.1]\\n[num_leaves: 3]\\n[num_threads: -1]\\n[deterministic: 0]\\n[force_col_wise: 0]\\n[force_row_wise: 0]\\n[histogram_pool_size: -1]\\n[max_depth: -1]\\n[min_data_in_leaf: 20]\\n[min_sum_hessian_in_leaf: 0.001]\\n[bagging_fraction: 1]\\n[pos_bagging_fraction: 1]\\n[neg_bagging_fraction: 1]\\n[bagging_freq: 0]\\n[bagging_seed: 3]\\n[feature_fraction: 1]\\n[feature_fraction_bynode: 1]\\n[feature_fraction_seed: 2]\\n[extra_trees: 0]\\n[extra_seed: 6]\\n[early_stopping_round: 0]\\n[first_metric_only: 0]\\n[max_delta_step: 0]\\n[lambda_l1: 0]\\n[lambda_l2: 0]\\n[linear_lambda: 0]\\n[min_gain_to_split: 0]\\n[drop_rate: 0.1]\\n[max_drop: 50]\\n[skip_drop: 0.5]\\n[xgboost_dart_mode: 0]\\n[uniform_drop: 0]\\n[drop_seed: 4]\\n[top_rate: 0.2]\\n[other_rate: 0.1]\\n[min_data_per_group: 100]\\n[max_cat_threshold: 32]\\n[cat_l2: 10]\\n[cat_smooth: 10]\\n[max_cat_to_onehot: 4]\\n[top_k: 20]\\n[monotone_constraints: ]\\n[monotone_constraints_method: basic]\\n[monotone_penalty: 0]\\n[feature_contri: ]\\n[forcedsplits_filename: ]\\n[refit_decay_rate: 0.9]\\n[cegb_tradeoff: 1]\\n[cegb_penalty_split: 0]\\n[cegb_penalty_feature_lazy: ]\\n[cegb_penalty_feature_coupled: ]\\n[path_smooth: 0]\\n[interaction_constraints: ]\\n[verbosity: -1]\\n[saved_feature_importance_type: 0]\\n[linear_tree: 0]\\n[max_bin: 255]\\n[max_bin_by_feature: ]\\n[min_data_in_bin: 3]\\n[bin_construct_sample_cnt: 200000]\\n[data_random_seed: 1]\\n[is_enable_sparse: 1]\\n[enable_bundle: 1]\\n[use_missing: 1]\\n[zero_as_missing: 0]\\n[feature_pre_filter: 1]\\n[pre_partition: 0]\\n[two_round: 0]\\n[header: 0]\\n[label_column: ]\\n[weight_column: ]\\n[group_column: ]\\n[ignore_column: ]\\n[categorical_feature: ]\\n[forcedbins_filename: ]\\n[precise_float_parser: 0]\\n[objective_seed: 5]\\n[num_class: 1]\\n[is_unbalance: 0]\\n[scale_pos_weight: 1]\\n[sigmoid: 1]\\n[boost_from_average: 1]\\n[reg_sqrt: 0]\\n[alpha: 0.9]\\n[fair_c: 1]\\n[poisson_max_delta_step: 0.7]\\n[tweedie_variance_power: 1.5]\\n[lambdarank_truncation_level: 30]\\n[lambdarank_norm: 1]\\n[label_gain: ]\\n[eval_at: ]\\n[multi_error_top_k: 1]\\n[auc_mu_weights: ]\\n[num_machines: 1]\\n[local_listen_port: 12400]\\n[time_out: 120]\\n[machine_list_filename: ]\\n[machines: ]\\n[gpu_platform_id: -1]\\n[gpu_device_id: -1]\\n[gpu_use_dp: 0]\\n[num_gpu: 1]\\n\\nend of parameters\\n\\npandas_categorical:null\\n'"
            ],
            "application/vnd.google.colaboratory.intrinsic+json": {
              "type": "string"
            }
          },
          "metadata": {},
          "execution_count": 18
        }
      ]
    },
    {
      "cell_type": "code",
      "source": [
        "d = m1.booster_.dump_model()\n",
        "\n",
        "list(d.keys())"
      ],
      "metadata": {
        "colab": {
          "base_uri": "https://localhost:8080/"
        },
        "id": "uV3iwZxzab4-",
        "outputId": "d37d2b0e-eebe-498b-e0ce-7b444dac1994"
      },
      "execution_count": 21,
      "outputs": [
        {
          "output_type": "execute_result",
          "data": {
            "text/plain": [
              "['name',\n",
              " 'version',\n",
              " 'num_class',\n",
              " 'num_tree_per_iteration',\n",
              " 'label_index',\n",
              " 'max_feature_idx',\n",
              " 'objective',\n",
              " 'average_output',\n",
              " 'feature_names',\n",
              " 'monotone_constraints',\n",
              " 'feature_infos',\n",
              " 'tree_info',\n",
              " 'feature_importances',\n",
              " 'pandas_categorical']"
            ]
          },
          "metadata": {},
          "execution_count": 21
        }
      ]
    },
    {
      "cell_type": "code",
      "source": [
        "for i, (k, v) in enumerate(d.items()):\n",
        "    print('{:<30}  {:<12}'.format(k, str(v)))"
      ],
      "metadata": {
        "colab": {
          "base_uri": "https://localhost:8080/"
        },
        "id": "SBf9POBhdLL4",
        "outputId": "6271f921-c540-472d-be72-d91dc2782f2d"
      },
      "execution_count": 39,
      "outputs": [
        {
          "output_type": "stream",
          "name": "stdout",
          "text": [
            "name                            tree        \n",
            "version                         v3          \n",
            "num_class                       1           \n",
            "num_tree_per_iteration          1           \n",
            "label_index                     0           \n",
            "max_feature_idx                 1           \n",
            "objective                       binary sigmoid:1\n",
            "average_output                  False       \n",
            "feature_names                   ['Column_0', 'Column_1']\n",
            "monotone_constraints            []          \n",
            "feature_infos                   {'Column_0': {'min_value': -2.5859085601762173, 'max_value': 2.591239462318816, 'values': []}, 'Column_1': {'min_value': -2.5234340710091248, 'max_value': 2.3886935264317213, 'values': []}}\n",
            "tree_info                       [{'tree_index': 0, 'num_leaves': 3, 'num_cat': 0, 'shrinkage': 0.1, 'tree_structure': {'split_index': 0, 'split_feature': 0, 'split_gain': 84.77559661865234, 'threshold': 0.20286009456201246, 'decision_type': '<=', 'default_left': True, 'missing_type': 'None', 'internal_value': 0, 'internal_weight': 0, 'internal_count': 100, 'left_child': {'split_index': 1, 'split_feature': 0, 'split_gain': 0.94405597448349, 'threshold': -1.0192912967317491, 'decision_type': '<=', 'default_left': True, 'missing_type': 'None', 'internal_value': -0.176923, 'internal_weight': 13, 'internal_count': 52, 'left_child': {'leaf_index': 0, 'leaf_value': -0.19999999999999998, 'leaf_weight': 7.5, 'leaf_count': 30}, 'right_child': {'leaf_index': 2, 'leaf_value': -0.1454545454545454, 'leaf_weight': 5.500000000000002, 'leaf_count': 22}}, 'right_child': {'leaf_index': 1, 'leaf_value': 0.19166666666666668, 'leaf_weight': 11.999999999999998, 'leaf_count': 48}}}, {'tree_index': 1, 'num_leaves': 3, 'num_cat': 0, 'shrinkage': 0.1, 'tree_structure': {'split_index': 0, 'split_feature': 0, 'split_gain': 69.30670166015625, 'threshold': 0.20286009456201246, 'decision_type': '<=', 'default_left': True, 'missing_type': 'None', 'internal_value': 0, 'internal_weight': 0, 'internal_count': 100, 'left_child': {'split_index': 1, 'split_feature': 0, 'split_gain': 0.7952439785003662, 'threshold': -1.0192912967317491, 'decision_type': '<=', 'default_left': True, 'missing_type': 'None', 'internal_value': -0.160558, 'internal_weight': 12.8965, 'internal_count': 52, 'left_child': {'leaf_index': 0, 'leaf_value': -0.18187308119005768, 'leaf_weight': 7.4254971742630005, 'leaf_count': 30}, 'right_child': {'leaf_index': 2, 'leaf_value': -0.1316284559216805, 'leaf_weight': 5.471011370420458, 'leaf_count': 22}}, 'right_child': {'leaf_index': 1, 'leaf_value': 0.17414810683367268, 'leaf_weight': 11.89046287536621, 'leaf_count': 48}}}]\n",
            "feature_importances             {'Column_0': 4}\n",
            "pandas_categorical              None        \n"
          ]
        }
      ]
    },
    {
      "cell_type": "code",
      "source": [
        "d['tree_info'][0]"
      ],
      "metadata": {
        "colab": {
          "base_uri": "https://localhost:8080/"
        },
        "id": "MMQ_bSgpeP4n",
        "outputId": "3a69aeca-5bb6-475e-8bb2-f5416db9c710"
      },
      "execution_count": 40,
      "outputs": [
        {
          "output_type": "execute_result",
          "data": {
            "text/plain": [
              "{'num_cat': 0,\n",
              " 'num_leaves': 3,\n",
              " 'shrinkage': 0.1,\n",
              " 'tree_index': 0,\n",
              " 'tree_structure': {'decision_type': '<=',\n",
              "  'default_left': True,\n",
              "  'internal_count': 100,\n",
              "  'internal_value': 0,\n",
              "  'internal_weight': 0,\n",
              "  'left_child': {'decision_type': '<=',\n",
              "   'default_left': True,\n",
              "   'internal_count': 52,\n",
              "   'internal_value': -0.176923,\n",
              "   'internal_weight': 13,\n",
              "   'left_child': {'leaf_count': 30,\n",
              "    'leaf_index': 0,\n",
              "    'leaf_value': -0.19999999999999998,\n",
              "    'leaf_weight': 7.5},\n",
              "   'missing_type': 'None',\n",
              "   'right_child': {'leaf_count': 22,\n",
              "    'leaf_index': 2,\n",
              "    'leaf_value': -0.1454545454545454,\n",
              "    'leaf_weight': 5.500000000000002},\n",
              "   'split_feature': 0,\n",
              "   'split_gain': 0.94405597448349,\n",
              "   'split_index': 1,\n",
              "   'threshold': -1.0192912967317491},\n",
              "  'missing_type': 'None',\n",
              "  'right_child': {'leaf_count': 48,\n",
              "   'leaf_index': 1,\n",
              "   'leaf_value': 0.19166666666666668,\n",
              "   'leaf_weight': 11.999999999999998},\n",
              "  'split_feature': 0,\n",
              "  'split_gain': 84.77559661865234,\n",
              "  'split_index': 0,\n",
              "  'threshold': 0.20286009456201246}}"
            ]
          },
          "metadata": {},
          "execution_count": 40
        }
      ]
    },
    {
      "cell_type": "code",
      "source": [
        "d['tree_info'][1]"
      ],
      "metadata": {
        "colab": {
          "base_uri": "https://localhost:8080/"
        },
        "id": "1tLorJMYghtY",
        "outputId": "eb499d33-82b2-40d1-99c2-0f332998f9c2"
      },
      "execution_count": 41,
      "outputs": [
        {
          "output_type": "execute_result",
          "data": {
            "text/plain": [
              "{'num_cat': 0,\n",
              " 'num_leaves': 3,\n",
              " 'shrinkage': 0.1,\n",
              " 'tree_index': 1,\n",
              " 'tree_structure': {'decision_type': '<=',\n",
              "  'default_left': True,\n",
              "  'internal_count': 100,\n",
              "  'internal_value': 0,\n",
              "  'internal_weight': 0,\n",
              "  'left_child': {'decision_type': '<=',\n",
              "   'default_left': True,\n",
              "   'internal_count': 52,\n",
              "   'internal_value': -0.160558,\n",
              "   'internal_weight': 12.8965,\n",
              "   'left_child': {'leaf_count': 30,\n",
              "    'leaf_index': 0,\n",
              "    'leaf_value': -0.18187308119005768,\n",
              "    'leaf_weight': 7.4254971742630005},\n",
              "   'missing_type': 'None',\n",
              "   'right_child': {'leaf_count': 22,\n",
              "    'leaf_index': 2,\n",
              "    'leaf_value': -0.1316284559216805,\n",
              "    'leaf_weight': 5.471011370420458},\n",
              "   'split_feature': 0,\n",
              "   'split_gain': 0.7952439785003662,\n",
              "   'split_index': 1,\n",
              "   'threshold': -1.0192912967317491},\n",
              "  'missing_type': 'None',\n",
              "  'right_child': {'leaf_count': 48,\n",
              "   'leaf_index': 1,\n",
              "   'leaf_value': 0.17414810683367268,\n",
              "   'leaf_weight': 11.89046287536621},\n",
              "  'split_feature': 0,\n",
              "  'split_gain': 69.30670166015625,\n",
              "  'split_index': 0,\n",
              "  'threshold': 0.20286009456201246}}"
            ]
          },
          "metadata": {},
          "execution_count": 41
        }
      ]
    }
  ]
}