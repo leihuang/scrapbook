{
  "nbformat": 4,
  "nbformat_minor": 0,
  "metadata": {
    "colab": {
      "name": "1DSeparability.ipynb",
      "provenance": [],
      "authorship_tag": "ABX9TyNbrPSiGvoWqY6y90PwQWXg",
      "include_colab_link": true
    },
    "kernelspec": {
      "name": "python3",
      "display_name": "Python 3"
    },
    "language_info": {
      "name": "python"
    }
  },
  "cells": [
    {
      "cell_type": "markdown",
      "metadata": {
        "id": "view-in-github",
        "colab_type": "text"
      },
      "source": [
        "<a href=\"https://colab.research.google.com/github/leihuang/scrapbook/blob/master/1DSeparability.ipynb\" target=\"_parent\"><img src=\"https://colab.research.google.com/assets/colab-badge.svg\" alt=\"Open In Colab\"/></a>"
      ]
    },
    {
      "cell_type": "markdown",
      "metadata": {
        "id": "6YGDETmDanwb"
      },
      "source": [
        "This notebook reproduces the 1D example in Christopher Olah's blog on [Neural Networks, Manifolds, and Topology](http://colah.github.io/posts/2014-03-NN-Manifolds-Topology/). "
      ]
    },
    {
      "cell_type": "code",
      "metadata": {
        "id": "tKFp74_3ko3r"
      },
      "source": [
        "import numpy as np\n",
        "import pandas as pd\n",
        "import matplotlib.pyplot as plt\n",
        "import tqdm\n",
        "\n",
        "import torch\n",
        "import torch.nn.functional as F\n",
        "import torch.nn as nn\n",
        "from torch.autograd import Variable\n",
        "\n",
        "plt.style.use('ggplot')"
      ],
      "execution_count": 86,
      "outputs": []
    },
    {
      "cell_type": "code",
      "metadata": {
        "id": "zzGHw2qNkq1C"
      },
      "source": [
        "class Model(nn.Module):\n",
        "    def __init__(self):\n",
        "        super(Model, self).__init__()\n",
        "        self.layer1 = nn.Linear(1, 2)\n",
        "        self.layer2 = nn.Linear(2, 1)\n",
        "\n",
        "    def forward(self, x1):\n",
        "        x = torch.sigmoid(self.layer1(x1))\n",
        "        p = torch.sigmoid(self.layer2(x))[:,0]\n",
        "        return p"
      ],
      "execution_count": 87,
      "outputs": []
    },
    {
      "cell_type": "code",
      "metadata": {
        "id": "FKNj4Rmumjpg"
      },
      "source": [
        "model = Model()\n",
        "optimizer = torch.optim.Adam(model.parameters(), lr=0.001)\n",
        "loss_fn = nn.BCELoss()"
      ],
      "execution_count": 91,
      "outputs": []
    },
    {
      "cell_type": "code",
      "metadata": {
        "colab": {
          "base_uri": "https://localhost:8080/",
          "height": 325
        },
        "id": "Qn1VW6vdmpGI",
        "outputId": "f94c5ed7-9d34-4bab-949d-cc2041a42721"
      },
      "source": [
        "EPOCHS = 100\n",
        "SEED = 0\n",
        "\n",
        "np.random.seed(SEED)\n",
        "torch.manual_seed(SEED)\n",
        "\n",
        "eps = 1e-16\n",
        "dx = 0.01\n",
        "\n",
        "xb = np.concatenate((np.arange(-1,-2/3+eps,dx), np.arange(2/3,1+eps,dx)))\n",
        "xr = np.arange(-1/3, 1/3+eps, dx)\n",
        "x = np.concatenate((xb, xr))\n",
        "x = x.reshape(x.shape[0], 1)\n",
        "\n",
        "yb = np.zeros(xb.shape[0])\n",
        "yr = np.ones(xr.shape[0])\n",
        "y = np.concatenate((yb, yr))\n",
        "\n",
        "x = Variable(torch.from_numpy(x)).float()\n",
        "y = Variable(torch.from_numpy(y)).float()\n",
        "\n",
        "nb = len(yb)\n",
        "\n",
        "print(y.sum() / y.shape[0])\n",
        "\n",
        "fig, ax = plt.subplots(figsize=(4,2), dpi=150)\n",
        "ax.plot([-1,1],[0,0], color='grey')\n",
        "ax.scatter(xb, [0]*len(xb), color='b')\n",
        "ax.scatter(xr, [0]*len(xr), color='r')\n",
        "ax.set_yticks([])\n",
        "plt.show()"
      ],
      "execution_count": 92,
      "outputs": [
        {
          "output_type": "stream",
          "text": [
            "tensor(0.4963)\n"
          ],
          "name": "stdout"
        },
        {
          "output_type": "display_data",
          "data": {
            "image/png": "[encoded data removed]",
            "text/plain": [
              "<Figure size 600x300 with 1 Axes>"
            ]
          },
          "metadata": {
            "tags": []
          }
        }
      ]
    },
    {
      "cell_type": "code",
      "metadata": {
        "colab": {
          "base_uri": "https://localhost:8080/",
          "height": 211
        },
        "id": "_yNmwGnilGg1",
        "outputId": "7b77f24a-9471-4510-b0bc-8a6de97d72f1"
      },
      "source": [
        "def get_curve(w1, w2, b):\n",
        "    x1b = 1 / (1 + np.exp(-(w1*xb+b)))\n",
        "    x1r = 1 / (1 + np.exp(-(w1*xr+b)))\n",
        "    x2b = 1 / (1 + np.exp(-(w2*xb+b)))\n",
        "    x2r = 1 / (1 + np.exp(-(w2*xr+b)))\n",
        "    return x1b, x2b, x1r, x2r\n",
        "\n",
        "fig, ax = plt.subplots(figsize=(3,3))\n",
        "x1b, x2b, x1r, x2r = get_curve(1, -3, 3)\n",
        "ax.scatter(x1b, x2b, color='b')\n",
        "ax.scatter(x1r, x2r, color='r')\n",
        "plt.savefig('/content/drive/MyDrive/tmp2.pdf')\n",
        "plt.show()"
      ],
      "execution_count": 93,
      "outputs": [
        {
          "output_type": "display_data",
          "data": {
            "image/png": "[encoded data removed]",
            "text/plain": [
              "<Figure size 216x216 with 1 Axes>"
            ]
          },
          "metadata": {
            "tags": []
          }
        }
      ]
    },
    {
      "cell_type": "code",
      "metadata": {
        "id": "LOVWpgLfSW5J"
      },
      "source": [
        ""
      ],
      "execution_count": 94,
      "outputs": []
    },
    {
      "cell_type": "code",
      "metadata": {
        "id": "UdLRNU59QhHo"
      },
      "source": [
        "# def get_w1_w2_b(x1p, x2p, x1pp, x2pp):\n",
        "#     k = (x2pp - x2p) / (x1pp - x1p)\n",
        "#     w2 = 1\n",
        "#     w1 = -k\n",
        "#     b = k * x1p - x2p\n",
        "#     return w1, w2, b\n",
        "    \n",
        "# model.layer1.weight.data = torch.tensor([[1.], [-3.]], requires_grad=True)\n",
        "# model.layer1.bias.data = torch.tensor([3.,3.], requires_grad=True)\n",
        "\n",
        "# # w1, w2, b = 1, -2.3890, -1.5490\n",
        "# w1, w2, b = get_w1_w2_b(0.925, 1, 0.975, 0.8)\n",
        "# model.layer2.weight.data = torch.tensor([[w1, w2]], requires_grad=True)\n",
        "# model.layer2.bias.data = torch.tensor([b], requires_grad=True)\n",
        "\n",
        "# fig, ax = plt.subplots(figsize=(3,3))\n",
        "# x_ = torch.sigmoid(model.layer1(x)).detach().numpy()\n",
        "# xmin, xmax = x_[:,0].min(), x_[:,0].max()\n",
        "# x1_ = np.linspace(xmin, xmax, 101)\n",
        "# x2_ = -(x1_*w1+b) / w2\n",
        "# ax.scatter(x1_, x2_, color='grey', s=5)\n",
        "# ax.scatter(*x_[:nb].T, color='b')\n",
        "# ax.scatter(*x_[nb:].T, color='r')\n",
        "# plt.show()"
      ],
      "execution_count": 95,
      "outputs": []
    },
    {
      "cell_type": "code",
      "metadata": {
        "id": "foJilgZgoLyA"
      },
      "source": [
        "# from google.colab import drive\n",
        "# drive.mount('/content/drive')"
      ],
      "execution_count": 96,
      "outputs": []
    },
    {
      "cell_type": "code",
      "metadata": {
        "colab": {
          "base_uri": "https://localhost:8080/"
        },
        "id": "ljgLMYVOuC6W",
        "outputId": "bdf03ffb-753b-48cf-c98a-1452a8f4c3d9"
      },
      "source": [
        "def get_parameter_count(model):\n",
        "    return sum(p.numel() for p in model.parameters() if p.requires_grad)\n",
        "\n",
        "get_parameter_count(model)"
      ],
      "execution_count": 97,
      "outputs": [
        {
          "output_type": "execute_result",
          "data": {
            "text/plain": [
              "7"
            ]
          },
          "metadata": {
            "tags": []
          },
          "execution_count": 97
        }
      ]
    },
    {
      "cell_type": "code",
      "metadata": {
        "colab": {
          "base_uri": "https://localhost:8080/"
        },
        "id": "hJ0Wub3pnjaU",
        "outputId": "ea4d11d4-4d81-4137-de11-5d931c79db99"
      },
      "source": [
        "def train_and_validate(model, optimizer, loss_fn, X_train, y_train, X_test, y_test):\n",
        "    \"\"\"\n",
        "    \"\"\"\n",
        "    losss = []\n",
        "    accus = []\n",
        "\n",
        "    for epoch in tqdm.trange(10000):\n",
        "        y_pred = model(X_train)\n",
        "        loss = loss_fn(y_pred, y_train)\n",
        "        losss.append(loss.item())\n",
        "        \n",
        "        optimizer.zero_grad()\n",
        "        loss.backward()\n",
        "        optimizer.step()\n",
        "        \n",
        "        with torch.no_grad():\n",
        "            y_pred = model(X_test)\n",
        "            bools = ((y_pred>0.5).long() == y_test).type(torch.FloatTensor)\n",
        "            accus.append(bools.mean())\n",
        "\n",
        "    return np.array(losss), np.array(accus)\n",
        "\n",
        "losss, accus = train_and_validate(model, optimizer, loss_fn, x, y, x, y)\n"
      ],
      "execution_count": 98,
      "outputs": [
        {
          "output_type": "stream",
          "text": [
            "100%|██████████| 10000/10000 [00:07<00:00, 1309.36it/s]\n"
          ],
          "name": "stderr"
        }
      ]
    },
    {
      "cell_type": "code",
      "metadata": {
        "colab": {
          "base_uri": "https://localhost:8080/",
          "height": 265
        },
        "id": "2dll1Hn-uk4Q",
        "outputId": "028a5fca-9874-495b-be6a-f2adfca47c19"
      },
      "source": [
        "fig, ax = plt.subplots()\n",
        "ax.plot(losss)\n",
        "ax.set_ylabel('Loss')\n",
        "ax2 = ax.twinx()\n",
        "ax2.plot(accus, color='b')\n",
        "ax2.set_ylabel('Accuracy')\n",
        "plt.show()"
      ],
      "execution_count": 99,
      "outputs": [
        {
          "output_type": "display_data",
          "data": {
            "image/png": "[encoded data removed]",
            "text/plain": [
              "<Figure size 432x288 with 2 Axes>"
            ]
          },
          "metadata": {
            "tags": []
          }
        }
      ]
    },
    {
      "cell_type": "code",
      "metadata": {
        "colab": {
          "base_uri": "https://localhost:8080/",
          "height": 211
        },
        "id": "HC8xzcHcKVNH",
        "outputId": "692bdb55-2a33-4f5d-a11f-c60d2c208192"
      },
      "source": [
        "fig, ax = plt.subplots(figsize=(3,3))\n",
        "\n",
        "x_ = torch.sigmoid(model.layer1(x)).detach().numpy()\n",
        "xmin, xmax = x_[:,0].min(), x_[:,0].max()\n",
        "\n",
        "w1, w2 = model.layer2.weight.data.detach().numpy().flatten()\n",
        "b = model.layer2.bias.data.detach().numpy()[0]\n",
        "\n",
        "x1_ = np.linspace(xmin, xmax, 101)\n",
        "x2_ = -(x1_*w1+b) / w2\n",
        "ax.scatter(x1_, x2_, color='grey', s=5)\n",
        "\n",
        "ax.scatter(*x_[:nb].T, color='b')\n",
        "ax.scatter(*x_[nb:].T, color='r')\n",
        "\n",
        "ax.set_ylim(-0.05, 1.05)\n",
        "\n",
        "plt.show()"
      ],
      "execution_count": 110,
      "outputs": [
        {
          "output_type": "display_data",
          "data": {
            "image/png": "[encoded data removed]",
            "text/plain": [
              "<Figure size 216x216 with 1 Axes>"
            ]
          },
          "metadata": {
            "tags": []
          }
        }
      ]
    },
    {
      "cell_type": "code",
      "metadata": {
        "id": "CtRtlFhzQZGn"
      },
      "source": [
        ""
      ],
      "execution_count": 100,
      "outputs": []
    },
    {
      "cell_type": "code",
      "metadata": {
        "id": "8-YU8IDzQUpC"
      },
      "source": [
        ""
      ],
      "execution_count": 100,
      "outputs": []
    },
    {
      "cell_type": "code",
      "metadata": {
        "id": "NxQSAEiWLx7Q"
      },
      "source": [
        ""
      ],
      "execution_count": 100,
      "outputs": []
    }
  ]
}